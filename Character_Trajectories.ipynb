{
 "cells": [
  {
   "cell_type": "code",
   "execution_count": 1,
   "metadata": {},
   "outputs": [],
   "source": [
    "import numpy as np \n",
    "from scipy.io import arff\n",
    "import pandas as pd"
   ]
  },
  {
   "cell_type": "markdown",
   "metadata": {},
   "source": [
    "# Creating Training Data view"
   ]
  },
  {
   "cell_type": "code",
   "execution_count": 2,
   "metadata": {},
   "outputs": [],
   "source": [
    "data1 = arff.loadarff('/Users/arslanaliawan/Desktop/Pre-experiment/Multivariate_arff/CharacterTrajectories/CharacterTrajectoriesDimension1_TRAIN.arff')"
   ]
  },
  {
   "cell_type": "code",
   "execution_count": 3,
   "metadata": {},
   "outputs": [],
   "source": [
    "df_D1 = pd.DataFrame(data1[0])"
   ]
  },
  {
   "cell_type": "code",
   "execution_count": 4,
   "metadata": {},
   "outputs": [],
   "source": [
    "data2 = arff.loadarff('/Users/arslanaliawan/Desktop/Pre-experiment/Multivariate_arff/CharacterTrajectories/CharacterTrajectoriesDimension2_TRAIN.arff')"
   ]
  },
  {
   "cell_type": "code",
   "execution_count": 5,
   "metadata": {},
   "outputs": [],
   "source": [
    "df_D2 = pd.DataFrame(data2[0])"
   ]
  },
  {
   "cell_type": "code",
   "execution_count": 6,
   "metadata": {},
   "outputs": [],
   "source": [
    "data3 = arff.loadarff('/Users/arslanaliawan/Desktop/Pre-experiment/Multivariate_arff/CharacterTrajectories/CharacterTrajectoriesDimension3_TRAIN.arff')"
   ]
  },
  {
   "cell_type": "code",
   "execution_count": 7,
   "metadata": {},
   "outputs": [],
   "source": [
    "df_D3 = pd.DataFrame(data3[0])"
   ]
  },
  {
   "cell_type": "code",
   "execution_count": 8,
   "metadata": {},
   "outputs": [
    {
     "data": {
      "text/plain": [
       "(1422, 183)"
      ]
     },
     "execution_count": 8,
     "metadata": {},
     "output_type": "execute_result"
    }
   ],
   "source": [
    "df_D1.shape"
   ]
  },
  {
   "cell_type": "code",
   "execution_count": 9,
   "metadata": {},
   "outputs": [
    {
     "data": {
      "text/plain": [
       "(1422, 183)"
      ]
     },
     "execution_count": 9,
     "metadata": {},
     "output_type": "execute_result"
    }
   ],
   "source": [
    "df_D2.shape"
   ]
  },
  {
   "cell_type": "code",
   "execution_count": 10,
   "metadata": {},
   "outputs": [
    {
     "data": {
      "text/plain": [
       "(1422, 183)"
      ]
     },
     "execution_count": 10,
     "metadata": {},
     "output_type": "execute_result"
    }
   ],
   "source": [
    "df_D3.shape"
   ]
  },
  {
   "cell_type": "code",
   "execution_count": 11,
   "metadata": {},
   "outputs": [
    {
     "data": {
      "text/html": [
       "<div>\n",
       "<style scoped>\n",
       "    .dataframe tbody tr th:only-of-type {\n",
       "        vertical-align: middle;\n",
       "    }\n",
       "\n",
       "    .dataframe tbody tr th {\n",
       "        vertical-align: top;\n",
       "    }\n",
       "\n",
       "    .dataframe thead th {\n",
       "        text-align: right;\n",
       "    }\n",
       "</style>\n",
       "<table border=\"1\" class=\"dataframe\">\n",
       "  <thead>\n",
       "    <tr style=\"text-align: right;\">\n",
       "      <th></th>\n",
       "      <th>channel_0_0</th>\n",
       "      <th>channel_0_1</th>\n",
       "      <th>channel_0_2</th>\n",
       "      <th>channel_0_3</th>\n",
       "      <th>channel_0_4</th>\n",
       "      <th>channel_0_5</th>\n",
       "      <th>channel_0_6</th>\n",
       "      <th>channel_0_7</th>\n",
       "      <th>channel_0_8</th>\n",
       "      <th>channel_0_9</th>\n",
       "      <th>...</th>\n",
       "      <th>channel_0_173</th>\n",
       "      <th>channel_0_174</th>\n",
       "      <th>channel_0_175</th>\n",
       "      <th>channel_0_176</th>\n",
       "      <th>channel_0_177</th>\n",
       "      <th>channel_0_178</th>\n",
       "      <th>channel_0_179</th>\n",
       "      <th>channel_0_180</th>\n",
       "      <th>channel_0_181</th>\n",
       "      <th>target</th>\n",
       "    </tr>\n",
       "  </thead>\n",
       "  <tbody>\n",
       "    <tr>\n",
       "      <th>0</th>\n",
       "      <td>-0.13015</td>\n",
       "      <td>-0.183121</td>\n",
       "      <td>-0.234104</td>\n",
       "      <td>-0.279929</td>\n",
       "      <td>-0.321851</td>\n",
       "      <td>-0.363783</td>\n",
       "      <td>-0.4095</td>\n",
       "      <td>-0.460814</td>\n",
       "      <td>-0.517526</td>\n",
       "      <td>-0.57844</td>\n",
       "      <td>...</td>\n",
       "      <td>NaN</td>\n",
       "      <td>NaN</td>\n",
       "      <td>NaN</td>\n",
       "      <td>NaN</td>\n",
       "      <td>NaN</td>\n",
       "      <td>NaN</td>\n",
       "      <td>NaN</td>\n",
       "      <td>NaN</td>\n",
       "      <td>NaN</td>\n",
       "      <td>b'1'</td>\n",
       "    </tr>\n",
       "  </tbody>\n",
       "</table>\n",
       "<p>1 rows × 183 columns</p>\n",
       "</div>"
      ],
      "text/plain": [
       "   channel_0_0  channel_0_1  channel_0_2  channel_0_3  channel_0_4  \\\n",
       "0     -0.13015    -0.183121    -0.234104    -0.279929    -0.321851   \n",
       "\n",
       "   channel_0_5  channel_0_6  channel_0_7  channel_0_8  channel_0_9  ...  \\\n",
       "0    -0.363783      -0.4095    -0.460814    -0.517526     -0.57844  ...   \n",
       "\n",
       "   channel_0_173  channel_0_174  channel_0_175  channel_0_176  channel_0_177  \\\n",
       "0            NaN            NaN            NaN            NaN            NaN   \n",
       "\n",
       "   channel_0_178  channel_0_179  channel_0_180  channel_0_181  target  \n",
       "0            NaN            NaN            NaN            NaN    b'1'  \n",
       "\n",
       "[1 rows x 183 columns]"
      ]
     },
     "execution_count": 11,
     "metadata": {},
     "output_type": "execute_result"
    }
   ],
   "source": [
    "df_D1.head(1)"
   ]
  },
  {
   "cell_type": "code",
   "execution_count": 12,
   "metadata": {},
   "outputs": [
    {
     "data": {
      "text/plain": [
       "array([b'1', b'2', b'3', b'4', b'5', b'6', b'7', b'8', b'9', b'10', b'11',\n",
       "       b'12', b'13', b'14', b'15', b'16', b'17', b'18', b'19', b'20'],\n",
       "      dtype=object)"
      ]
     },
     "execution_count": 12,
     "metadata": {},
     "output_type": "execute_result"
    }
   ],
   "source": [
    "df_D1.target.unique()"
   ]
  },
  {
   "cell_type": "code",
   "execution_count": 13,
   "metadata": {},
   "outputs": [
    {
     "data": {
      "text/html": [
       "<div>\n",
       "<style scoped>\n",
       "    .dataframe tbody tr th:only-of-type {\n",
       "        vertical-align: middle;\n",
       "    }\n",
       "\n",
       "    .dataframe tbody tr th {\n",
       "        vertical-align: top;\n",
       "    }\n",
       "\n",
       "    .dataframe thead th {\n",
       "        text-align: right;\n",
       "    }\n",
       "</style>\n",
       "<table border=\"1\" class=\"dataframe\">\n",
       "  <thead>\n",
       "    <tr style=\"text-align: right;\">\n",
       "      <th></th>\n",
       "      <th>channel_1_0</th>\n",
       "      <th>channel_1_1</th>\n",
       "      <th>channel_1_2</th>\n",
       "      <th>channel_1_3</th>\n",
       "      <th>channel_1_4</th>\n",
       "      <th>channel_1_5</th>\n",
       "      <th>channel_1_6</th>\n",
       "      <th>channel_1_7</th>\n",
       "      <th>channel_1_8</th>\n",
       "      <th>channel_1_9</th>\n",
       "      <th>...</th>\n",
       "      <th>channel_1_173</th>\n",
       "      <th>channel_1_174</th>\n",
       "      <th>channel_1_175</th>\n",
       "      <th>channel_1_176</th>\n",
       "      <th>channel_1_177</th>\n",
       "      <th>channel_1_178</th>\n",
       "      <th>channel_1_179</th>\n",
       "      <th>channel_1_180</th>\n",
       "      <th>channel_1_181</th>\n",
       "      <th>target</th>\n",
       "    </tr>\n",
       "  </thead>\n",
       "  <tbody>\n",
       "    <tr>\n",
       "      <th>0</th>\n",
       "      <td>0.071323</td>\n",
       "      <td>0.083973</td>\n",
       "      <td>0.085534</td>\n",
       "      <td>0.078218</td>\n",
       "      <td>0.067093</td>\n",
       "      <td>0.05552</td>\n",
       "      <td>0.043275</td>\n",
       "      <td>0.027787</td>\n",
       "      <td>0.005932</td>\n",
       "      <td>-0.025043</td>\n",
       "      <td>...</td>\n",
       "      <td>NaN</td>\n",
       "      <td>NaN</td>\n",
       "      <td>NaN</td>\n",
       "      <td>NaN</td>\n",
       "      <td>NaN</td>\n",
       "      <td>NaN</td>\n",
       "      <td>NaN</td>\n",
       "      <td>NaN</td>\n",
       "      <td>NaN</td>\n",
       "      <td>b'1'</td>\n",
       "    </tr>\n",
       "  </tbody>\n",
       "</table>\n",
       "<p>1 rows × 183 columns</p>\n",
       "</div>"
      ],
      "text/plain": [
       "   channel_1_0  channel_1_1  channel_1_2  channel_1_3  channel_1_4  \\\n",
       "0     0.071323     0.083973     0.085534     0.078218     0.067093   \n",
       "\n",
       "   channel_1_5  channel_1_6  channel_1_7  channel_1_8  channel_1_9  ...  \\\n",
       "0      0.05552     0.043275     0.027787     0.005932    -0.025043  ...   \n",
       "\n",
       "   channel_1_173  channel_1_174  channel_1_175  channel_1_176  channel_1_177  \\\n",
       "0            NaN            NaN            NaN            NaN            NaN   \n",
       "\n",
       "   channel_1_178  channel_1_179  channel_1_180  channel_1_181  target  \n",
       "0            NaN            NaN            NaN            NaN    b'1'  \n",
       "\n",
       "[1 rows x 183 columns]"
      ]
     },
     "execution_count": 13,
     "metadata": {},
     "output_type": "execute_result"
    }
   ],
   "source": [
    "df_D2.head(1)"
   ]
  },
  {
   "cell_type": "code",
   "execution_count": 14,
   "metadata": {},
   "outputs": [
    {
     "data": {
      "text/plain": [
       "array([b'1', b'2', b'3', b'4', b'5', b'6', b'7', b'8', b'9', b'10', b'11',\n",
       "       b'12', b'13', b'14', b'15', b'16', b'17', b'18', b'19', b'20'],\n",
       "      dtype=object)"
      ]
     },
     "execution_count": 14,
     "metadata": {},
     "output_type": "execute_result"
    }
   ],
   "source": [
    "df_D2.target.unique()"
   ]
  },
  {
   "cell_type": "code",
   "execution_count": 15,
   "metadata": {},
   "outputs": [
    {
     "data": {
      "text/html": [
       "<div>\n",
       "<style scoped>\n",
       "    .dataframe tbody tr th:only-of-type {\n",
       "        vertical-align: middle;\n",
       "    }\n",
       "\n",
       "    .dataframe tbody tr th {\n",
       "        vertical-align: top;\n",
       "    }\n",
       "\n",
       "    .dataframe thead th {\n",
       "        text-align: right;\n",
       "    }\n",
       "</style>\n",
       "<table border=\"1\" class=\"dataframe\">\n",
       "  <thead>\n",
       "    <tr style=\"text-align: right;\">\n",
       "      <th></th>\n",
       "      <th>channel_2_0</th>\n",
       "      <th>channel_2_1</th>\n",
       "      <th>channel_2_2</th>\n",
       "      <th>channel_2_3</th>\n",
       "      <th>channel_2_4</th>\n",
       "      <th>channel_2_5</th>\n",
       "      <th>channel_2_6</th>\n",
       "      <th>channel_2_7</th>\n",
       "      <th>channel_2_8</th>\n",
       "      <th>channel_2_9</th>\n",
       "      <th>...</th>\n",
       "      <th>channel_2_173</th>\n",
       "      <th>channel_2_174</th>\n",
       "      <th>channel_2_175</th>\n",
       "      <th>channel_2_176</th>\n",
       "      <th>channel_2_177</th>\n",
       "      <th>channel_2_178</th>\n",
       "      <th>channel_2_179</th>\n",
       "      <th>channel_2_180</th>\n",
       "      <th>channel_2_181</th>\n",
       "      <th>target</th>\n",
       "    </tr>\n",
       "  </thead>\n",
       "  <tbody>\n",
       "    <tr>\n",
       "      <th>0</th>\n",
       "      <td>0.899306</td>\n",
       "      <td>1.157239</td>\n",
       "      <td>1.320469</td>\n",
       "      <td>1.369472</td>\n",
       "      <td>1.323889</td>\n",
       "      <td>1.221704</td>\n",
       "      <td>1.098215</td>\n",
       "      <td>0.979016</td>\n",
       "      <td>0.880755</td>\n",
       "      <td>0.806413</td>\n",
       "      <td>...</td>\n",
       "      <td>NaN</td>\n",
       "      <td>NaN</td>\n",
       "      <td>NaN</td>\n",
       "      <td>NaN</td>\n",
       "      <td>NaN</td>\n",
       "      <td>NaN</td>\n",
       "      <td>NaN</td>\n",
       "      <td>NaN</td>\n",
       "      <td>NaN</td>\n",
       "      <td>b'1'</td>\n",
       "    </tr>\n",
       "  </tbody>\n",
       "</table>\n",
       "<p>1 rows × 183 columns</p>\n",
       "</div>"
      ],
      "text/plain": [
       "   channel_2_0  channel_2_1  channel_2_2  channel_2_3  channel_2_4  \\\n",
       "0     0.899306     1.157239     1.320469     1.369472     1.323889   \n",
       "\n",
       "   channel_2_5  channel_2_6  channel_2_7  channel_2_8  channel_2_9  ...  \\\n",
       "0     1.221704     1.098215     0.979016     0.880755     0.806413  ...   \n",
       "\n",
       "   channel_2_173  channel_2_174  channel_2_175  channel_2_176  channel_2_177  \\\n",
       "0            NaN            NaN            NaN            NaN            NaN   \n",
       "\n",
       "   channel_2_178  channel_2_179  channel_2_180  channel_2_181  target  \n",
       "0            NaN            NaN            NaN            NaN    b'1'  \n",
       "\n",
       "[1 rows x 183 columns]"
      ]
     },
     "execution_count": 15,
     "metadata": {},
     "output_type": "execute_result"
    }
   ],
   "source": [
    "df_D3.head(1)"
   ]
  },
  {
   "cell_type": "code",
   "execution_count": 16,
   "metadata": {},
   "outputs": [
    {
     "data": {
      "text/plain": [
       "array([b'1', b'2', b'3', b'4', b'5', b'6', b'7', b'8', b'9', b'10', b'11',\n",
       "       b'12', b'13', b'14', b'15', b'16', b'17', b'18', b'19', b'20'],\n",
       "      dtype=object)"
      ]
     },
     "execution_count": 16,
     "metadata": {},
     "output_type": "execute_result"
    }
   ],
   "source": [
    "df_D3.target.unique()"
   ]
  },
  {
   "cell_type": "code",
   "execution_count": 17,
   "metadata": {},
   "outputs": [],
   "source": [
    "df_D1 = df_D1.fillna(0)\n",
    "df_D2 = df_D2.fillna(0)\n",
    "df_D3 = df_D3.fillna(0)"
   ]
  },
  {
   "cell_type": "code",
   "execution_count": 18,
   "metadata": {},
   "outputs": [],
   "source": [
    "df_D1_T = df_D1.head(1).T"
   ]
  },
  {
   "cell_type": "code",
   "execution_count": 19,
   "metadata": {},
   "outputs": [],
   "source": [
    "df_D2_T = df_D2.head(1).T"
   ]
  },
  {
   "cell_type": "code",
   "execution_count": 20,
   "metadata": {},
   "outputs": [],
   "source": [
    "df_D3_T = df_D3.head(1).T"
   ]
  },
  {
   "cell_type": "code",
   "execution_count": 21,
   "metadata": {},
   "outputs": [],
   "source": [
    "arr1 = df_D1_T.to_numpy()\n",
    "arr2 = df_D2_T.to_numpy()\n",
    "arr3 = df_D3_T.to_numpy()"
   ]
  },
  {
   "cell_type": "code",
   "execution_count": 22,
   "metadata": {},
   "outputs": [],
   "source": [
    "finalarray_training_data = np.concatenate((arr1, arr2),axis=1)"
   ]
  },
  {
   "cell_type": "code",
   "execution_count": 23,
   "metadata": {},
   "outputs": [],
   "source": [
    "finalarray_training_data = np.concatenate((finalarray_training_data, arr3),axis=1)"
   ]
  },
  {
   "cell_type": "code",
   "execution_count": 24,
   "metadata": {},
   "outputs": [
    {
     "data": {
      "text/plain": [
       "array([[-0.13015, 0.071323, 0.899306],\n",
       "       [-0.183121, 0.083973, 1.157239],\n",
       "       [-0.234104, 0.085534, 1.320469],\n",
       "       [-0.279929, 0.078218, 1.369472],\n",
       "       [-0.321851, 0.067093, 1.323889],\n",
       "       [-0.363783, 0.05552, 1.221704],\n",
       "       [-0.4095, 0.043275, 1.098215],\n",
       "       [-0.460814, 0.027787, 0.979016],\n",
       "       [-0.517526, 0.005932, 0.880755],\n",
       "       [-0.57844, -0.025043, 0.806413],\n",
       "       [-0.642335, -0.066984, 0.742138],\n",
       "       [-0.708369, -0.120483, 0.670647],\n",
       "       [-0.776037, -0.185363, 0.589337],\n",
       "       [-0.844799, -0.261646, 0.509148],\n",
       "       [-0.913359, -0.349528, 0.440515],\n",
       "       [-0.978872, -0.448135, 0.3894],\n",
       "       [-1.036865, -0.554524, 0.359572],\n",
       "       [-1.082398, -0.663956, 0.344563],\n",
       "       [-1.111614, -0.770916, 0.322058],\n",
       "       [-1.122168, -0.870061, 0.271962],\n",
       "       [-1.112322, -0.95681, 0.199647],\n",
       "       [-1.080184, -1.027564, 0.130489],\n",
       "       [-1.024236, -1.079644, 0.084365],\n",
       "       [-0.944604, -1.111149, 0.064815],\n",
       "       [-0.843469, -1.121016, 0.066682],\n",
       "       [-0.724226, -1.109332, 0.081823],\n",
       "       [-0.590649, -1.077545, 0.100159],\n",
       "       [-0.446936, -1.028084, 0.115267],\n",
       "       [-0.297932, -0.963634, 0.128232],\n",
       "       [-0.148794, -0.886796, 0.139693],\n",
       "       [-0.004546, -0.800359, 0.142104],\n",
       "       [0.13014, -0.707551, 0.129275],\n",
       "       [0.251447, -0.611728, 0.109656],\n",
       "       [0.357344, -0.515526, 0.097602],\n",
       "       [0.4482, -0.420019, 0.093847],\n",
       "       [0.526596, -0.324393, 0.087839],\n",
       "       [0.596567, -0.226183, 0.077505],\n",
       "       [0.662582, -0.121687, 0.072468],\n",
       "       [0.728357, -0.006563, 0.076804],\n",
       "       [0.795736, 0.122791, 0.081033],\n",
       "       [0.864318, 0.267273, 0.074897],\n",
       "       [0.932146, 0.424113, 0.060028],\n",
       "       [0.996691, 0.587763, 0.045914],\n",
       "       [1.055067, 0.751332, 0.038271],\n",
       "       [1.103557, 0.907227, 0.035234],\n",
       "       [1.137583, 1.047542, 0.031682],\n",
       "       [1.152673, 1.165035, 0.024566],\n",
       "       [1.145736, 1.254235, 0.017579],\n",
       "       [1.115602, 1.31195, 0.021401],\n",
       "       [1.062653, 1.337243, 0.043884],\n",
       "       [0.988309, 1.33119, 0.081304],\n",
       "       [0.895041, 1.296259, 0.127452],\n",
       "       [0.786664, 1.235296, 0.187028],\n",
       "       [0.668248, 1.150822, 0.265426],\n",
       "       [0.545463, 1.045354, 0.347009],\n",
       "       [0.423899, 0.922427, 0.399681],\n",
       "       [0.308732, 0.787098, 0.402621],\n",
       "       [0.203901, 0.645131, 0.358832],\n",
       "       [0.11002, 0.501353, 0.284243],\n",
       "       [0.023092, 0.35853, 0.197375],\n",
       "       [-0.062932, 0.217461, 0.117088],\n",
       "       [-0.151422, 0.077811, 0.057831],\n",
       "       [-0.241478, -0.061271, 0.023321],\n",
       "       [-0.33061, -0.201091, 0.007578],\n",
       "       [-0.417377, -0.343313, 0.001967],\n",
       "       [-0.501012, -0.489118, 0.000406],\n",
       "       [-0.579531, -0.637844, 6.6e-05],\n",
       "       [-0.648897, -0.786177, 9e-06],\n",
       "       [-0.703882, -0.92854, 1e-06],\n",
       "       [-0.739634, -1.058438, 0.0],\n",
       "       [-0.752814, -1.169921, 0.0],\n",
       "       [-0.7417, -1.258418, 0.0],\n",
       "       [-0.705559, -1.320743, 0.0],\n",
       "       [-0.644223, -1.354655, 0.0],\n",
       "       [-0.558613, -1.358592, 0.0],\n",
       "       [-0.451547, -1.331774, 0.0],\n",
       "       [-0.32764, -1.274499, 0.0],\n",
       "       [-0.192084, -1.188409, 0.0],\n",
       "       [-0.04927, -1.076564, 0.0],\n",
       "       [0.097554, -0.943216, 0.0],\n",
       "       [0.24556, -0.793123, 0.0],\n",
       "       [0.392077, -0.63058, 0.0],\n",
       "       [0.535592, -0.45867, -3e-06],\n",
       "       [0.67652, -0.27926, -2.7e-05],\n",
       "       [0.816243, -0.093793, -0.000211],\n",
       "       [0.955036, 0.095611, -0.001319],\n",
       "       [1.090303, 0.285256, -0.006554],\n",
       "       [1.215929, 0.469446, -0.026126],\n",
       "       [1.323005, 0.640665, -0.084246],\n",
       "       [1.401796, 0.790455, -0.222055],\n",
       "       [1.44428, 0.910914, -0.484459],\n",
       "       [1.44668, 0.996456, -0.887331],\n",
       "       [1.411775, 1.045153, -1.384746],\n",
       "       [1.350204, 1.059351, -1.86823],\n",
       "       [1.278833, 1.045773, -2.211818],\n",
       "       [1.21508, 1.015013, -2.341004],\n",
       "       [1.169886, 0.979411, -2.2767],\n",
       "       [1.144527, 0.949175, -2.114594],\n",
       "       [1.133459, 0.929101, -1.955706],\n",
       "       [1.129829, 0.918521, -1.851204],\n",
       "       [1.129001, 0.914082, -1.800501],\n",
       "       [1.128902, 0.912602, -1.781772],\n",
       "       [1.128912, 0.91221, -1.776437],\n",
       "       [1.12892, 0.912128, -1.775257],\n",
       "       [1.128922, 0.912115, -1.775054],\n",
       "       [1.128923, 0.912113, -1.775027],\n",
       "       [1.128921, 0.912112, -1.775021],\n",
       "       [1.128906, 0.912099, -1.774998],\n",
       "       [1.128793, 0.912008, -1.77482],\n",
       "       [1.128121, 0.911465, -1.773763],\n",
       "       [1.124982, 0.908929, -1.768828],\n",
       "       [1.113458, 0.899618, -1.750708],\n",
       "       [1.08015, 0.872707, -1.698337],\n",
       "       [1.00425, 0.811384, -1.578999],\n",
       "       [0.867711, 0.701067, -1.364316],\n",
       "       [0.673591, 0.544228, -1.059098],\n",
       "       [0.0, 0.0, 0.0],\n",
       "       [0.0, 0.0, 0.0],\n",
       "       [0.0, 0.0, 0.0],\n",
       "       [0.0, 0.0, 0.0],\n",
       "       [0.0, 0.0, 0.0],\n",
       "       [0.0, 0.0, 0.0],\n",
       "       [0.0, 0.0, 0.0],\n",
       "       [0.0, 0.0, 0.0],\n",
       "       [0.0, 0.0, 0.0],\n",
       "       [0.0, 0.0, 0.0],\n",
       "       [0.0, 0.0, 0.0],\n",
       "       [0.0, 0.0, 0.0],\n",
       "       [0.0, 0.0, 0.0],\n",
       "       [0.0, 0.0, 0.0],\n",
       "       [0.0, 0.0, 0.0],\n",
       "       [0.0, 0.0, 0.0],\n",
       "       [0.0, 0.0, 0.0],\n",
       "       [0.0, 0.0, 0.0],\n",
       "       [0.0, 0.0, 0.0],\n",
       "       [0.0, 0.0, 0.0],\n",
       "       [0.0, 0.0, 0.0],\n",
       "       [0.0, 0.0, 0.0],\n",
       "       [0.0, 0.0, 0.0],\n",
       "       [0.0, 0.0, 0.0],\n",
       "       [0.0, 0.0, 0.0],\n",
       "       [0.0, 0.0, 0.0],\n",
       "       [0.0, 0.0, 0.0],\n",
       "       [0.0, 0.0, 0.0],\n",
       "       [0.0, 0.0, 0.0],\n",
       "       [0.0, 0.0, 0.0],\n",
       "       [0.0, 0.0, 0.0],\n",
       "       [0.0, 0.0, 0.0],\n",
       "       [0.0, 0.0, 0.0],\n",
       "       [0.0, 0.0, 0.0],\n",
       "       [0.0, 0.0, 0.0],\n",
       "       [0.0, 0.0, 0.0],\n",
       "       [0.0, 0.0, 0.0],\n",
       "       [0.0, 0.0, 0.0],\n",
       "       [0.0, 0.0, 0.0],\n",
       "       [0.0, 0.0, 0.0],\n",
       "       [0.0, 0.0, 0.0],\n",
       "       [0.0, 0.0, 0.0],\n",
       "       [0.0, 0.0, 0.0],\n",
       "       [0.0, 0.0, 0.0],\n",
       "       [0.0, 0.0, 0.0],\n",
       "       [0.0, 0.0, 0.0],\n",
       "       [0.0, 0.0, 0.0],\n",
       "       [0.0, 0.0, 0.0],\n",
       "       [0.0, 0.0, 0.0],\n",
       "       [0.0, 0.0, 0.0],\n",
       "       [0.0, 0.0, 0.0],\n",
       "       [0.0, 0.0, 0.0],\n",
       "       [0.0, 0.0, 0.0],\n",
       "       [0.0, 0.0, 0.0],\n",
       "       [0.0, 0.0, 0.0],\n",
       "       [0.0, 0.0, 0.0],\n",
       "       [0.0, 0.0, 0.0],\n",
       "       [0.0, 0.0, 0.0],\n",
       "       [0.0, 0.0, 0.0],\n",
       "       [0.0, 0.0, 0.0],\n",
       "       [0.0, 0.0, 0.0],\n",
       "       [0.0, 0.0, 0.0],\n",
       "       [0.0, 0.0, 0.0],\n",
       "       [0.0, 0.0, 0.0],\n",
       "       [0.0, 0.0, 0.0],\n",
       "       [0.0, 0.0, 0.0],\n",
       "       [b'1', b'1', b'1']], dtype=object)"
      ]
     },
     "execution_count": 24,
     "metadata": {},
     "output_type": "execute_result"
    }
   ],
   "source": [
    "finalarray_training_data"
   ]
  },
  {
   "cell_type": "code",
   "execution_count": 25,
   "metadata": {},
   "outputs": [
    {
     "data": {
      "text/plain": [
       "array([-0.13015, 0.071323, 0.899306], dtype=object)"
      ]
     },
     "execution_count": 25,
     "metadata": {},
     "output_type": "execute_result"
    }
   ],
   "source": [
    "finalarray_training_data[:][0]"
   ]
  },
  {
   "cell_type": "code",
   "execution_count": 26,
   "metadata": {},
   "outputs": [
    {
     "data": {
      "text/plain": [
       "array([b'1', b'1', b'1'], dtype=object)"
      ]
     },
     "execution_count": 26,
     "metadata": {},
     "output_type": "execute_result"
    }
   ],
   "source": [
    "finalarray_training_data[:][-1]"
   ]
  },
  {
   "cell_type": "code",
   "execution_count": 27,
   "metadata": {},
   "outputs": [],
   "source": [
    "dictionary = dict()"
   ]
  },
  {
   "cell_type": "code",
   "execution_count": 28,
   "metadata": {},
   "outputs": [],
   "source": [
    "dictionary['1'] = finalarray_training_data"
   ]
  },
  {
   "cell_type": "code",
   "execution_count": 29,
   "metadata": {},
   "outputs": [
    {
     "data": {
      "text/plain": [
       "{'1': array([[-0.13015, 0.071323, 0.899306],\n",
       "        [-0.183121, 0.083973, 1.157239],\n",
       "        [-0.234104, 0.085534, 1.320469],\n",
       "        [-0.279929, 0.078218, 1.369472],\n",
       "        [-0.321851, 0.067093, 1.323889],\n",
       "        [-0.363783, 0.05552, 1.221704],\n",
       "        [-0.4095, 0.043275, 1.098215],\n",
       "        [-0.460814, 0.027787, 0.979016],\n",
       "        [-0.517526, 0.005932, 0.880755],\n",
       "        [-0.57844, -0.025043, 0.806413],\n",
       "        [-0.642335, -0.066984, 0.742138],\n",
       "        [-0.708369, -0.120483, 0.670647],\n",
       "        [-0.776037, -0.185363, 0.589337],\n",
       "        [-0.844799, -0.261646, 0.509148],\n",
       "        [-0.913359, -0.349528, 0.440515],\n",
       "        [-0.978872, -0.448135, 0.3894],\n",
       "        [-1.036865, -0.554524, 0.359572],\n",
       "        [-1.082398, -0.663956, 0.344563],\n",
       "        [-1.111614, -0.770916, 0.322058],\n",
       "        [-1.122168, -0.870061, 0.271962],\n",
       "        [-1.112322, -0.95681, 0.199647],\n",
       "        [-1.080184, -1.027564, 0.130489],\n",
       "        [-1.024236, -1.079644, 0.084365],\n",
       "        [-0.944604, -1.111149, 0.064815],\n",
       "        [-0.843469, -1.121016, 0.066682],\n",
       "        [-0.724226, -1.109332, 0.081823],\n",
       "        [-0.590649, -1.077545, 0.100159],\n",
       "        [-0.446936, -1.028084, 0.115267],\n",
       "        [-0.297932, -0.963634, 0.128232],\n",
       "        [-0.148794, -0.886796, 0.139693],\n",
       "        [-0.004546, -0.800359, 0.142104],\n",
       "        [0.13014, -0.707551, 0.129275],\n",
       "        [0.251447, -0.611728, 0.109656],\n",
       "        [0.357344, -0.515526, 0.097602],\n",
       "        [0.4482, -0.420019, 0.093847],\n",
       "        [0.526596, -0.324393, 0.087839],\n",
       "        [0.596567, -0.226183, 0.077505],\n",
       "        [0.662582, -0.121687, 0.072468],\n",
       "        [0.728357, -0.006563, 0.076804],\n",
       "        [0.795736, 0.122791, 0.081033],\n",
       "        [0.864318, 0.267273, 0.074897],\n",
       "        [0.932146, 0.424113, 0.060028],\n",
       "        [0.996691, 0.587763, 0.045914],\n",
       "        [1.055067, 0.751332, 0.038271],\n",
       "        [1.103557, 0.907227, 0.035234],\n",
       "        [1.137583, 1.047542, 0.031682],\n",
       "        [1.152673, 1.165035, 0.024566],\n",
       "        [1.145736, 1.254235, 0.017579],\n",
       "        [1.115602, 1.31195, 0.021401],\n",
       "        [1.062653, 1.337243, 0.043884],\n",
       "        [0.988309, 1.33119, 0.081304],\n",
       "        [0.895041, 1.296259, 0.127452],\n",
       "        [0.786664, 1.235296, 0.187028],\n",
       "        [0.668248, 1.150822, 0.265426],\n",
       "        [0.545463, 1.045354, 0.347009],\n",
       "        [0.423899, 0.922427, 0.399681],\n",
       "        [0.308732, 0.787098, 0.402621],\n",
       "        [0.203901, 0.645131, 0.358832],\n",
       "        [0.11002, 0.501353, 0.284243],\n",
       "        [0.023092, 0.35853, 0.197375],\n",
       "        [-0.062932, 0.217461, 0.117088],\n",
       "        [-0.151422, 0.077811, 0.057831],\n",
       "        [-0.241478, -0.061271, 0.023321],\n",
       "        [-0.33061, -0.201091, 0.007578],\n",
       "        [-0.417377, -0.343313, 0.001967],\n",
       "        [-0.501012, -0.489118, 0.000406],\n",
       "        [-0.579531, -0.637844, 6.6e-05],\n",
       "        [-0.648897, -0.786177, 9e-06],\n",
       "        [-0.703882, -0.92854, 1e-06],\n",
       "        [-0.739634, -1.058438, 0.0],\n",
       "        [-0.752814, -1.169921, 0.0],\n",
       "        [-0.7417, -1.258418, 0.0],\n",
       "        [-0.705559, -1.320743, 0.0],\n",
       "        [-0.644223, -1.354655, 0.0],\n",
       "        [-0.558613, -1.358592, 0.0],\n",
       "        [-0.451547, -1.331774, 0.0],\n",
       "        [-0.32764, -1.274499, 0.0],\n",
       "        [-0.192084, -1.188409, 0.0],\n",
       "        [-0.04927, -1.076564, 0.0],\n",
       "        [0.097554, -0.943216, 0.0],\n",
       "        [0.24556, -0.793123, 0.0],\n",
       "        [0.392077, -0.63058, 0.0],\n",
       "        [0.535592, -0.45867, -3e-06],\n",
       "        [0.67652, -0.27926, -2.7e-05],\n",
       "        [0.816243, -0.093793, -0.000211],\n",
       "        [0.955036, 0.095611, -0.001319],\n",
       "        [1.090303, 0.285256, -0.006554],\n",
       "        [1.215929, 0.469446, -0.026126],\n",
       "        [1.323005, 0.640665, -0.084246],\n",
       "        [1.401796, 0.790455, -0.222055],\n",
       "        [1.44428, 0.910914, -0.484459],\n",
       "        [1.44668, 0.996456, -0.887331],\n",
       "        [1.411775, 1.045153, -1.384746],\n",
       "        [1.350204, 1.059351, -1.86823],\n",
       "        [1.278833, 1.045773, -2.211818],\n",
       "        [1.21508, 1.015013, -2.341004],\n",
       "        [1.169886, 0.979411, -2.2767],\n",
       "        [1.144527, 0.949175, -2.114594],\n",
       "        [1.133459, 0.929101, -1.955706],\n",
       "        [1.129829, 0.918521, -1.851204],\n",
       "        [1.129001, 0.914082, -1.800501],\n",
       "        [1.128902, 0.912602, -1.781772],\n",
       "        [1.128912, 0.91221, -1.776437],\n",
       "        [1.12892, 0.912128, -1.775257],\n",
       "        [1.128922, 0.912115, -1.775054],\n",
       "        [1.128923, 0.912113, -1.775027],\n",
       "        [1.128921, 0.912112, -1.775021],\n",
       "        [1.128906, 0.912099, -1.774998],\n",
       "        [1.128793, 0.912008, -1.77482],\n",
       "        [1.128121, 0.911465, -1.773763],\n",
       "        [1.124982, 0.908929, -1.768828],\n",
       "        [1.113458, 0.899618, -1.750708],\n",
       "        [1.08015, 0.872707, -1.698337],\n",
       "        [1.00425, 0.811384, -1.578999],\n",
       "        [0.867711, 0.701067, -1.364316],\n",
       "        [0.673591, 0.544228, -1.059098],\n",
       "        [0.0, 0.0, 0.0],\n",
       "        [0.0, 0.0, 0.0],\n",
       "        [0.0, 0.0, 0.0],\n",
       "        [0.0, 0.0, 0.0],\n",
       "        [0.0, 0.0, 0.0],\n",
       "        [0.0, 0.0, 0.0],\n",
       "        [0.0, 0.0, 0.0],\n",
       "        [0.0, 0.0, 0.0],\n",
       "        [0.0, 0.0, 0.0],\n",
       "        [0.0, 0.0, 0.0],\n",
       "        [0.0, 0.0, 0.0],\n",
       "        [0.0, 0.0, 0.0],\n",
       "        [0.0, 0.0, 0.0],\n",
       "        [0.0, 0.0, 0.0],\n",
       "        [0.0, 0.0, 0.0],\n",
       "        [0.0, 0.0, 0.0],\n",
       "        [0.0, 0.0, 0.0],\n",
       "        [0.0, 0.0, 0.0],\n",
       "        [0.0, 0.0, 0.0],\n",
       "        [0.0, 0.0, 0.0],\n",
       "        [0.0, 0.0, 0.0],\n",
       "        [0.0, 0.0, 0.0],\n",
       "        [0.0, 0.0, 0.0],\n",
       "        [0.0, 0.0, 0.0],\n",
       "        [0.0, 0.0, 0.0],\n",
       "        [0.0, 0.0, 0.0],\n",
       "        [0.0, 0.0, 0.0],\n",
       "        [0.0, 0.0, 0.0],\n",
       "        [0.0, 0.0, 0.0],\n",
       "        [0.0, 0.0, 0.0],\n",
       "        [0.0, 0.0, 0.0],\n",
       "        [0.0, 0.0, 0.0],\n",
       "        [0.0, 0.0, 0.0],\n",
       "        [0.0, 0.0, 0.0],\n",
       "        [0.0, 0.0, 0.0],\n",
       "        [0.0, 0.0, 0.0],\n",
       "        [0.0, 0.0, 0.0],\n",
       "        [0.0, 0.0, 0.0],\n",
       "        [0.0, 0.0, 0.0],\n",
       "        [0.0, 0.0, 0.0],\n",
       "        [0.0, 0.0, 0.0],\n",
       "        [0.0, 0.0, 0.0],\n",
       "        [0.0, 0.0, 0.0],\n",
       "        [0.0, 0.0, 0.0],\n",
       "        [0.0, 0.0, 0.0],\n",
       "        [0.0, 0.0, 0.0],\n",
       "        [0.0, 0.0, 0.0],\n",
       "        [0.0, 0.0, 0.0],\n",
       "        [0.0, 0.0, 0.0],\n",
       "        [0.0, 0.0, 0.0],\n",
       "        [0.0, 0.0, 0.0],\n",
       "        [0.0, 0.0, 0.0],\n",
       "        [0.0, 0.0, 0.0],\n",
       "        [0.0, 0.0, 0.0],\n",
       "        [0.0, 0.0, 0.0],\n",
       "        [0.0, 0.0, 0.0],\n",
       "        [0.0, 0.0, 0.0],\n",
       "        [0.0, 0.0, 0.0],\n",
       "        [0.0, 0.0, 0.0],\n",
       "        [0.0, 0.0, 0.0],\n",
       "        [0.0, 0.0, 0.0],\n",
       "        [0.0, 0.0, 0.0],\n",
       "        [0.0, 0.0, 0.0],\n",
       "        [0.0, 0.0, 0.0],\n",
       "        [0.0, 0.0, 0.0],\n",
       "        [0.0, 0.0, 0.0],\n",
       "        [b'1', b'1', b'1']], dtype=object)}"
      ]
     },
     "execution_count": 29,
     "metadata": {},
     "output_type": "execute_result"
    }
   ],
   "source": [
    "dictionary"
   ]
  },
  {
   "cell_type": "markdown",
   "metadata": {},
   "source": [
    "# Making Original Test View"
   ]
  },
  {
   "cell_type": "code",
   "execution_count": 30,
   "metadata": {},
   "outputs": [],
   "source": [
    "Test_data1 = arff.loadarff('/Users/arslanaliawan/Desktop/Pre-experiment/Multivariate_arff/CharacterTrajectories/CharacterTrajectoriesDimension1_TEST.arff')"
   ]
  },
  {
   "cell_type": "code",
   "execution_count": 31,
   "metadata": {},
   "outputs": [],
   "source": [
    "Test_df_D1 = pd.DataFrame(Test_data1[0])"
   ]
  },
  {
   "cell_type": "code",
   "execution_count": 32,
   "metadata": {},
   "outputs": [],
   "source": [
    "Test_data2 = arff.loadarff('/Users/arslanaliawan/Desktop/Pre-experiment/Multivariate_arff/CharacterTrajectories/CharacterTrajectoriesDimension2_TEST.arff')"
   ]
  },
  {
   "cell_type": "code",
   "execution_count": 33,
   "metadata": {},
   "outputs": [],
   "source": [
    "Test_df_D2 = pd.DataFrame(Test_data2[0])"
   ]
  },
  {
   "cell_type": "code",
   "execution_count": 34,
   "metadata": {},
   "outputs": [],
   "source": [
    "Test_data3 = arff.loadarff('/Users/arslanaliawan/Desktop/Pre-experiment/Multivariate_arff/CharacterTrajectories/CharacterTrajectoriesDimension3_TEST.arff')"
   ]
  },
  {
   "cell_type": "code",
   "execution_count": 35,
   "metadata": {},
   "outputs": [],
   "source": [
    "Test_df_D3 = pd.DataFrame(Test_data3[0])"
   ]
  },
  {
   "cell_type": "code",
   "execution_count": 36,
   "metadata": {},
   "outputs": [
    {
     "name": "stdout",
     "output_type": "stream",
     "text": [
      "(1436, 183)\n",
      "(1436, 183)\n",
      "(1436, 183)\n"
     ]
    }
   ],
   "source": [
    "print(Test_df_D1.shape)\n",
    "print(Test_df_D2.shape)\n",
    "print(Test_df_D3.shape)"
   ]
  },
  {
   "cell_type": "code",
   "execution_count": 37,
   "metadata": {},
   "outputs": [
    {
     "data": {
      "text/html": [
       "<div>\n",
       "<style scoped>\n",
       "    .dataframe tbody tr th:only-of-type {\n",
       "        vertical-align: middle;\n",
       "    }\n",
       "\n",
       "    .dataframe tbody tr th {\n",
       "        vertical-align: top;\n",
       "    }\n",
       "\n",
       "    .dataframe thead th {\n",
       "        text-align: right;\n",
       "    }\n",
       "</style>\n",
       "<table border=\"1\" class=\"dataframe\">\n",
       "  <thead>\n",
       "    <tr style=\"text-align: right;\">\n",
       "      <th></th>\n",
       "      <th>channel_0_0</th>\n",
       "      <th>channel_0_1</th>\n",
       "      <th>channel_0_2</th>\n",
       "      <th>channel_0_3</th>\n",
       "      <th>channel_0_4</th>\n",
       "      <th>channel_0_5</th>\n",
       "      <th>channel_0_6</th>\n",
       "      <th>channel_0_7</th>\n",
       "      <th>channel_0_8</th>\n",
       "      <th>channel_0_9</th>\n",
       "      <th>...</th>\n",
       "      <th>channel_0_173</th>\n",
       "      <th>channel_0_174</th>\n",
       "      <th>channel_0_175</th>\n",
       "      <th>channel_0_176</th>\n",
       "      <th>channel_0_177</th>\n",
       "      <th>channel_0_178</th>\n",
       "      <th>channel_0_179</th>\n",
       "      <th>channel_0_180</th>\n",
       "      <th>channel_0_181</th>\n",
       "      <th>target</th>\n",
       "    </tr>\n",
       "  </thead>\n",
       "  <tbody>\n",
       "    <tr>\n",
       "      <th>0</th>\n",
       "      <td>0.043915</td>\n",
       "      <td>0.033922</td>\n",
       "      <td>0.007255</td>\n",
       "      <td>-0.030362</td>\n",
       "      <td>-0.069213</td>\n",
       "      <td>-0.101034</td>\n",
       "      <td>-0.123061</td>\n",
       "      <td>-0.138499</td>\n",
       "      <td>-0.153547</td>\n",
       "      <td>-0.173622</td>\n",
       "      <td>...</td>\n",
       "      <td>NaN</td>\n",
       "      <td>NaN</td>\n",
       "      <td>NaN</td>\n",
       "      <td>NaN</td>\n",
       "      <td>NaN</td>\n",
       "      <td>NaN</td>\n",
       "      <td>NaN</td>\n",
       "      <td>NaN</td>\n",
       "      <td>NaN</td>\n",
       "      <td>b'1'</td>\n",
       "    </tr>\n",
       "  </tbody>\n",
       "</table>\n",
       "<p>1 rows × 183 columns</p>\n",
       "</div>"
      ],
      "text/plain": [
       "   channel_0_0  channel_0_1  channel_0_2  channel_0_3  channel_0_4  \\\n",
       "0     0.043915     0.033922     0.007255    -0.030362    -0.069213   \n",
       "\n",
       "   channel_0_5  channel_0_6  channel_0_7  channel_0_8  channel_0_9  ...  \\\n",
       "0    -0.101034    -0.123061    -0.138499    -0.153547    -0.173622  ...   \n",
       "\n",
       "   channel_0_173  channel_0_174  channel_0_175  channel_0_176  channel_0_177  \\\n",
       "0            NaN            NaN            NaN            NaN            NaN   \n",
       "\n",
       "   channel_0_178  channel_0_179  channel_0_180  channel_0_181  target  \n",
       "0            NaN            NaN            NaN            NaN    b'1'  \n",
       "\n",
       "[1 rows x 183 columns]"
      ]
     },
     "execution_count": 37,
     "metadata": {},
     "output_type": "execute_result"
    }
   ],
   "source": [
    "Test_df_D1.head(1)"
   ]
  },
  {
   "cell_type": "code",
   "execution_count": 38,
   "metadata": {},
   "outputs": [
    {
     "data": {
      "text/plain": [
       "array([b'1', b'2', b'3', b'4', b'5', b'6', b'7', b'8', b'9', b'10', b'11',\n",
       "       b'12', b'13', b'14', b'15', b'16', b'17', b'18', b'19', b'20'],\n",
       "      dtype=object)"
      ]
     },
     "execution_count": 38,
     "metadata": {},
     "output_type": "execute_result"
    }
   ],
   "source": [
    "Test_df_D1.target.unique()"
   ]
  },
  {
   "cell_type": "code",
   "execution_count": 39,
   "metadata": {},
   "outputs": [
    {
     "data": {
      "text/html": [
       "<div>\n",
       "<style scoped>\n",
       "    .dataframe tbody tr th:only-of-type {\n",
       "        vertical-align: middle;\n",
       "    }\n",
       "\n",
       "    .dataframe tbody tr th {\n",
       "        vertical-align: top;\n",
       "    }\n",
       "\n",
       "    .dataframe thead th {\n",
       "        text-align: right;\n",
       "    }\n",
       "</style>\n",
       "<table border=\"1\" class=\"dataframe\">\n",
       "  <thead>\n",
       "    <tr style=\"text-align: right;\">\n",
       "      <th></th>\n",
       "      <th>channel_1_0</th>\n",
       "      <th>channel_1_1</th>\n",
       "      <th>channel_1_2</th>\n",
       "      <th>channel_1_3</th>\n",
       "      <th>channel_1_4</th>\n",
       "      <th>channel_1_5</th>\n",
       "      <th>channel_1_6</th>\n",
       "      <th>channel_1_7</th>\n",
       "      <th>channel_1_8</th>\n",
       "      <th>channel_1_9</th>\n",
       "      <th>...</th>\n",
       "      <th>channel_1_173</th>\n",
       "      <th>channel_1_174</th>\n",
       "      <th>channel_1_175</th>\n",
       "      <th>channel_1_176</th>\n",
       "      <th>channel_1_177</th>\n",
       "      <th>channel_1_178</th>\n",
       "      <th>channel_1_179</th>\n",
       "      <th>channel_1_180</th>\n",
       "      <th>channel_1_181</th>\n",
       "      <th>target</th>\n",
       "    </tr>\n",
       "  </thead>\n",
       "  <tbody>\n",
       "    <tr>\n",
       "      <th>0</th>\n",
       "      <td>-0.010011</td>\n",
       "      <td>-0.004357</td>\n",
       "      <td>0.005951</td>\n",
       "      <td>0.018295</td>\n",
       "      <td>0.029589</td>\n",
       "      <td>0.038164</td>\n",
       "      <td>0.044259</td>\n",
       "      <td>0.048942</td>\n",
       "      <td>0.052885</td>\n",
       "      <td>0.056265</td>\n",
       "      <td>...</td>\n",
       "      <td>NaN</td>\n",
       "      <td>NaN</td>\n",
       "      <td>NaN</td>\n",
       "      <td>NaN</td>\n",
       "      <td>NaN</td>\n",
       "      <td>NaN</td>\n",
       "      <td>NaN</td>\n",
       "      <td>NaN</td>\n",
       "      <td>NaN</td>\n",
       "      <td>b'1'</td>\n",
       "    </tr>\n",
       "  </tbody>\n",
       "</table>\n",
       "<p>1 rows × 183 columns</p>\n",
       "</div>"
      ],
      "text/plain": [
       "   channel_1_0  channel_1_1  channel_1_2  channel_1_3  channel_1_4  \\\n",
       "0    -0.010011    -0.004357     0.005951     0.018295     0.029589   \n",
       "\n",
       "   channel_1_5  channel_1_6  channel_1_7  channel_1_8  channel_1_9  ...  \\\n",
       "0     0.038164     0.044259     0.048942     0.052885     0.056265  ...   \n",
       "\n",
       "   channel_1_173  channel_1_174  channel_1_175  channel_1_176  channel_1_177  \\\n",
       "0            NaN            NaN            NaN            NaN            NaN   \n",
       "\n",
       "   channel_1_178  channel_1_179  channel_1_180  channel_1_181  target  \n",
       "0            NaN            NaN            NaN            NaN    b'1'  \n",
       "\n",
       "[1 rows x 183 columns]"
      ]
     },
     "execution_count": 39,
     "metadata": {},
     "output_type": "execute_result"
    }
   ],
   "source": [
    "Test_df_D2.head(1)"
   ]
  },
  {
   "cell_type": "code",
   "execution_count": 40,
   "metadata": {},
   "outputs": [
    {
     "data": {
      "text/html": [
       "<div>\n",
       "<style scoped>\n",
       "    .dataframe tbody tr th:only-of-type {\n",
       "        vertical-align: middle;\n",
       "    }\n",
       "\n",
       "    .dataframe tbody tr th {\n",
       "        vertical-align: top;\n",
       "    }\n",
       "\n",
       "    .dataframe thead th {\n",
       "        text-align: right;\n",
       "    }\n",
       "</style>\n",
       "<table border=\"1\" class=\"dataframe\">\n",
       "  <thead>\n",
       "    <tr style=\"text-align: right;\">\n",
       "      <th></th>\n",
       "      <th>channel_2_0</th>\n",
       "      <th>channel_2_1</th>\n",
       "      <th>channel_2_2</th>\n",
       "      <th>channel_2_3</th>\n",
       "      <th>channel_2_4</th>\n",
       "      <th>channel_2_5</th>\n",
       "      <th>channel_2_6</th>\n",
       "      <th>channel_2_7</th>\n",
       "      <th>channel_2_8</th>\n",
       "      <th>channel_2_9</th>\n",
       "      <th>...</th>\n",
       "      <th>channel_2_173</th>\n",
       "      <th>channel_2_174</th>\n",
       "      <th>channel_2_175</th>\n",
       "      <th>channel_2_176</th>\n",
       "      <th>channel_2_177</th>\n",
       "      <th>channel_2_178</th>\n",
       "      <th>channel_2_179</th>\n",
       "      <th>channel_2_180</th>\n",
       "      <th>channel_2_181</th>\n",
       "      <th>target</th>\n",
       "    </tr>\n",
       "  </thead>\n",
       "  <tbody>\n",
       "    <tr>\n",
       "      <th>0</th>\n",
       "      <td>0.536491</td>\n",
       "      <td>0.76718</td>\n",
       "      <td>0.993862</td>\n",
       "      <td>1.184721</td>\n",
       "      <td>1.31248</td>\n",
       "      <td>1.360485</td>\n",
       "      <td>1.32964</td>\n",
       "      <td>1.241397</td>\n",
       "      <td>1.13202</td>\n",
       "      <td>1.03714</td>\n",
       "      <td>...</td>\n",
       "      <td>NaN</td>\n",
       "      <td>NaN</td>\n",
       "      <td>NaN</td>\n",
       "      <td>NaN</td>\n",
       "      <td>NaN</td>\n",
       "      <td>NaN</td>\n",
       "      <td>NaN</td>\n",
       "      <td>NaN</td>\n",
       "      <td>NaN</td>\n",
       "      <td>b'1'</td>\n",
       "    </tr>\n",
       "  </tbody>\n",
       "</table>\n",
       "<p>1 rows × 183 columns</p>\n",
       "</div>"
      ],
      "text/plain": [
       "   channel_2_0  channel_2_1  channel_2_2  channel_2_3  channel_2_4  \\\n",
       "0     0.536491      0.76718     0.993862     1.184721      1.31248   \n",
       "\n",
       "   channel_2_5  channel_2_6  channel_2_7  channel_2_8  channel_2_9  ...  \\\n",
       "0     1.360485      1.32964     1.241397      1.13202      1.03714  ...   \n",
       "\n",
       "   channel_2_173  channel_2_174  channel_2_175  channel_2_176  channel_2_177  \\\n",
       "0            NaN            NaN            NaN            NaN            NaN   \n",
       "\n",
       "   channel_2_178  channel_2_179  channel_2_180  channel_2_181  target  \n",
       "0            NaN            NaN            NaN            NaN    b'1'  \n",
       "\n",
       "[1 rows x 183 columns]"
      ]
     },
     "execution_count": 40,
     "metadata": {},
     "output_type": "execute_result"
    }
   ],
   "source": [
    "Test_df_D3.head(1)"
   ]
  },
  {
   "cell_type": "code",
   "execution_count": 41,
   "metadata": {},
   "outputs": [],
   "source": [
    "Test_df_D1_T = Test_df_D1.head(1).T\n",
    "Test_df_D2_T = Test_df_D2.head(1).T\n",
    "Test_df_D3_T = Test_df_D3.head(1).T"
   ]
  },
  {
   "cell_type": "code",
   "execution_count": 42,
   "metadata": {},
   "outputs": [],
   "source": [
    "Test_df_D1_T=Test_df_D1_T.fillna(0)\n",
    "Test_df_D2_T=Test_df_D2_T.fillna(0)\n",
    "Test_df_D3_T=Test_df_D2_T.fillna(0)"
   ]
  },
  {
   "cell_type": "code",
   "execution_count": 43,
   "metadata": {},
   "outputs": [],
   "source": [
    "Test_arr1 = Test_df_D1_T.to_numpy()\n",
    "Test_arr2 = Test_df_D2_T.to_numpy()\n",
    "Test_arr3 = Test_df_D3_T.to_numpy()"
   ]
  },
  {
   "cell_type": "code",
   "execution_count": 44,
   "metadata": {},
   "outputs": [],
   "source": [
    "finalarray_test_data = np.concatenate((Test_arr1, Test_arr2),axis=1)"
   ]
  },
  {
   "cell_type": "code",
   "execution_count": 45,
   "metadata": {},
   "outputs": [],
   "source": [
    "finalarray_test_data = np.concatenate((finalarray_test_data, Test_arr3),axis=1)"
   ]
  },
  {
   "cell_type": "code",
   "execution_count": 46,
   "metadata": {},
   "outputs": [],
   "source": [
    "Origianl_test_view = finalarray_test_data"
   ]
  },
  {
   "cell_type": "code",
   "execution_count": 47,
   "metadata": {},
   "outputs": [
    {
     "data": {
      "text/plain": [
       "array([[0.043915, -0.010011, -0.010011],\n",
       "       [0.033922, -0.004357, -0.004357],\n",
       "       [0.007255, 0.005951, 0.005951],\n",
       "       [-0.030362, 0.018295, 0.018295],\n",
       "       [-0.069213, 0.029589, 0.029589],\n",
       "       [-0.101034, 0.038164, 0.038164],\n",
       "       [-0.123061, 0.044259, 0.044259],\n",
       "       [-0.138499, 0.048942, 0.048942],\n",
       "       [-0.153547, 0.052885, 0.052885],\n",
       "       [-0.173622, 0.056265, 0.056265],\n",
       "       [-0.201387, 0.059159, 0.059159],\n",
       "       [-0.236853, 0.061321, 0.061321],\n",
       "       [-0.278391, 0.061678, 0.061678],\n",
       "       [-0.323717, 0.058629, 0.058629],\n",
       "       [-0.370581, 0.05106, 0.05106],\n",
       "       [-0.417049, 0.038811, 0.038811],\n",
       "       [-0.461461, 0.022059, 0.022059],\n",
       "       [-0.502443, 0.000726, 0.000726],\n",
       "       [-0.539417, -0.025113, -0.025113],\n",
       "       [-0.573203, -0.054538, -0.054538],\n",
       "       [-0.605837, -0.085954, -0.085954],\n",
       "       [-0.639575, -0.117873, -0.117873],\n",
       "       [-0.676042, -0.149349, -0.149349],\n",
       "       [-0.716054, -0.179872, -0.179872],\n",
       "       [-0.75975, -0.209258, -0.209258],\n",
       "       [-0.806686, -0.23794, -0.23794],\n",
       "       [-0.855986, -0.267409, -0.267409],\n",
       "       [-0.906497, -0.300147, -0.300147],\n",
       "       [-0.956614, -0.338782, -0.338782],\n",
       "       [-1.003785, -0.385112, -0.385112],\n",
       "       [-1.044348, -0.439809, -0.439809],\n",
       "       [-1.074077, -0.502573, -0.502573],\n",
       "       [-1.088916, -0.571986, -0.571986],\n",
       "       [-1.085134, -0.644966, -0.644966],\n",
       "       [-1.059091, -0.716624, -0.716624],\n",
       "       [-1.007412, -0.781201, -0.781201],\n",
       "       [-0.927924, -0.83374, -0.83374],\n",
       "       [-0.820883, -0.871316, -0.871316],\n",
       "       [-0.689741, -0.892949, -0.892949],\n",
       "       [-0.540904, -0.898687, -0.898687],\n",
       "       [-0.382308, -0.888985, -0.888985],\n",
       "       [-0.221263, -0.864803, -0.864803],\n",
       "       [-0.062844, -0.827671, -0.827671],\n",
       "       [0.089813, -0.779205, -0.779205],\n",
       "       [0.233857, -0.72041, -0.72041],\n",
       "       [0.366412, -0.651543, -0.651543],\n",
       "       [0.486553, -0.572672, -0.572672],\n",
       "       [0.596768, -0.484367, -0.484367],\n",
       "       [0.701476, -0.387891, -0.387891],\n",
       "       [0.804017, -0.284805, -0.284805],\n",
       "       [0.904899, -0.176441, -0.176441],\n",
       "       [1.001947, -0.063858, -0.063858],\n",
       "       [1.091215, 0.051455, 0.051455],\n",
       "       [1.167793, 0.166996, 0.166996],\n",
       "       [1.22655, 0.279917, 0.279917],\n",
       "       [1.263161, 0.38832, 0.38832],\n",
       "       [1.275443, 0.491464, 0.491464],\n",
       "       [1.264252, 0.588753, 0.588753],\n",
       "       [1.233092, 0.67906, 0.67906],\n",
       "       [1.186715, 0.761029, 0.761029],\n",
       "       [1.129887, 0.833621, 0.833621],\n",
       "       [1.066841, 0.896264, 0.896264],\n",
       "       [1.000967, 0.948746, 0.948746],\n",
       "       [0.934415, 0.991127, 0.991127],\n",
       "       [0.867934, 1.023655, 1.023655],\n",
       "       [0.801281, 1.046532, 1.046532],\n",
       "       [0.73402, 1.059519, 1.059519],\n",
       "       [0.666262, 1.061624, 1.061624],\n",
       "       [0.598923, 1.051129, 1.051129],\n",
       "       [0.53328, 1.025921, 1.025921],\n",
       "       [0.470109, 0.98395, 0.98395],\n",
       "       [0.40919, 0.923731, 0.923731],\n",
       "       [0.349558, 0.844987, 0.844987],\n",
       "       [0.290083, 0.749373, 0.749373],\n",
       "       [0.230008, 0.640895, 0.640895],\n",
       "       [0.169431, 0.525353, 0.525353],\n",
       "       [0.109232, 0.408622, 0.408622],\n",
       "       [0.049748, 0.294602, 0.294602],\n",
       "       [-0.011013, 0.184133, 0.184133],\n",
       "       [-0.077269, 0.075656, 0.075656],\n",
       "       [-0.152822, -0.032932, -0.032932],\n",
       "       [-0.238447, -0.142835, -0.142835],\n",
       "       [-0.331686, -0.254381, -0.254381],\n",
       "       [-0.428161, -0.367648, -0.367648],\n",
       "       [-0.522589, -0.482268, -0.482268],\n",
       "       [-0.609425, -0.59646, -0.59646],\n",
       "       [-0.683699, -0.70661, -0.70661],\n",
       "       [-0.741873, -0.808159, -0.808159],\n",
       "       [-0.782362, -0.897263, -0.897263],\n",
       "       [-0.805555, -0.972103, -0.972103],\n",
       "       [-0.813052, -1.033026, -1.033026],\n",
       "       [-0.80652, -1.081585, -1.081585],\n",
       "       [-0.787178, -1.119226, -1.119226],\n",
       "       [-0.755941, -1.146383, -1.146383],\n",
       "       [-0.713146, -1.162243, -1.162243],\n",
       "       [-0.657745, -1.164956, -1.164956],\n",
       "       [-0.587264, -1.151963, -1.151963],\n",
       "       [-0.49933, -1.120424, -1.120424],\n",
       "       [-0.393536, -1.067905, -1.067905],\n",
       "       [-0.271964, -0.99322, -0.99322],\n",
       "       [-0.138201, -0.896901, -0.896901],\n",
       "       [0.003921, -0.780931, -0.780931],\n",
       "       [0.150917, -0.64802, -0.64802],\n",
       "       [0.299655, -0.501096, -0.501096],\n",
       "       [0.447246, -0.343406, -0.343406],\n",
       "       [0.590895, -0.179044, -0.179044],\n",
       "       [0.727505, -0.013296, -0.013296],\n",
       "       [0.853056, 0.147727, 0.147727],\n",
       "       [0.962336, 0.298049, 0.298049],\n",
       "       [1.049581, 0.432752, 0.432752],\n",
       "       [1.109779, 0.548347, 0.548347],\n",
       "       [1.139787, 0.64264, 0.64264],\n",
       "       [1.138699, 0.714601, 0.714601],\n",
       "       [1.107613, 0.764666, 0.764666],\n",
       "       [1.049166, 0.795205, 0.795205],\n",
       "       [0.96717, 0.810322, 0.810322],\n",
       "       [0.866545, 0.814601, 0.814601],\n",
       "       [0.75347, 0.811552, 0.811552],\n",
       "       [0.635331, 0.802803, 0.802803],\n",
       "       [0.520174, 0.788423, 0.788423],\n",
       "       [0.416165, 0.767992, 0.767992],\n",
       "       [0.331232, 0.741866, 0.741866],\n",
       "       [0.27169, 0.712147, 0.712147],\n",
       "       [0.239253, 0.682702, 0.682702],\n",
       "       [0.228975, 0.657823, 0.657823],\n",
       "       [0.231323, 0.640213, 0.640213],\n",
       "       [0.237279, 0.629916, 0.629916],\n",
       "       [0.241941, 0.624993, 0.624993],\n",
       "       [0.244337, 0.623085, 0.623085],\n",
       "       [0.245239, 0.622488, 0.622488],\n",
       "       [0.245498, 0.622339, 0.622339],\n",
       "       [0.245555, 0.622309, 0.622309],\n",
       "       [0.245565, 0.622304, 0.622304],\n",
       "       [0.245566, 0.622304, 0.622304],\n",
       "       [0.245566, 0.622303, 0.622303],\n",
       "       [0.245563, 0.622294, 0.622294],\n",
       "       [0.245538, 0.622232, 0.622232],\n",
       "       [0.245392, 0.621862, 0.621862],\n",
       "       [0.244709, 0.620131, 0.620131],\n",
       "       [0.242202, 0.613779, 0.613779],\n",
       "       [0.234957, 0.595418, 0.595418],\n",
       "       [0.218447, 0.55358, 0.55358],\n",
       "       [0.188747, 0.478314, 0.478314],\n",
       "       [0.146521, 0.371308, 0.371308],\n",
       "       [0, 0, 0],\n",
       "       [0, 0, 0],\n",
       "       [0, 0, 0],\n",
       "       [0, 0, 0],\n",
       "       [0, 0, 0],\n",
       "       [0, 0, 0],\n",
       "       [0, 0, 0],\n",
       "       [0, 0, 0],\n",
       "       [0, 0, 0],\n",
       "       [0, 0, 0],\n",
       "       [0, 0, 0],\n",
       "       [0, 0, 0],\n",
       "       [0, 0, 0],\n",
       "       [0, 0, 0],\n",
       "       [0, 0, 0],\n",
       "       [0, 0, 0],\n",
       "       [0, 0, 0],\n",
       "       [0, 0, 0],\n",
       "       [0, 0, 0],\n",
       "       [0, 0, 0],\n",
       "       [0, 0, 0],\n",
       "       [0, 0, 0],\n",
       "       [0, 0, 0],\n",
       "       [0, 0, 0],\n",
       "       [0, 0, 0],\n",
       "       [0, 0, 0],\n",
       "       [0, 0, 0],\n",
       "       [0, 0, 0],\n",
       "       [0, 0, 0],\n",
       "       [0, 0, 0],\n",
       "       [0, 0, 0],\n",
       "       [0, 0, 0],\n",
       "       [0, 0, 0],\n",
       "       [0, 0, 0],\n",
       "       [0, 0, 0],\n",
       "       [0, 0, 0],\n",
       "       [0, 0, 0],\n",
       "       [0, 0, 0],\n",
       "       [b'1', b'1', b'1']], dtype=object)"
      ]
     },
     "execution_count": 47,
     "metadata": {},
     "output_type": "execute_result"
    }
   ],
   "source": [
    "Origianl_test_view"
   ]
  },
  {
   "cell_type": "markdown",
   "metadata": {},
   "source": [
    "# Random Time Series"
   ]
  },
  {
   "cell_type": "markdown",
   "metadata": {},
   "source": [
    "For creating RTS, the start and end point, will take from test data view and in between the points would be random from Training Data"
   ]
  },
  {
   "cell_type": "code",
   "execution_count": 48,
   "metadata": {},
   "outputs": [],
   "source": [
    "Starting_point = Origianl_test_view[:][0:1]\n",
    "End_point = Origianl_test_view[:][182:183]"
   ]
  },
  {
   "cell_type": "code",
   "execution_count": 49,
   "metadata": {},
   "outputs": [],
   "source": [
    "copy_of_training_view = finalarray_training_data"
   ]
  },
  {
   "cell_type": "code",
   "execution_count": 87,
   "metadata": {},
   "outputs": [],
   "source": [
    "training_slice_1 = copy_of_training_view[:][1:46]\n",
    "training_slice_2 = copy_of_training_view[:][46:92]\n",
    "training_slice_3 = copy_of_training_view[:][92:135]\n",
    "training_slice_4 = copy_of_training_view[:][135:182]"
   ]
  },
  {
   "cell_type": "code",
   "execution_count": 88,
   "metadata": {},
   "outputs": [
    {
     "name": "stdout",
     "output_type": "stream",
     "text": [
      "(45, 3)\n",
      "(46, 3)\n",
      "(43, 3)\n",
      "(47, 3)\n"
     ]
    }
   ],
   "source": [
    "print(training_slice_1.shape)\n",
    "print(training_slice_2.shape)\n",
    "print(training_slice_3.shape)\n",
    "print(training_slice_4.shape)"
   ]
  },
  {
   "cell_type": "code",
   "execution_count": 89,
   "metadata": {},
   "outputs": [],
   "source": [
    "Random_Psuedo_Series = np.concatenate((Starting_point, training_slice_1),axis=0)\n",
    "Random_Psuedo_Series = np.concatenate((Random_Psuedo_Series, training_slice_4),axis=0)\n",
    "Random_Psuedo_Series = np.concatenate((Random_Psuedo_Series, training_slice_3),axis=0)\n",
    "Random_Psuedo_Series = np.concatenate((Random_Psuedo_Series, training_slice_2),axis=0)\n",
    "Random_Psuedo_Series = np.concatenate((Random_Psuedo_Series, End_point),axis=0)"
   ]
  },
  {
   "cell_type": "code",
   "execution_count": 90,
   "metadata": {},
   "outputs": [
    {
     "data": {
      "text/plain": [
       "array([[0.043915, -0.010011, -0.010011],\n",
       "       [-0.183121, 0.083973, 1.157239],\n",
       "       [-0.234104, 0.085534, 1.320469],\n",
       "       [-0.279929, 0.078218, 1.369472],\n",
       "       [-0.321851, 0.067093, 1.323889],\n",
       "       [-0.363783, 0.05552, 1.221704],\n",
       "       [-0.4095, 0.043275, 1.098215],\n",
       "       [-0.460814, 0.027787, 0.979016],\n",
       "       [-0.517526, 0.005932, 0.880755],\n",
       "       [-0.57844, -0.025043, 0.806413],\n",
       "       [-0.642335, -0.066984, 0.742138],\n",
       "       [-0.708369, -0.120483, 0.670647],\n",
       "       [-0.776037, -0.185363, 0.589337],\n",
       "       [-0.844799, -0.261646, 0.509148],\n",
       "       [-0.913359, -0.349528, 0.440515],\n",
       "       [-0.978872, -0.448135, 0.3894],\n",
       "       [-1.036865, -0.554524, 0.359572],\n",
       "       [-1.082398, -0.663956, 0.344563],\n",
       "       [-1.111614, -0.770916, 0.322058],\n",
       "       [-1.122168, -0.870061, 0.271962],\n",
       "       [-1.112322, -0.95681, 0.199647],\n",
       "       [-1.080184, -1.027564, 0.130489],\n",
       "       [-1.024236, -1.079644, 0.084365],\n",
       "       [-0.944604, -1.111149, 0.064815],\n",
       "       [-0.843469, -1.121016, 0.066682],\n",
       "       [-0.724226, -1.109332, 0.081823],\n",
       "       [-0.590649, -1.077545, 0.100159],\n",
       "       [-0.446936, -1.028084, 0.115267],\n",
       "       [-0.297932, -0.963634, 0.128232],\n",
       "       [-0.148794, -0.886796, 0.139693],\n",
       "       [-0.004546, -0.800359, 0.142104],\n",
       "       [0.13014, -0.707551, 0.129275],\n",
       "       [0.251447, -0.611728, 0.109656],\n",
       "       [0.357344, -0.515526, 0.097602],\n",
       "       [0.4482, -0.420019, 0.093847],\n",
       "       [0.526596, -0.324393, 0.087839],\n",
       "       [0.596567, -0.226183, 0.077505],\n",
       "       [0.662582, -0.121687, 0.072468],\n",
       "       [0.728357, -0.006563, 0.076804],\n",
       "       [0.795736, 0.122791, 0.081033],\n",
       "       [0.864318, 0.267273, 0.074897],\n",
       "       [0.932146, 0.424113, 0.060028],\n",
       "       [0.996691, 0.587763, 0.045914],\n",
       "       [1.055067, 0.751332, 0.038271],\n",
       "       [1.103557, 0.907227, 0.035234],\n",
       "       [1.137583, 1.047542, 0.031682],\n",
       "       [0.0, 0.0, 0.0],\n",
       "       [0.0, 0.0, 0.0],\n",
       "       [0.0, 0.0, 0.0],\n",
       "       [0.0, 0.0, 0.0],\n",
       "       [0.0, 0.0, 0.0],\n",
       "       [0.0, 0.0, 0.0],\n",
       "       [0.0, 0.0, 0.0],\n",
       "       [0.0, 0.0, 0.0],\n",
       "       [0.0, 0.0, 0.0],\n",
       "       [0.0, 0.0, 0.0],\n",
       "       [0.0, 0.0, 0.0],\n",
       "       [0.0, 0.0, 0.0],\n",
       "       [0.0, 0.0, 0.0],\n",
       "       [0.0, 0.0, 0.0],\n",
       "       [0.0, 0.0, 0.0],\n",
       "       [0.0, 0.0, 0.0],\n",
       "       [0.0, 0.0, 0.0],\n",
       "       [0.0, 0.0, 0.0],\n",
       "       [0.0, 0.0, 0.0],\n",
       "       [0.0, 0.0, 0.0],\n",
       "       [0.0, 0.0, 0.0],\n",
       "       [0.0, 0.0, 0.0],\n",
       "       [0.0, 0.0, 0.0],\n",
       "       [0.0, 0.0, 0.0],\n",
       "       [0.0, 0.0, 0.0],\n",
       "       [0.0, 0.0, 0.0],\n",
       "       [0.0, 0.0, 0.0],\n",
       "       [0.0, 0.0, 0.0],\n",
       "       [0.0, 0.0, 0.0],\n",
       "       [0.0, 0.0, 0.0],\n",
       "       [0.0, 0.0, 0.0],\n",
       "       [0.0, 0.0, 0.0],\n",
       "       [0.0, 0.0, 0.0],\n",
       "       [0.0, 0.0, 0.0],\n",
       "       [0.0, 0.0, 0.0],\n",
       "       [0.0, 0.0, 0.0],\n",
       "       [0.0, 0.0, 0.0],\n",
       "       [0.0, 0.0, 0.0],\n",
       "       [0.0, 0.0, 0.0],\n",
       "       [0.0, 0.0, 0.0],\n",
       "       [0.0, 0.0, 0.0],\n",
       "       [0.0, 0.0, 0.0],\n",
       "       [0.0, 0.0, 0.0],\n",
       "       [0.0, 0.0, 0.0],\n",
       "       [0.0, 0.0, 0.0],\n",
       "       [0.0, 0.0, 0.0],\n",
       "       [0.0, 0.0, 0.0],\n",
       "       [1.411775, 1.045153, -1.384746],\n",
       "       [1.350204, 1.059351, -1.86823],\n",
       "       [1.278833, 1.045773, -2.211818],\n",
       "       [1.21508, 1.015013, -2.341004],\n",
       "       [1.169886, 0.979411, -2.2767],\n",
       "       [1.144527, 0.949175, -2.114594],\n",
       "       [1.133459, 0.929101, -1.955706],\n",
       "       [1.129829, 0.918521, -1.851204],\n",
       "       [1.129001, 0.914082, -1.800501],\n",
       "       [1.128902, 0.912602, -1.781772],\n",
       "       [1.128912, 0.91221, -1.776437],\n",
       "       [1.12892, 0.912128, -1.775257],\n",
       "       [1.128922, 0.912115, -1.775054],\n",
       "       [1.128923, 0.912113, -1.775027],\n",
       "       [1.128921, 0.912112, -1.775021],\n",
       "       [1.128906, 0.912099, -1.774998],\n",
       "       [1.128793, 0.912008, -1.77482],\n",
       "       [1.128121, 0.911465, -1.773763],\n",
       "       [1.124982, 0.908929, -1.768828],\n",
       "       [1.113458, 0.899618, -1.750708],\n",
       "       [1.08015, 0.872707, -1.698337],\n",
       "       [1.00425, 0.811384, -1.578999],\n",
       "       [0.867711, 0.701067, -1.364316],\n",
       "       [0.673591, 0.544228, -1.059098],\n",
       "       [0.0, 0.0, 0.0],\n",
       "       [0.0, 0.0, 0.0],\n",
       "       [0.0, 0.0, 0.0],\n",
       "       [0.0, 0.0, 0.0],\n",
       "       [0.0, 0.0, 0.0],\n",
       "       [0.0, 0.0, 0.0],\n",
       "       [0.0, 0.0, 0.0],\n",
       "       [0.0, 0.0, 0.0],\n",
       "       [0.0, 0.0, 0.0],\n",
       "       [0.0, 0.0, 0.0],\n",
       "       [0.0, 0.0, 0.0],\n",
       "       [0.0, 0.0, 0.0],\n",
       "       [0.0, 0.0, 0.0],\n",
       "       [0.0, 0.0, 0.0],\n",
       "       [0.0, 0.0, 0.0],\n",
       "       [0.0, 0.0, 0.0],\n",
       "       [0.0, 0.0, 0.0],\n",
       "       [0.0, 0.0, 0.0],\n",
       "       [0.0, 0.0, 0.0],\n",
       "       [1.152673, 1.165035, 0.024566],\n",
       "       [1.145736, 1.254235, 0.017579],\n",
       "       [1.115602, 1.31195, 0.021401],\n",
       "       [1.062653, 1.337243, 0.043884],\n",
       "       [0.988309, 1.33119, 0.081304],\n",
       "       [0.895041, 1.296259, 0.127452],\n",
       "       [0.786664, 1.235296, 0.187028],\n",
       "       [0.668248, 1.150822, 0.265426],\n",
       "       [0.545463, 1.045354, 0.347009],\n",
       "       [0.423899, 0.922427, 0.399681],\n",
       "       [0.308732, 0.787098, 0.402621],\n",
       "       [0.203901, 0.645131, 0.358832],\n",
       "       [0.11002, 0.501353, 0.284243],\n",
       "       [0.023092, 0.35853, 0.197375],\n",
       "       [-0.062932, 0.217461, 0.117088],\n",
       "       [-0.151422, 0.077811, 0.057831],\n",
       "       [-0.241478, -0.061271, 0.023321],\n",
       "       [-0.33061, -0.201091, 0.007578],\n",
       "       [-0.417377, -0.343313, 0.001967],\n",
       "       [-0.501012, -0.489118, 0.000406],\n",
       "       [-0.579531, -0.637844, 6.6e-05],\n",
       "       [-0.648897, -0.786177, 9e-06],\n",
       "       [-0.703882, -0.92854, 1e-06],\n",
       "       [-0.739634, -1.058438, 0.0],\n",
       "       [-0.752814, -1.169921, 0.0],\n",
       "       [-0.7417, -1.258418, 0.0],\n",
       "       [-0.705559, -1.320743, 0.0],\n",
       "       [-0.644223, -1.354655, 0.0],\n",
       "       [-0.558613, -1.358592, 0.0],\n",
       "       [-0.451547, -1.331774, 0.0],\n",
       "       [-0.32764, -1.274499, 0.0],\n",
       "       [-0.192084, -1.188409, 0.0],\n",
       "       [-0.04927, -1.076564, 0.0],\n",
       "       [0.097554, -0.943216, 0.0],\n",
       "       [0.24556, -0.793123, 0.0],\n",
       "       [0.392077, -0.63058, 0.0],\n",
       "       [0.535592, -0.45867, -3e-06],\n",
       "       [0.67652, -0.27926, -2.7e-05],\n",
       "       [0.816243, -0.093793, -0.000211],\n",
       "       [0.955036, 0.095611, -0.001319],\n",
       "       [1.090303, 0.285256, -0.006554],\n",
       "       [1.215929, 0.469446, -0.026126],\n",
       "       [1.323005, 0.640665, -0.084246],\n",
       "       [1.401796, 0.790455, -0.222055],\n",
       "       [1.44428, 0.910914, -0.484459],\n",
       "       [1.44668, 0.996456, -0.887331],\n",
       "       [b'1', b'1', b'1']], dtype=object)"
      ]
     },
     "execution_count": 90,
     "metadata": {},
     "output_type": "execute_result"
    }
   ],
   "source": [
    "Random_Psuedo_Series"
   ]
  },
  {
   "cell_type": "code",
   "execution_count": 91,
   "metadata": {},
   "outputs": [
    {
     "data": {
      "text/plain": [
       "(183, 3)"
      ]
     },
     "execution_count": 91,
     "metadata": {},
     "output_type": "execute_result"
    }
   ],
   "source": [
    "Random_Psuedo_Series.shape"
   ]
  },
  {
   "cell_type": "markdown",
   "metadata": {},
   "source": [
    "# Partial Psuedo TS"
   ]
  },
  {
   "cell_type": "code",
   "execution_count": null,
   "metadata": {},
   "outputs": [],
   "source": []
  },
  {
   "cell_type": "code",
   "execution_count": null,
   "metadata": {},
   "outputs": [],
   "source": []
  },
  {
   "cell_type": "code",
   "execution_count": null,
   "metadata": {},
   "outputs": [],
   "source": []
  },
  {
   "cell_type": "code",
   "execution_count": null,
   "metadata": {},
   "outputs": [],
   "source": []
  },
  {
   "cell_type": "code",
   "execution_count": null,
   "metadata": {},
   "outputs": [],
   "source": []
  },
  {
   "cell_type": "markdown",
   "metadata": {},
   "source": [
    "# Calculating DTW"
   ]
  },
  {
   "cell_type": "code",
   "execution_count": 122,
   "metadata": {},
   "outputs": [],
   "source": [
    "import numpy as np\n",
    "from scipy.spatial.distance import *\n",
    "\n",
    "from fastdtw import fastdtw"
   ]
  },
  {
   "cell_type": "code",
   "execution_count": 123,
   "metadata": {},
   "outputs": [],
   "source": [
    "OV = Origianl_test_view\n",
    "RV = Random_Psuedo_Series"
   ]
  },
  {
   "cell_type": "code",
   "execution_count": 136,
   "metadata": {},
   "outputs": [],
   "source": [
    "# RV.ndim\n",
    "# np.info(RV)"
   ]
  },
  {
   "cell_type": "code",
   "execution_count": 137,
   "metadata": {},
   "outputs": [
    {
     "name": "stdout",
     "output_type": "stream",
     "text": [
      "181.0\n"
     ]
    }
   ],
   "source": [
    "distance, path = fastdtw(OV, RV, dist=jaccard)\n",
    "print(distance)"
   ]
  },
  {
   "cell_type": "code",
   "execution_count": null,
   "metadata": {},
   "outputs": [],
   "source": [
    "jaccard\n",
    "euclidean\n",
    "hamming\n",
    "sqeuclidean\n",
    "cityblock"
   ]
  },
  {
   "cell_type": "markdown",
   "metadata": {},
   "source": [
    "# Single dimension code"
   ]
  },
  {
   "cell_type": "code",
   "execution_count": 102,
   "metadata": {},
   "outputs": [],
   "source": [
    "# import numpy as np\n",
    "# from dtw import dtw"
   ]
  },
  {
   "cell_type": "code",
   "execution_count": 104,
   "metadata": {},
   "outputs": [],
   "source": [
    "# manhattan_distance = lambda Origianl_test_view, Random_Psuedo_Series: np.abs(Origianl_test_view - Random_Psuedo_Series)\n"
   ]
  },
  {
   "cell_type": "code",
   "execution_count": 106,
   "metadata": {},
   "outputs": [],
   "source": [
    "# d, cost_matrix, acc_cost_matrix, path = dtw(Origianl_test_view, Random_Psuedo_Series, dist=manhattan_distance)"
   ]
  },
  {
   "cell_type": "code",
   "execution_count": null,
   "metadata": {},
   "outputs": [],
   "source": [
    "# print(d)"
   ]
  },
  {
   "cell_type": "markdown",
   "metadata": {},
   "source": [
    "# R Code"
   ]
  },
  {
   "cell_type": "code",
   "execution_count": 95,
   "metadata": {},
   "outputs": [],
   "source": [
    "# import numpy as np\n",
    "# import rpy2.robjects.numpy2ri\n",
    "\n",
    "# rpy2.robjects.numpy2ri.activate()\n",
    "# from rpy2.robjects.packages import importr\n",
    "# import rpy2.robjects as robj\n"
   ]
  },
  {
   "cell_type": "code",
   "execution_count": 96,
   "metadata": {},
   "outputs": [],
   "source": [
    "# R = rpy2.robjects.r"
   ]
  },
  {
   "cell_type": "code",
   "execution_count": 97,
   "metadata": {},
   "outputs": [],
   "source": [
    "# dtw = importr(\"dtw\")"
   ]
  },
  {
   "cell_type": "code",
   "execution_count": 98,
   "metadata": {},
   "outputs": [],
   "source": [
    "# OV = Origianl_test_view\n",
    "# RV = Random_Psuedo_Series"
   ]
  },
  {
   "cell_type": "code",
   "execution_count": 195,
   "metadata": {},
   "outputs": [],
   "source": [
    "# # OV\n",
    "# type(OV)"
   ]
  },
  {
   "cell_type": "code",
   "execution_count": 99,
   "metadata": {},
   "outputs": [],
   "source": [
    "# rt,ct = Origianl_test_view.shape\n",
    "# rq,cq = Random_Psuedo_Series.shape\n",
    "\n",
    "\n",
    "# Origianl_test_view_R = R.matrix(OV,nrow=rt,ncol=ct)\n",
    "# Random_Psuedo_Series_R = R.matrix(OV,nrow=rq,ncol=cq)"
   ]
  },
  {
   "cell_type": "code",
   "execution_count": 101,
   "metadata": {},
   "outputs": [],
   "source": [
    "# # Calculate the alignment vector and corresponding distance\n",
    "# Alignment = R.dtw(Origianl_test_view_R,Random_Psuedo_Series_R\n",
    "#                   ,keep=True, step_pattern=R.rabinerJuangStepPattern(4,\"c\")\n",
    "#                   ,open_begin=True,open_end=True\n",
    "# )"
   ]
  },
  {
   "cell_type": "code",
   "execution_count": 194,
   "metadata": {},
   "outputs": [],
   "source": [
    "# dist = Alignment.rx('distance')[0][0]"
   ]
  },
  {
   "cell_type": "code",
   "execution_count": null,
   "metadata": {},
   "outputs": [],
   "source": []
  }
 ],
 "metadata": {
  "kernelspec": {
   "display_name": "Python 3",
   "language": "python",
   "name": "python3"
  },
  "language_info": {
   "codemirror_mode": {
    "name": "ipython",
    "version": 3
   },
   "file_extension": ".py",
   "mimetype": "text/x-python",
   "name": "python",
   "nbconvert_exporter": "python",
   "pygments_lexer": "ipython3",
   "version": "3.7.6"
  }
 },
 "nbformat": 4,
 "nbformat_minor": 4
}
