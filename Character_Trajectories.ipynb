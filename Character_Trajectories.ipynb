{
 "cells": [
  {
   "cell_type": "code",
   "execution_count": 423,
   "metadata": {},
   "outputs": [],
   "source": [
    "import numpy as np \n",
    "from scipy.io import arff\n",
    "import pandas as pd"
   ]
  },
  {
   "cell_type": "markdown",
   "metadata": {},
   "source": [
    "# Creating Training Data view"
   ]
  },
  {
   "cell_type": "code",
   "execution_count": 424,
   "metadata": {},
   "outputs": [],
   "source": [
    "data1 = arff.loadarff('/Users/arslanaliawan/Desktop/Pre-experiment/Multivariate_arff/CharacterTrajectories/CharacterTrajectoriesDimension1_TRAIN.arff')"
   ]
  },
  {
   "cell_type": "code",
   "execution_count": 425,
   "metadata": {},
   "outputs": [],
   "source": [
    "df_D1 = pd.DataFrame(data1[0])"
   ]
  },
  {
   "cell_type": "code",
   "execution_count": 426,
   "metadata": {},
   "outputs": [],
   "source": [
    "data2 = arff.loadarff('/Users/arslanaliawan/Desktop/Pre-experiment/Multivariate_arff/CharacterTrajectories/CharacterTrajectoriesDimension2_TRAIN.arff')"
   ]
  },
  {
   "cell_type": "code",
   "execution_count": 427,
   "metadata": {},
   "outputs": [],
   "source": [
    "df_D2 = pd.DataFrame(data2[0])"
   ]
  },
  {
   "cell_type": "code",
   "execution_count": 428,
   "metadata": {},
   "outputs": [],
   "source": [
    "data3 = arff.loadarff('/Users/arslanaliawan/Desktop/Pre-experiment/Multivariate_arff/CharacterTrajectories/CharacterTrajectoriesDimension3_TRAIN.arff')"
   ]
  },
  {
   "cell_type": "code",
   "execution_count": 429,
   "metadata": {},
   "outputs": [],
   "source": [
    "df_D3 = pd.DataFrame(data3[0])"
   ]
  },
  {
   "cell_type": "code",
   "execution_count": 430,
   "metadata": {},
   "outputs": [
    {
     "data": {
      "text/plain": [
       "(1422, 183)"
      ]
     },
     "execution_count": 430,
     "metadata": {},
     "output_type": "execute_result"
    }
   ],
   "source": [
    "df_D1.shape"
   ]
  },
  {
   "cell_type": "code",
   "execution_count": 431,
   "metadata": {},
   "outputs": [
    {
     "data": {
      "text/plain": [
       "(1422, 183)"
      ]
     },
     "execution_count": 431,
     "metadata": {},
     "output_type": "execute_result"
    }
   ],
   "source": [
    "df_D2.shape"
   ]
  },
  {
   "cell_type": "code",
   "execution_count": 432,
   "metadata": {},
   "outputs": [
    {
     "data": {
      "text/plain": [
       "(1422, 183)"
      ]
     },
     "execution_count": 432,
     "metadata": {},
     "output_type": "execute_result"
    }
   ],
   "source": [
    "df_D3.shape"
   ]
  },
  {
   "cell_type": "code",
   "execution_count": 433,
   "metadata": {},
   "outputs": [
    {
     "data": {
      "text/html": [
       "<div>\n",
       "<style scoped>\n",
       "    .dataframe tbody tr th:only-of-type {\n",
       "        vertical-align: middle;\n",
       "    }\n",
       "\n",
       "    .dataframe tbody tr th {\n",
       "        vertical-align: top;\n",
       "    }\n",
       "\n",
       "    .dataframe thead th {\n",
       "        text-align: right;\n",
       "    }\n",
       "</style>\n",
       "<table border=\"1\" class=\"dataframe\">\n",
       "  <thead>\n",
       "    <tr style=\"text-align: right;\">\n",
       "      <th></th>\n",
       "      <th>channel_0_0</th>\n",
       "      <th>channel_0_1</th>\n",
       "      <th>channel_0_2</th>\n",
       "      <th>channel_0_3</th>\n",
       "      <th>channel_0_4</th>\n",
       "      <th>channel_0_5</th>\n",
       "      <th>channel_0_6</th>\n",
       "      <th>channel_0_7</th>\n",
       "      <th>channel_0_8</th>\n",
       "      <th>channel_0_9</th>\n",
       "      <th>...</th>\n",
       "      <th>channel_0_173</th>\n",
       "      <th>channel_0_174</th>\n",
       "      <th>channel_0_175</th>\n",
       "      <th>channel_0_176</th>\n",
       "      <th>channel_0_177</th>\n",
       "      <th>channel_0_178</th>\n",
       "      <th>channel_0_179</th>\n",
       "      <th>channel_0_180</th>\n",
       "      <th>channel_0_181</th>\n",
       "      <th>target</th>\n",
       "    </tr>\n",
       "  </thead>\n",
       "  <tbody>\n",
       "    <tr>\n",
       "      <th>0</th>\n",
       "      <td>-0.13015</td>\n",
       "      <td>-0.183121</td>\n",
       "      <td>-0.234104</td>\n",
       "      <td>-0.279929</td>\n",
       "      <td>-0.321851</td>\n",
       "      <td>-0.363783</td>\n",
       "      <td>-0.4095</td>\n",
       "      <td>-0.460814</td>\n",
       "      <td>-0.517526</td>\n",
       "      <td>-0.57844</td>\n",
       "      <td>...</td>\n",
       "      <td>NaN</td>\n",
       "      <td>NaN</td>\n",
       "      <td>NaN</td>\n",
       "      <td>NaN</td>\n",
       "      <td>NaN</td>\n",
       "      <td>NaN</td>\n",
       "      <td>NaN</td>\n",
       "      <td>NaN</td>\n",
       "      <td>NaN</td>\n",
       "      <td>b'1'</td>\n",
       "    </tr>\n",
       "  </tbody>\n",
       "</table>\n",
       "<p>1 rows × 183 columns</p>\n",
       "</div>"
      ],
      "text/plain": [
       "   channel_0_0  channel_0_1  channel_0_2  channel_0_3  channel_0_4  \\\n",
       "0     -0.13015    -0.183121    -0.234104    -0.279929    -0.321851   \n",
       "\n",
       "   channel_0_5  channel_0_6  channel_0_7  channel_0_8  channel_0_9  ...  \\\n",
       "0    -0.363783      -0.4095    -0.460814    -0.517526     -0.57844  ...   \n",
       "\n",
       "   channel_0_173  channel_0_174  channel_0_175  channel_0_176  channel_0_177  \\\n",
       "0            NaN            NaN            NaN            NaN            NaN   \n",
       "\n",
       "   channel_0_178  channel_0_179  channel_0_180  channel_0_181  target  \n",
       "0            NaN            NaN            NaN            NaN    b'1'  \n",
       "\n",
       "[1 rows x 183 columns]"
      ]
     },
     "execution_count": 433,
     "metadata": {},
     "output_type": "execute_result"
    }
   ],
   "source": [
    "df_D1.head(1)"
   ]
  },
  {
   "cell_type": "code",
   "execution_count": 434,
   "metadata": {},
   "outputs": [
    {
     "data": {
      "text/plain": [
       "array([b'1', b'2', b'3', b'4', b'5', b'6', b'7', b'8', b'9', b'10', b'11',\n",
       "       b'12', b'13', b'14', b'15', b'16', b'17', b'18', b'19', b'20'],\n",
       "      dtype=object)"
      ]
     },
     "execution_count": 434,
     "metadata": {},
     "output_type": "execute_result"
    }
   ],
   "source": [
    "df_D1.target.unique()"
   ]
  },
  {
   "cell_type": "code",
   "execution_count": 435,
   "metadata": {},
   "outputs": [
    {
     "data": {
      "text/html": [
       "<div>\n",
       "<style scoped>\n",
       "    .dataframe tbody tr th:only-of-type {\n",
       "        vertical-align: middle;\n",
       "    }\n",
       "\n",
       "    .dataframe tbody tr th {\n",
       "        vertical-align: top;\n",
       "    }\n",
       "\n",
       "    .dataframe thead th {\n",
       "        text-align: right;\n",
       "    }\n",
       "</style>\n",
       "<table border=\"1\" class=\"dataframe\">\n",
       "  <thead>\n",
       "    <tr style=\"text-align: right;\">\n",
       "      <th></th>\n",
       "      <th>channel_1_0</th>\n",
       "      <th>channel_1_1</th>\n",
       "      <th>channel_1_2</th>\n",
       "      <th>channel_1_3</th>\n",
       "      <th>channel_1_4</th>\n",
       "      <th>channel_1_5</th>\n",
       "      <th>channel_1_6</th>\n",
       "      <th>channel_1_7</th>\n",
       "      <th>channel_1_8</th>\n",
       "      <th>channel_1_9</th>\n",
       "      <th>...</th>\n",
       "      <th>channel_1_173</th>\n",
       "      <th>channel_1_174</th>\n",
       "      <th>channel_1_175</th>\n",
       "      <th>channel_1_176</th>\n",
       "      <th>channel_1_177</th>\n",
       "      <th>channel_1_178</th>\n",
       "      <th>channel_1_179</th>\n",
       "      <th>channel_1_180</th>\n",
       "      <th>channel_1_181</th>\n",
       "      <th>target</th>\n",
       "    </tr>\n",
       "  </thead>\n",
       "  <tbody>\n",
       "    <tr>\n",
       "      <th>0</th>\n",
       "      <td>0.071323</td>\n",
       "      <td>0.083973</td>\n",
       "      <td>0.085534</td>\n",
       "      <td>0.078218</td>\n",
       "      <td>0.067093</td>\n",
       "      <td>0.05552</td>\n",
       "      <td>0.043275</td>\n",
       "      <td>0.027787</td>\n",
       "      <td>0.005932</td>\n",
       "      <td>-0.025043</td>\n",
       "      <td>...</td>\n",
       "      <td>NaN</td>\n",
       "      <td>NaN</td>\n",
       "      <td>NaN</td>\n",
       "      <td>NaN</td>\n",
       "      <td>NaN</td>\n",
       "      <td>NaN</td>\n",
       "      <td>NaN</td>\n",
       "      <td>NaN</td>\n",
       "      <td>NaN</td>\n",
       "      <td>b'1'</td>\n",
       "    </tr>\n",
       "  </tbody>\n",
       "</table>\n",
       "<p>1 rows × 183 columns</p>\n",
       "</div>"
      ],
      "text/plain": [
       "   channel_1_0  channel_1_1  channel_1_2  channel_1_3  channel_1_4  \\\n",
       "0     0.071323     0.083973     0.085534     0.078218     0.067093   \n",
       "\n",
       "   channel_1_5  channel_1_6  channel_1_7  channel_1_8  channel_1_9  ...  \\\n",
       "0      0.05552     0.043275     0.027787     0.005932    -0.025043  ...   \n",
       "\n",
       "   channel_1_173  channel_1_174  channel_1_175  channel_1_176  channel_1_177  \\\n",
       "0            NaN            NaN            NaN            NaN            NaN   \n",
       "\n",
       "   channel_1_178  channel_1_179  channel_1_180  channel_1_181  target  \n",
       "0            NaN            NaN            NaN            NaN    b'1'  \n",
       "\n",
       "[1 rows x 183 columns]"
      ]
     },
     "execution_count": 435,
     "metadata": {},
     "output_type": "execute_result"
    }
   ],
   "source": [
    "df_D2.head(1)"
   ]
  },
  {
   "cell_type": "code",
   "execution_count": 436,
   "metadata": {},
   "outputs": [
    {
     "data": {
      "text/plain": [
       "array([b'1', b'2', b'3', b'4', b'5', b'6', b'7', b'8', b'9', b'10', b'11',\n",
       "       b'12', b'13', b'14', b'15', b'16', b'17', b'18', b'19', b'20'],\n",
       "      dtype=object)"
      ]
     },
     "execution_count": 436,
     "metadata": {},
     "output_type": "execute_result"
    }
   ],
   "source": [
    "df_D2.target.unique()"
   ]
  },
  {
   "cell_type": "code",
   "execution_count": 437,
   "metadata": {},
   "outputs": [
    {
     "data": {
      "text/html": [
       "<div>\n",
       "<style scoped>\n",
       "    .dataframe tbody tr th:only-of-type {\n",
       "        vertical-align: middle;\n",
       "    }\n",
       "\n",
       "    .dataframe tbody tr th {\n",
       "        vertical-align: top;\n",
       "    }\n",
       "\n",
       "    .dataframe thead th {\n",
       "        text-align: right;\n",
       "    }\n",
       "</style>\n",
       "<table border=\"1\" class=\"dataframe\">\n",
       "  <thead>\n",
       "    <tr style=\"text-align: right;\">\n",
       "      <th></th>\n",
       "      <th>channel_2_0</th>\n",
       "      <th>channel_2_1</th>\n",
       "      <th>channel_2_2</th>\n",
       "      <th>channel_2_3</th>\n",
       "      <th>channel_2_4</th>\n",
       "      <th>channel_2_5</th>\n",
       "      <th>channel_2_6</th>\n",
       "      <th>channel_2_7</th>\n",
       "      <th>channel_2_8</th>\n",
       "      <th>channel_2_9</th>\n",
       "      <th>...</th>\n",
       "      <th>channel_2_173</th>\n",
       "      <th>channel_2_174</th>\n",
       "      <th>channel_2_175</th>\n",
       "      <th>channel_2_176</th>\n",
       "      <th>channel_2_177</th>\n",
       "      <th>channel_2_178</th>\n",
       "      <th>channel_2_179</th>\n",
       "      <th>channel_2_180</th>\n",
       "      <th>channel_2_181</th>\n",
       "      <th>target</th>\n",
       "    </tr>\n",
       "  </thead>\n",
       "  <tbody>\n",
       "    <tr>\n",
       "      <th>0</th>\n",
       "      <td>0.899306</td>\n",
       "      <td>1.157239</td>\n",
       "      <td>1.320469</td>\n",
       "      <td>1.369472</td>\n",
       "      <td>1.323889</td>\n",
       "      <td>1.221704</td>\n",
       "      <td>1.098215</td>\n",
       "      <td>0.979016</td>\n",
       "      <td>0.880755</td>\n",
       "      <td>0.806413</td>\n",
       "      <td>...</td>\n",
       "      <td>NaN</td>\n",
       "      <td>NaN</td>\n",
       "      <td>NaN</td>\n",
       "      <td>NaN</td>\n",
       "      <td>NaN</td>\n",
       "      <td>NaN</td>\n",
       "      <td>NaN</td>\n",
       "      <td>NaN</td>\n",
       "      <td>NaN</td>\n",
       "      <td>b'1'</td>\n",
       "    </tr>\n",
       "  </tbody>\n",
       "</table>\n",
       "<p>1 rows × 183 columns</p>\n",
       "</div>"
      ],
      "text/plain": [
       "   channel_2_0  channel_2_1  channel_2_2  channel_2_3  channel_2_4  \\\n",
       "0     0.899306     1.157239     1.320469     1.369472     1.323889   \n",
       "\n",
       "   channel_2_5  channel_2_6  channel_2_7  channel_2_8  channel_2_9  ...  \\\n",
       "0     1.221704     1.098215     0.979016     0.880755     0.806413  ...   \n",
       "\n",
       "   channel_2_173  channel_2_174  channel_2_175  channel_2_176  channel_2_177  \\\n",
       "0            NaN            NaN            NaN            NaN            NaN   \n",
       "\n",
       "   channel_2_178  channel_2_179  channel_2_180  channel_2_181  target  \n",
       "0            NaN            NaN            NaN            NaN    b'1'  \n",
       "\n",
       "[1 rows x 183 columns]"
      ]
     },
     "execution_count": 437,
     "metadata": {},
     "output_type": "execute_result"
    }
   ],
   "source": [
    "df_D3.head(1)"
   ]
  },
  {
   "cell_type": "code",
   "execution_count": 438,
   "metadata": {},
   "outputs": [
    {
     "data": {
      "text/plain": [
       "array([b'1', b'2', b'3', b'4', b'5', b'6', b'7', b'8', b'9', b'10', b'11',\n",
       "       b'12', b'13', b'14', b'15', b'16', b'17', b'18', b'19', b'20'],\n",
       "      dtype=object)"
      ]
     },
     "execution_count": 438,
     "metadata": {},
     "output_type": "execute_result"
    }
   ],
   "source": [
    "df_D3.target.unique()"
   ]
  },
  {
   "cell_type": "code",
   "execution_count": 439,
   "metadata": {},
   "outputs": [],
   "source": [
    "df_D1 = df_D1.fillna(0)\n",
    "df_D2 = df_D2.fillna(0)\n",
    "df_D3 = df_D3.fillna(0)"
   ]
  },
  {
   "cell_type": "code",
   "execution_count": 440,
   "metadata": {},
   "outputs": [],
   "source": [
    "df_D1_T = df_D1.head(1).T"
   ]
  },
  {
   "cell_type": "code",
   "execution_count": 441,
   "metadata": {},
   "outputs": [],
   "source": [
    "df_D2_T = df_D2.head(1).T"
   ]
  },
  {
   "cell_type": "code",
   "execution_count": 442,
   "metadata": {},
   "outputs": [],
   "source": [
    "df_D3_T = df_D3.head(1).T"
   ]
  },
  {
   "cell_type": "code",
   "execution_count": 443,
   "metadata": {},
   "outputs": [],
   "source": [
    "arr1 = df_D1_T.to_numpy()\n",
    "arr2 = df_D2_T.to_numpy()\n",
    "arr3 = df_D3_T.to_numpy()"
   ]
  },
  {
   "cell_type": "code",
   "execution_count": 444,
   "metadata": {},
   "outputs": [],
   "source": [
    "finalarray_training_data = np.concatenate((arr1, arr2),axis=1)"
   ]
  },
  {
   "cell_type": "code",
   "execution_count": 445,
   "metadata": {},
   "outputs": [],
   "source": [
    "finalarray_training_data = np.concatenate((finalarray_training_data, arr3),axis=1)"
   ]
  },
  {
   "cell_type": "code",
   "execution_count": 446,
   "metadata": {},
   "outputs": [],
   "source": [
    "df_D1_Row2 = df_D1.head(2)\n",
    "df_D2_Row2 = df_D2.head(2)\n",
    "df_D3_Row2 = df_D3.head(2)"
   ]
  },
  {
   "cell_type": "code",
   "execution_count": 447,
   "metadata": {},
   "outputs": [],
   "source": [
    "df_D1_Row2 = df_D1_Row2.drop(df_D1_Row2.index[0]).T\n",
    "df_D2_Row2 = df_D2_Row2.drop(df_D2_Row2.index[0]).T\n",
    "df_D3_Row2 = df_D3_Row2.drop(df_D3_Row2.index[0]).T"
   ]
  },
  {
   "cell_type": "code",
   "execution_count": 448,
   "metadata": {},
   "outputs": [],
   "source": [
    "arr4 = df_D1_Row2\n",
    "arr5 = df_D2_Row2\n",
    "arr6 = df_D3_Row2"
   ]
  },
  {
   "cell_type": "code",
   "execution_count": 449,
   "metadata": {},
   "outputs": [],
   "source": [
    "finalarray_training_data_row2 = np.concatenate((arr4, arr5),axis=1)"
   ]
  },
  {
   "cell_type": "code",
   "execution_count": 450,
   "metadata": {},
   "outputs": [],
   "source": [
    "finalarray_training_data_row2 = np.concatenate((finalarray_training_data_row2, arr6),axis=1)"
   ]
  },
  {
   "cell_type": "code",
   "execution_count": 451,
   "metadata": {},
   "outputs": [
    {
     "data": {
      "text/plain": [
       "array([-0.13015, 0.071323, 0.899306], dtype=object)"
      ]
     },
     "execution_count": 451,
     "metadata": {},
     "output_type": "execute_result"
    }
   ],
   "source": [
    "finalarray_training_data[:][0]"
   ]
  },
  {
   "cell_type": "code",
   "execution_count": 452,
   "metadata": {},
   "outputs": [
    {
     "data": {
      "text/plain": [
       "array([b'1', b'1', b'1'], dtype=object)"
      ]
     },
     "execution_count": 452,
     "metadata": {},
     "output_type": "execute_result"
    }
   ],
   "source": [
    "finalarray_training_data[:][-1]"
   ]
  },
  {
   "cell_type": "code",
   "execution_count": 453,
   "metadata": {},
   "outputs": [],
   "source": [
    "dictionary = dict()"
   ]
  },
  {
   "cell_type": "code",
   "execution_count": 454,
   "metadata": {},
   "outputs": [],
   "source": [
    "dictionary['1'] = finalarray_training_data"
   ]
  },
  {
   "cell_type": "code",
   "execution_count": 455,
   "metadata": {},
   "outputs": [],
   "source": [
    "dictionary['2'] = finalarray_training_data_row2"
   ]
  },
  {
   "cell_type": "markdown",
   "metadata": {},
   "source": [
    "# Making Original Test View"
   ]
  },
  {
   "cell_type": "code",
   "execution_count": 456,
   "metadata": {},
   "outputs": [],
   "source": [
    "Test_data1 = arff.loadarff('/Users/arslanaliawan/Desktop/Pre-experiment/Multivariate_arff/CharacterTrajectories/CharacterTrajectoriesDimension1_TEST.arff')"
   ]
  },
  {
   "cell_type": "code",
   "execution_count": 457,
   "metadata": {},
   "outputs": [],
   "source": [
    "Test_df_D1 = pd.DataFrame(Test_data1[0])"
   ]
  },
  {
   "cell_type": "code",
   "execution_count": 458,
   "metadata": {},
   "outputs": [],
   "source": [
    "Test_data2 = arff.loadarff('/Users/arslanaliawan/Desktop/Pre-experiment/Multivariate_arff/CharacterTrajectories/CharacterTrajectoriesDimension2_TEST.arff')"
   ]
  },
  {
   "cell_type": "code",
   "execution_count": 459,
   "metadata": {},
   "outputs": [],
   "source": [
    "Test_df_D2 = pd.DataFrame(Test_data2[0])"
   ]
  },
  {
   "cell_type": "code",
   "execution_count": 460,
   "metadata": {},
   "outputs": [],
   "source": [
    "Test_data3 = arff.loadarff('/Users/arslanaliawan/Desktop/Pre-experiment/Multivariate_arff/CharacterTrajectories/CharacterTrajectoriesDimension3_TEST.arff')"
   ]
  },
  {
   "cell_type": "code",
   "execution_count": 461,
   "metadata": {},
   "outputs": [],
   "source": [
    "Test_df_D3 = pd.DataFrame(Test_data3[0])"
   ]
  },
  {
   "cell_type": "code",
   "execution_count": 462,
   "metadata": {},
   "outputs": [
    {
     "name": "stdout",
     "output_type": "stream",
     "text": [
      "(1436, 183)\n",
      "(1436, 183)\n",
      "(1436, 183)\n"
     ]
    }
   ],
   "source": [
    "print(Test_df_D1.shape)\n",
    "print(Test_df_D2.shape)\n",
    "print(Test_df_D3.shape)"
   ]
  },
  {
   "cell_type": "code",
   "execution_count": 463,
   "metadata": {},
   "outputs": [
    {
     "data": {
      "text/html": [
       "<div>\n",
       "<style scoped>\n",
       "    .dataframe tbody tr th:only-of-type {\n",
       "        vertical-align: middle;\n",
       "    }\n",
       "\n",
       "    .dataframe tbody tr th {\n",
       "        vertical-align: top;\n",
       "    }\n",
       "\n",
       "    .dataframe thead th {\n",
       "        text-align: right;\n",
       "    }\n",
       "</style>\n",
       "<table border=\"1\" class=\"dataframe\">\n",
       "  <thead>\n",
       "    <tr style=\"text-align: right;\">\n",
       "      <th></th>\n",
       "      <th>channel_0_0</th>\n",
       "      <th>channel_0_1</th>\n",
       "      <th>channel_0_2</th>\n",
       "      <th>channel_0_3</th>\n",
       "      <th>channel_0_4</th>\n",
       "      <th>channel_0_5</th>\n",
       "      <th>channel_0_6</th>\n",
       "      <th>channel_0_7</th>\n",
       "      <th>channel_0_8</th>\n",
       "      <th>channel_0_9</th>\n",
       "      <th>...</th>\n",
       "      <th>channel_0_173</th>\n",
       "      <th>channel_0_174</th>\n",
       "      <th>channel_0_175</th>\n",
       "      <th>channel_0_176</th>\n",
       "      <th>channel_0_177</th>\n",
       "      <th>channel_0_178</th>\n",
       "      <th>channel_0_179</th>\n",
       "      <th>channel_0_180</th>\n",
       "      <th>channel_0_181</th>\n",
       "      <th>target</th>\n",
       "    </tr>\n",
       "  </thead>\n",
       "  <tbody>\n",
       "    <tr>\n",
       "      <th>0</th>\n",
       "      <td>0.043915</td>\n",
       "      <td>0.033922</td>\n",
       "      <td>0.007255</td>\n",
       "      <td>-0.030362</td>\n",
       "      <td>-0.069213</td>\n",
       "      <td>-0.101034</td>\n",
       "      <td>-0.123061</td>\n",
       "      <td>-0.138499</td>\n",
       "      <td>-0.153547</td>\n",
       "      <td>-0.173622</td>\n",
       "      <td>...</td>\n",
       "      <td>NaN</td>\n",
       "      <td>NaN</td>\n",
       "      <td>NaN</td>\n",
       "      <td>NaN</td>\n",
       "      <td>NaN</td>\n",
       "      <td>NaN</td>\n",
       "      <td>NaN</td>\n",
       "      <td>NaN</td>\n",
       "      <td>NaN</td>\n",
       "      <td>b'1'</td>\n",
       "    </tr>\n",
       "  </tbody>\n",
       "</table>\n",
       "<p>1 rows × 183 columns</p>\n",
       "</div>"
      ],
      "text/plain": [
       "   channel_0_0  channel_0_1  channel_0_2  channel_0_3  channel_0_4  \\\n",
       "0     0.043915     0.033922     0.007255    -0.030362    -0.069213   \n",
       "\n",
       "   channel_0_5  channel_0_6  channel_0_7  channel_0_8  channel_0_9  ...  \\\n",
       "0    -0.101034    -0.123061    -0.138499    -0.153547    -0.173622  ...   \n",
       "\n",
       "   channel_0_173  channel_0_174  channel_0_175  channel_0_176  channel_0_177  \\\n",
       "0            NaN            NaN            NaN            NaN            NaN   \n",
       "\n",
       "   channel_0_178  channel_0_179  channel_0_180  channel_0_181  target  \n",
       "0            NaN            NaN            NaN            NaN    b'1'  \n",
       "\n",
       "[1 rows x 183 columns]"
      ]
     },
     "execution_count": 463,
     "metadata": {},
     "output_type": "execute_result"
    }
   ],
   "source": [
    "Test_df_D1.head(1)"
   ]
  },
  {
   "cell_type": "code",
   "execution_count": 464,
   "metadata": {},
   "outputs": [
    {
     "data": {
      "text/plain": [
       "array([b'1', b'2', b'3', b'4', b'5', b'6', b'7', b'8', b'9', b'10', b'11',\n",
       "       b'12', b'13', b'14', b'15', b'16', b'17', b'18', b'19', b'20'],\n",
       "      dtype=object)"
      ]
     },
     "execution_count": 464,
     "metadata": {},
     "output_type": "execute_result"
    }
   ],
   "source": [
    "Test_df_D1.target.unique()"
   ]
  },
  {
   "cell_type": "code",
   "execution_count": 465,
   "metadata": {},
   "outputs": [
    {
     "data": {
      "text/html": [
       "<div>\n",
       "<style scoped>\n",
       "    .dataframe tbody tr th:only-of-type {\n",
       "        vertical-align: middle;\n",
       "    }\n",
       "\n",
       "    .dataframe tbody tr th {\n",
       "        vertical-align: top;\n",
       "    }\n",
       "\n",
       "    .dataframe thead th {\n",
       "        text-align: right;\n",
       "    }\n",
       "</style>\n",
       "<table border=\"1\" class=\"dataframe\">\n",
       "  <thead>\n",
       "    <tr style=\"text-align: right;\">\n",
       "      <th></th>\n",
       "      <th>channel_1_0</th>\n",
       "      <th>channel_1_1</th>\n",
       "      <th>channel_1_2</th>\n",
       "      <th>channel_1_3</th>\n",
       "      <th>channel_1_4</th>\n",
       "      <th>channel_1_5</th>\n",
       "      <th>channel_1_6</th>\n",
       "      <th>channel_1_7</th>\n",
       "      <th>channel_1_8</th>\n",
       "      <th>channel_1_9</th>\n",
       "      <th>...</th>\n",
       "      <th>channel_1_173</th>\n",
       "      <th>channel_1_174</th>\n",
       "      <th>channel_1_175</th>\n",
       "      <th>channel_1_176</th>\n",
       "      <th>channel_1_177</th>\n",
       "      <th>channel_1_178</th>\n",
       "      <th>channel_1_179</th>\n",
       "      <th>channel_1_180</th>\n",
       "      <th>channel_1_181</th>\n",
       "      <th>target</th>\n",
       "    </tr>\n",
       "  </thead>\n",
       "  <tbody>\n",
       "    <tr>\n",
       "      <th>0</th>\n",
       "      <td>-0.010011</td>\n",
       "      <td>-0.004357</td>\n",
       "      <td>0.005951</td>\n",
       "      <td>0.018295</td>\n",
       "      <td>0.029589</td>\n",
       "      <td>0.038164</td>\n",
       "      <td>0.044259</td>\n",
       "      <td>0.048942</td>\n",
       "      <td>0.052885</td>\n",
       "      <td>0.056265</td>\n",
       "      <td>...</td>\n",
       "      <td>NaN</td>\n",
       "      <td>NaN</td>\n",
       "      <td>NaN</td>\n",
       "      <td>NaN</td>\n",
       "      <td>NaN</td>\n",
       "      <td>NaN</td>\n",
       "      <td>NaN</td>\n",
       "      <td>NaN</td>\n",
       "      <td>NaN</td>\n",
       "      <td>b'1'</td>\n",
       "    </tr>\n",
       "  </tbody>\n",
       "</table>\n",
       "<p>1 rows × 183 columns</p>\n",
       "</div>"
      ],
      "text/plain": [
       "   channel_1_0  channel_1_1  channel_1_2  channel_1_3  channel_1_4  \\\n",
       "0    -0.010011    -0.004357     0.005951     0.018295     0.029589   \n",
       "\n",
       "   channel_1_5  channel_1_6  channel_1_7  channel_1_8  channel_1_9  ...  \\\n",
       "0     0.038164     0.044259     0.048942     0.052885     0.056265  ...   \n",
       "\n",
       "   channel_1_173  channel_1_174  channel_1_175  channel_1_176  channel_1_177  \\\n",
       "0            NaN            NaN            NaN            NaN            NaN   \n",
       "\n",
       "   channel_1_178  channel_1_179  channel_1_180  channel_1_181  target  \n",
       "0            NaN            NaN            NaN            NaN    b'1'  \n",
       "\n",
       "[1 rows x 183 columns]"
      ]
     },
     "execution_count": 465,
     "metadata": {},
     "output_type": "execute_result"
    }
   ],
   "source": [
    "Test_df_D2.head(1)"
   ]
  },
  {
   "cell_type": "code",
   "execution_count": 466,
   "metadata": {},
   "outputs": [
    {
     "data": {
      "text/html": [
       "<div>\n",
       "<style scoped>\n",
       "    .dataframe tbody tr th:only-of-type {\n",
       "        vertical-align: middle;\n",
       "    }\n",
       "\n",
       "    .dataframe tbody tr th {\n",
       "        vertical-align: top;\n",
       "    }\n",
       "\n",
       "    .dataframe thead th {\n",
       "        text-align: right;\n",
       "    }\n",
       "</style>\n",
       "<table border=\"1\" class=\"dataframe\">\n",
       "  <thead>\n",
       "    <tr style=\"text-align: right;\">\n",
       "      <th></th>\n",
       "      <th>channel_2_0</th>\n",
       "      <th>channel_2_1</th>\n",
       "      <th>channel_2_2</th>\n",
       "      <th>channel_2_3</th>\n",
       "      <th>channel_2_4</th>\n",
       "      <th>channel_2_5</th>\n",
       "      <th>channel_2_6</th>\n",
       "      <th>channel_2_7</th>\n",
       "      <th>channel_2_8</th>\n",
       "      <th>channel_2_9</th>\n",
       "      <th>...</th>\n",
       "      <th>channel_2_173</th>\n",
       "      <th>channel_2_174</th>\n",
       "      <th>channel_2_175</th>\n",
       "      <th>channel_2_176</th>\n",
       "      <th>channel_2_177</th>\n",
       "      <th>channel_2_178</th>\n",
       "      <th>channel_2_179</th>\n",
       "      <th>channel_2_180</th>\n",
       "      <th>channel_2_181</th>\n",
       "      <th>target</th>\n",
       "    </tr>\n",
       "  </thead>\n",
       "  <tbody>\n",
       "    <tr>\n",
       "      <th>0</th>\n",
       "      <td>0.536491</td>\n",
       "      <td>0.76718</td>\n",
       "      <td>0.993862</td>\n",
       "      <td>1.184721</td>\n",
       "      <td>1.31248</td>\n",
       "      <td>1.360485</td>\n",
       "      <td>1.32964</td>\n",
       "      <td>1.241397</td>\n",
       "      <td>1.13202</td>\n",
       "      <td>1.03714</td>\n",
       "      <td>...</td>\n",
       "      <td>NaN</td>\n",
       "      <td>NaN</td>\n",
       "      <td>NaN</td>\n",
       "      <td>NaN</td>\n",
       "      <td>NaN</td>\n",
       "      <td>NaN</td>\n",
       "      <td>NaN</td>\n",
       "      <td>NaN</td>\n",
       "      <td>NaN</td>\n",
       "      <td>b'1'</td>\n",
       "    </tr>\n",
       "  </tbody>\n",
       "</table>\n",
       "<p>1 rows × 183 columns</p>\n",
       "</div>"
      ],
      "text/plain": [
       "   channel_2_0  channel_2_1  channel_2_2  channel_2_3  channel_2_4  \\\n",
       "0     0.536491      0.76718     0.993862     1.184721      1.31248   \n",
       "\n",
       "   channel_2_5  channel_2_6  channel_2_7  channel_2_8  channel_2_9  ...  \\\n",
       "0     1.360485      1.32964     1.241397      1.13202      1.03714  ...   \n",
       "\n",
       "   channel_2_173  channel_2_174  channel_2_175  channel_2_176  channel_2_177  \\\n",
       "0            NaN            NaN            NaN            NaN            NaN   \n",
       "\n",
       "   channel_2_178  channel_2_179  channel_2_180  channel_2_181  target  \n",
       "0            NaN            NaN            NaN            NaN    b'1'  \n",
       "\n",
       "[1 rows x 183 columns]"
      ]
     },
     "execution_count": 466,
     "metadata": {},
     "output_type": "execute_result"
    }
   ],
   "source": [
    "Test_df_D3.head(1)"
   ]
  },
  {
   "cell_type": "code",
   "execution_count": 467,
   "metadata": {},
   "outputs": [],
   "source": [
    "Test_df_D1_T = Test_df_D1.head(1).T\n",
    "Test_df_D2_T = Test_df_D2.head(1).T\n",
    "Test_df_D3_T = Test_df_D3.head(1).T"
   ]
  },
  {
   "cell_type": "code",
   "execution_count": 468,
   "metadata": {},
   "outputs": [],
   "source": [
    "Test_df_D1_T=Test_df_D1_T.fillna(0)\n",
    "Test_df_D2_T=Test_df_D2_T.fillna(0)\n",
    "Test_df_D3_T=Test_df_D2_T.fillna(0)"
   ]
  },
  {
   "cell_type": "code",
   "execution_count": 469,
   "metadata": {},
   "outputs": [],
   "source": [
    "Test_arr1 = Test_df_D1_T.to_numpy()\n",
    "Test_arr2 = Test_df_D2_T.to_numpy()\n",
    "Test_arr3 = Test_df_D3_T.to_numpy()"
   ]
  },
  {
   "cell_type": "code",
   "execution_count": 470,
   "metadata": {},
   "outputs": [],
   "source": [
    "finalarray_test_data = np.concatenate((Test_arr1, Test_arr2),axis=1)"
   ]
  },
  {
   "cell_type": "code",
   "execution_count": 471,
   "metadata": {},
   "outputs": [],
   "source": [
    "finalarray_test_data = np.concatenate((finalarray_test_data, Test_arr3),axis=1)"
   ]
  },
  {
   "cell_type": "code",
   "execution_count": 472,
   "metadata": {},
   "outputs": [],
   "source": [
    "Origianl_test_view = finalarray_test_data"
   ]
  },
  {
   "cell_type": "markdown",
   "metadata": {},
   "source": [
    "# Partial Pseudo Time Series"
   ]
  },
  {
   "cell_type": "markdown",
   "metadata": {},
   "source": [
    "For creating PTS, the start and end point, will take from test data view and in between the points would be random partilly from Training Data"
   ]
  },
  {
   "cell_type": "code",
   "execution_count": 473,
   "metadata": {},
   "outputs": [],
   "source": [
    "Starting_point = Origianl_test_view[:][0:1]\n",
    "End_point = Origianl_test_view[:][182:183]"
   ]
  },
  {
   "cell_type": "code",
   "execution_count": 474,
   "metadata": {},
   "outputs": [],
   "source": [
    "copy_of_training_view_row1 = finalarray_training_data\n",
    "copy_of_training_view_row2 = finalarray_training_data_row2"
   ]
  },
  {
   "cell_type": "code",
   "execution_count": 475,
   "metadata": {},
   "outputs": [],
   "source": [
    "for i in range(15):\n",
    "    i = i * 5\n",
    "    copy_of_training_view_row1 = np.delete(copy_of_training_view_row1, (1), axis=0)\n",
    "\n"
   ]
  },
  {
   "cell_type": "code",
   "execution_count": 476,
   "metadata": {},
   "outputs": [
    {
     "data": {
      "text/plain": [
       "(168, 3)"
      ]
     },
     "execution_count": 476,
     "metadata": {},
     "output_type": "execute_result"
    }
   ],
   "source": [
    "copy_of_training_view_row1.shape"
   ]
  },
  {
   "cell_type": "code",
   "execution_count": 477,
   "metadata": {},
   "outputs": [],
   "source": [
    "Partial_Psuedo_Series = np.concatenate((Starting_point, copy_of_training_view_row1),axis=0)\n",
    "Partial_Psuedo_Series = np.concatenate((Partial_Psuedo_Series, End_point),axis=0)"
   ]
  },
  {
   "cell_type": "code",
   "execution_count": 478,
   "metadata": {},
   "outputs": [
    {
     "data": {
      "text/plain": [
       "(170, 3)"
      ]
     },
     "execution_count": 478,
     "metadata": {},
     "output_type": "execute_result"
    }
   ],
   "source": [
    "Partial_Psuedo_Series.shape"
   ]
  },
  {
   "cell_type": "code",
   "execution_count": 479,
   "metadata": {},
   "outputs": [],
   "source": [
    "# training_slice_1 = copy_of_training_view_row2[:][1:46]\n",
    "# training_slice_2 = copy_of_training_view_row1[:][46:92]\n",
    "# training_slice_3 = copy_of_training_view_row2[:][92:116]\n",
    "# training_slice_4 = copy_of_training_view_row1[:][116:182]"
   ]
  },
  {
   "cell_type": "code",
   "execution_count": 480,
   "metadata": {},
   "outputs": [],
   "source": [
    "# print(training_slice_1.shape)\n",
    "# print(training_slice_2.shape)\n",
    "# print(training_slice_3.shape)\n",
    "# print(training_slice_4.shape)"
   ]
  },
  {
   "cell_type": "code",
   "execution_count": 481,
   "metadata": {},
   "outputs": [],
   "source": [
    "# Partial_Psuedo_Series = np.concatenate((Starting_point, training_slice_1),axis=0)\n",
    "# Partial_Psuedo_Series = np.concatenate((Partial_Psuedo_Series, training_slice_2),axis=0)\n",
    "# Partial_Psuedo_Series = np.concatenate((Partial_Psuedo_Series, training_slice_3),axis=0)\n",
    "# Partial_Psuedo_Series = np.concatenate((Partial_Psuedo_Series, training_slice_4),axis=0)\n",
    "# Partial_Psuedo_Series = np.concatenate((Partial_Psuedo_Series, End_point),axis=0)"
   ]
  },
  {
   "cell_type": "markdown",
   "metadata": {},
   "source": [
    "# Random Pseudo TS"
   ]
  },
  {
   "cell_type": "code",
   "execution_count": 482,
   "metadata": {},
   "outputs": [],
   "source": [
    "Starting_point = Origianl_test_view[:][0:1]\n",
    "End_point = Origianl_test_view[:][182:183]\n",
    "copy_of_training_view_row1 = finalarray_training_data\n",
    "copy_of_training_view_row2 = finalarray_training_data_row2"
   ]
  },
  {
   "cell_type": "code",
   "execution_count": 483,
   "metadata": {},
   "outputs": [],
   "source": [
    "newOne = np.concatenate((copy_of_training_view_row1, copy_of_training_view_row2),axis=0)"
   ]
  },
  {
   "cell_type": "code",
   "execution_count": 484,
   "metadata": {},
   "outputs": [],
   "source": [
    "shuffle_training_Data = np.random.shuffle(newOne)"
   ]
  },
  {
   "cell_type": "code",
   "execution_count": 485,
   "metadata": {},
   "outputs": [],
   "source": [
    "Random_Psuedo_Time_Series = newOne[:][1:182]"
   ]
  },
  {
   "cell_type": "code",
   "execution_count": 486,
   "metadata": {},
   "outputs": [
    {
     "data": {
      "text/plain": [
       "(181, 3)"
      ]
     },
     "execution_count": 486,
     "metadata": {},
     "output_type": "execute_result"
    }
   ],
   "source": [
    "Random_Psuedo_Time_Series.shape"
   ]
  },
  {
   "cell_type": "code",
   "execution_count": 487,
   "metadata": {},
   "outputs": [],
   "source": [
    "Random_Psuedo_Time_Series = np.concatenate((Starting_point, Random_Psuedo_Time_Series),axis=0)\n",
    "Random_Psuedo_Time_Series = np.concatenate((Random_Psuedo_Time_Series, End_point),axis=0)"
   ]
  },
  {
   "cell_type": "code",
   "execution_count": 488,
   "metadata": {},
   "outputs": [
    {
     "data": {
      "text/plain": [
       "(183, 3)"
      ]
     },
     "execution_count": 488,
     "metadata": {},
     "output_type": "execute_result"
    }
   ],
   "source": [
    "Random_Psuedo_Time_Series.shape"
   ]
  },
  {
   "cell_type": "code",
   "execution_count": 489,
   "metadata": {},
   "outputs": [],
   "source": [
    "# training_slice_1_for_PTS = copy_of_training_view_row1[:][1:25]\n",
    "# training_slice_2_for_PTS = copy_of_training_view_row2[:][25:29]\n",
    "# training_slice_3_for_PTS = copy_of_training_view_row1[:][29:50]\n",
    "# training_slice_4_for_PTS = copy_of_training_view_row2[:][50:55]\n",
    "# training_slice_5_for_PTS = copy_of_training_view_row1[:][55:80]\n",
    "# training_slice_6_for_PTS = copy_of_training_view_row2[:][80:85]\n",
    "# training_slice_7_for_PTS = copy_of_training_view_row2[:][85:110]\n",
    "# training_slice_8_for_PTS = copy_of_training_view_row1[:][110:116]\n",
    "# training_slice_9_for_PTS = copy_of_training_view_row2[:][116:182]"
   ]
  },
  {
   "cell_type": "code",
   "execution_count": 490,
   "metadata": {},
   "outputs": [],
   "source": [
    "# Random_Psuedo_Time_Series = np.concatenate((Starting_point, training_slice_1_for_PTS),axis=0)\n",
    "# Random_Psuedo_Time_Series = np.concatenate((Random_Psuedo_Time_Series, training_slice_2_for_PTS),axis=0)\n",
    "# Random_Psuedo_Time_Series = np.concatenate((Random_Psuedo_Time_Series, training_slice_3_for_PTS),axis=0)\n",
    "# Random_Psuedo_Time_Series = np.concatenate((Random_Psuedo_Time_Series, training_slice_4_for_PTS),axis=0)\n",
    "# Random_Psuedo_Time_Series = np.concatenate((Random_Psuedo_Time_Series, training_slice_5_for_PTS),axis=0)\n",
    "# Random_Psuedo_Time_Series = np.concatenate((Random_Psuedo_Time_Series, training_slice_6_for_PTS),axis=0)\n",
    "# Random_Psuedo_Time_Series = np.concatenate((Random_Psuedo_Time_Series, training_slice_7_for_PTS),axis=0)\n",
    "# Random_Psuedo_Time_Series = np.concatenate((Random_Psuedo_Time_Series, training_slice_8_for_PTS),axis=0)\n",
    "# Random_Psuedo_Time_Series = np.concatenate((Random_Psuedo_Time_Series, training_slice_9_for_PTS),axis=0)\n",
    "# Random_Psuedo_Time_Series = np.concatenate((Random_Psuedo_Time_Series, End_point),axis=0)"
   ]
  },
  {
   "cell_type": "code",
   "execution_count": 491,
   "metadata": {},
   "outputs": [],
   "source": [
    "# randomRows = numpy.random.randint(5, size=183)\n",
    "# for i in randomRows:\n",
    "#   print(Random_Psuedo_Time_Series[i,:])"
   ]
  },
  {
   "cell_type": "markdown",
   "metadata": {},
   "source": [
    "# Testing Different DTW variants "
   ]
  },
  {
   "cell_type": "code",
   "execution_count": 492,
   "metadata": {},
   "outputs": [],
   "source": [
    "from scipy.spatial.distance import pdist, cdist\n",
    "from sklearn.metrics.pairwise import euclidean_distances, pairwise_distances\n",
    "from sklearn.utils import check_random_state\n",
    "import matplotlib.pyplot as plt "
   ]
  },
  {
   "cell_type": "code",
   "execution_count": 493,
   "metadata": {},
   "outputs": [],
   "source": [
    "from tslearn.soft_dtw_fast import *\n",
    "from tslearn.cysax import *\n",
    "from tslearn.metrics import dtw, dtw_path,dtw_path_from_metric,soft_dtw\n",
    "from tslearn.utils import *"
   ]
  },
  {
   "cell_type": "markdown",
   "metadata": {},
   "source": [
    "### DTW with Path"
   ]
  },
  {
   "cell_type": "code",
   "execution_count": 494,
   "metadata": {},
   "outputs": [
    {
     "name": "stdout",
     "output_type": "stream",
     "text": [
      "17.332928484030273\n"
     ]
    }
   ],
   "source": [
    "# Compute Dynamic Time Warping (DTW) similarity measure between (possibly multidimensional) time series\n",
    "# and return both the path and the similarity.\n",
    "path, dist = dtw_path(Origianl_test_view, Random_Psuedo_Time_Series)\n",
    "print(dist)\n",
    "\n",
    "# sin1=plt.plot(list(list(zip(*path))[0]))\n",
    "# plt.setp(sin1,color=\"b\",linewidth=2.0)\n",
    "\n",
    "# sin2=plt.plot(list(list(zip(*path))[1]))\n",
    "# plt.setp(sin2,color=\"r\",linewidth=2.0)\n",
    "\n"
   ]
  },
  {
   "cell_type": "code",
   "execution_count": 495,
   "metadata": {},
   "outputs": [
    {
     "name": "stdout",
     "output_type": "stream",
     "text": [
      "14.273985585955906\n"
     ]
    }
   ],
   "source": [
    "path, dist = dtw_path(Origianl_test_view, Partial_Psuedo_Series)\n",
    "print(dist)\n",
    "\n",
    "# sin1=plt.plot(list(list(zip(*path))[0]))\n",
    "# plt.setp(sin1,color=\"b\",linewidth=2.0)\n",
    "\n",
    "# sin2=plt.plot(list(list(zip(*path))[1]))\n",
    "# plt.setp(sin2,color=\"r\",linewidth=2.0)\n"
   ]
  },
  {
   "cell_type": "markdown",
   "metadata": {},
   "source": [
    "### DTW"
   ]
  },
  {
   "cell_type": "code",
   "execution_count": 496,
   "metadata": {},
   "outputs": [
    {
     "data": {
      "text/plain": [
       "17.332928484030273"
      ]
     },
     "execution_count": 496,
     "metadata": {},
     "output_type": "execute_result"
    }
   ],
   "source": [
    "# Compute Dynamic Time Warping (DTW) similarity measure between (possibly multidimensional) \n",
    "# time series and return it. ,\n",
    "# extra parameters: global_constraint=None, sakoe_chiba_radius=None, itakura_max_slope=None\n",
    "dist = dtw(Origianl_test_view, Random_Psuedo_Time_Series)\n",
    "dist"
   ]
  },
  {
   "cell_type": "code",
   "execution_count": 497,
   "metadata": {},
   "outputs": [
    {
     "data": {
      "text/plain": [
       "14.273985585955906"
      ]
     },
     "execution_count": 497,
     "metadata": {},
     "output_type": "execute_result"
    }
   ],
   "source": [
    "\n",
    "dist = dtw(Origianl_test_view, Partial_Psuedo_Series)\n",
    "dist"
   ]
  },
  {
   "cell_type": "markdown",
   "metadata": {},
   "source": [
    "### Soft-DTW"
   ]
  },
  {
   "cell_type": "code",
   "execution_count": 498,
   "metadata": {},
   "outputs": [
    {
     "data": {
      "text/plain": [
       "297.9169308552677"
      ]
     },
     "execution_count": 498,
     "metadata": {},
     "output_type": "execute_result"
    }
   ],
   "source": [
    "# Compute Soft-DTW metric between two time series.\n",
    "soft_dtw_score = soft_dtw(Origianl_test_view, Random_Psuedo_Time_Series, gamma=.1)\n",
    "soft_dtw_score"
   ]
  },
  {
   "cell_type": "code",
   "execution_count": 499,
   "metadata": {},
   "outputs": [
    {
     "data": {
      "text/plain": [
       "190.864564844767"
      ]
     },
     "execution_count": 499,
     "metadata": {},
     "output_type": "execute_result"
    }
   ],
   "source": [
    "\n",
    "soft_dtw_score = soft_dtw(Origianl_test_view, Partial_Psuedo_Series, gamma=.1)\n",
    "soft_dtw_score"
   ]
  },
  {
   "cell_type": "markdown",
   "metadata": {},
   "source": [
    "### dtw_path_from_metric"
   ]
  },
  {
   "cell_type": "code",
   "execution_count": 500,
   "metadata": {},
   "outputs": [
    {
     "name": "stdout",
     "output_type": "stream",
     "text": [
      "225.34280814895322\n"
     ]
    }
   ],
   "source": [
    "# Compute Dynamic Time Warping (DTW) similarity measure between (possibly multidimensional) time series\n",
    "# using a distance metric defined by the user and return both the path and \n",
    "# the similarity.\n",
    "path, dist = dtw_path_from_metric(Origianl_test_view, Random_Psuedo_Time_Series)\n",
    "print(dist)"
   ]
  },
  {
   "cell_type": "code",
   "execution_count": 501,
   "metadata": {},
   "outputs": [
    {
     "name": "stdout",
     "output_type": "stream",
     "text": [
      "139.52390608906433\n"
     ]
    }
   ],
   "source": [
    "\n",
    "path, dist = dtw_path_from_metric(Origianl_test_view, Partial_Psuedo_Series)\n",
    "print(dist)"
   ]
  },
  {
   "cell_type": "code",
   "execution_count": 502,
   "metadata": {},
   "outputs": [],
   "source": [
    "# cost = dtw(Origianl_test_view, Random_Psuedo_Time_Series, global_constraint=\"itakura\", itakura_max_slope=2.)\n",
    "# cost"
   ]
  },
  {
   "cell_type": "code",
   "execution_count": 503,
   "metadata": {},
   "outputs": [],
   "source": [
    "# cost = dtw(Origianl_test_view, Partial_Psuedo_Series, global_constraint=\"itakura\", itakura_max_slope=2.)\n",
    "# cost"
   ]
  },
  {
   "cell_type": "code",
   "execution_count": null,
   "metadata": {},
   "outputs": [],
   "source": []
  },
  {
   "cell_type": "code",
   "execution_count": null,
   "metadata": {},
   "outputs": [],
   "source": []
  },
  {
   "cell_type": "markdown",
   "metadata": {},
   "source": [
    "# Calculating fastdtw"
   ]
  },
  {
   "cell_type": "code",
   "execution_count": 231,
   "metadata": {},
   "outputs": [],
   "source": [
    "# from scipy.spatial.distance import *\n",
    "# from fastdtw import fastdtw"
   ]
  },
  {
   "cell_type": "code",
   "execution_count": 232,
   "metadata": {},
   "outputs": [],
   "source": [
    "# # jaccard\n",
    "# # euclidean\n",
    "# # hamming\n",
    "# # sqeuclidean\n",
    "# # cityblock\n",
    "# distance, path = fastdtw(OV, RV_PTS, dist=hamming)\n",
    "# print(distance)\n",
    "# # print(path)"
   ]
  },
  {
   "cell_type": "markdown",
   "metadata": {},
   "source": [
    "# Using FastDTW"
   ]
  },
  {
   "cell_type": "code",
   "execution_count": 113,
   "metadata": {},
   "outputs": [],
   "source": [
    "# import matplotlib.pyplot as plt\n",
    "# from scipy.spatial.distance import euclidean\n",
    "# from fastdtw import fastdtw\n",
    "\n"
   ]
  },
  {
   "cell_type": "code",
   "execution_count": 112,
   "metadata": {},
   "outputs": [],
   "source": [
    "# start=0\n",
    "# end=2*np.pi\n",
    "# step=0.1\n",
    "# k=2\n",
    "# x1=np.arange(start,end,k*step)\n",
    "# x2=np.arange(start,end/k,step)\n",
    "\n",
    "# noise=np.random.uniform(start,end,len(x2))/10\n",
    "\n",
    "# y1=np.sin(x1)+1*np.sin(2*x1)+noise\n",
    "\n",
    "# y2=np.sin(k*x2)+1*np.sin(k*2*x2)\n",
    "\n",
    "\n",
    "\n",
    "\n",
    "# time_series_A=OV\n",
    "# time_series_B=RV\n",
    "# distance, path = fastdtw(time_series_A, time_series_B, dist=euclidean)\n",
    "# print(distance)\n",
    "# # print(path)\n",
    "\n",
    "\n",
    "\n",
    "# sin1=plt.plot(list(list(zip(*path))[0]))\n",
    "# plt.setp(sin1,color=\"b\",linewidth=2.0)\n",
    "\n",
    "# sin2=plt.plot(list(list(zip(*path))[1]))\n",
    "# plt.setp(sin2,color=\"r\",linewidth=2.0)\n"
   ]
  },
  {
   "cell_type": "markdown",
   "metadata": {},
   "source": [
    "# N Dimension Code "
   ]
  },
  {
   "cell_type": "code",
   "execution_count": 111,
   "metadata": {},
   "outputs": [],
   "source": [
    "# import numpy as np\n",
    "# import pandas as pd\n",
    "# import matplotlib.pyplot as plt\n",
    "\n",
    "# def MDTWDistance(s1, s2, window=10, num_columns=1):\n",
    "#     DTW={}\n",
    "\n",
    "#     w = max(window, abs(len(s1)-len(s2)))\n",
    "\n",
    "#     for i in range(-1,len(s1)):\n",
    "#         for j in range(-1,len(s2)):\n",
    "#             DTW[(i, j)] = float('inf')\n",
    "#     DTW[(-1, -1)] = 0\n",
    "\n",
    "#     for i in range(len(s1)):\n",
    "#         for j in range(max(0, i-w), min(len(s2), i+w)):\n",
    "#             #print \"Finding Distance of\", s1.loc[i], s2.loc[j]\n",
    "#             dist= mdist(s1.loc[i], s2.loc[j], num_columns)\n",
    "#             #print \"Dist\", dist\n",
    "#             #print i, j, dist\n",
    "#             DTW[(i, j)] = dist + min(DTW[(i-1, j)],DTW[(i, j-1)], DTW[(i-1, j-1)])\n",
    "\n",
    "#     return np.sqrt(DTW[len(s1)-1, len(s2)-1])\n",
    "\n",
    "# def mdist(a, b, num_col):\n",
    "#     dist = 0\n",
    "#     for col in range(num_col):\n",
    "#         #print \"Finding Distance of\", a[col], b[col]\n",
    "#         dist = dist + (a[col]-b[col])**2\n",
    "#     return dist\n",
    "\n",
    "# x=np.linspace(0,50,100)\n",
    "# ts1=pd.Series(3.1*np.sin(x/1.5)+3.5)\n",
    "# ts2=pd.Series(2.2*np.sin(x/3.5+2.4)+3.2)\n",
    "# ts3=pd.Series(0.04*x+8.0)\n",
    "# ts4=pd.Series(0.048*x+8.6)\n",
    "# ts5=pd.Series(-0.17*x+4.1)\n",
    "# ts6=pd.Series(-0.14*x+4.5)\n",
    "\n",
    "# ts1.plot()\n",
    "# ts2.plot()\n",
    "# ts3.plot()\n",
    "# ts4.plot()\n",
    "# ts5.plot()\n",
    "# ts6.plot()\n",
    "\n",
    "# plt.ylim(-4,12)\n",
    "# plt.legend(['ts1','ts2','ts3','ts4','ts5','ts6'])\n",
    "# plt.show()\n",
    "\n"
   ]
  },
  {
   "cell_type": "code",
   "execution_count": 69,
   "metadata": {},
   "outputs": [],
   "source": [
    "# timeSeries = pd.Panel({0:pd.DataFrame(np.transpose([ts1, ts2])),\n",
    "#                  1:pd.DataFrame(np.transpose([ts3, ts4])),\n",
    "#                    2:pd.DataFrame(np.transpose([ts5, ts6]))\n",
    "#                   })\n",
    "\n",
    "# print (\"0 and 1:\",MDTWDistance(timeSeries[0], timeSeries[1],window=10, num_columns=2))\n",
    "# print (\"0 and 2:\",MDTWDistance(timeSeries[0], timeSeries[2],window=10, num_columns=2))\n",
    "# print (\"1 and 2:\",MDTWDistance(timeSeries[1], timeSeries[2],window=10, num_columns=2))"
   ]
  },
  {
   "cell_type": "code",
   "execution_count": null,
   "metadata": {},
   "outputs": [],
   "source": []
  },
  {
   "cell_type": "markdown",
   "metadata": {},
   "source": [
    "# Single dimension code"
   ]
  },
  {
   "cell_type": "code",
   "execution_count": 60,
   "metadata": {},
   "outputs": [],
   "source": [
    "# import numpy as np\n",
    "# from dtw import dtw"
   ]
  },
  {
   "cell_type": "code",
   "execution_count": 61,
   "metadata": {},
   "outputs": [],
   "source": [
    "# manhattan_distance = lambda Origianl_test_view, Random_Psuedo_Series: np.abs(Origianl_test_view - Random_Psuedo_Series)\n"
   ]
  },
  {
   "cell_type": "code",
   "execution_count": 62,
   "metadata": {},
   "outputs": [],
   "source": [
    "# d, cost_matrix, acc_cost_matrix, path = dtw(Origianl_test_view, Random_Psuedo_Series, dist=manhattan_distance)"
   ]
  },
  {
   "cell_type": "code",
   "execution_count": null,
   "metadata": {},
   "outputs": [],
   "source": [
    "# print(d)"
   ]
  },
  {
   "cell_type": "markdown",
   "metadata": {},
   "source": [
    "# R Code"
   ]
  },
  {
   "cell_type": "code",
   "execution_count": 95,
   "metadata": {},
   "outputs": [],
   "source": [
    "# import numpy as np\n",
    "# import rpy2.robjects.numpy2ri\n",
    "\n",
    "# rpy2.robjects.numpy2ri.activate()\n",
    "# from rpy2.robjects.packages import importr\n",
    "# import rpy2.robjects as robj\n"
   ]
  },
  {
   "cell_type": "code",
   "execution_count": 96,
   "metadata": {},
   "outputs": [],
   "source": [
    "# R = rpy2.robjects.r"
   ]
  },
  {
   "cell_type": "code",
   "execution_count": 97,
   "metadata": {},
   "outputs": [],
   "source": [
    "# dtw = importr(\"dtw\")"
   ]
  },
  {
   "cell_type": "code",
   "execution_count": 98,
   "metadata": {},
   "outputs": [],
   "source": [
    "# OV = Origianl_test_view\n",
    "# RV = Random_Psuedo_Series"
   ]
  },
  {
   "cell_type": "code",
   "execution_count": 195,
   "metadata": {},
   "outputs": [],
   "source": [
    "# # OV\n",
    "# type(OV)"
   ]
  },
  {
   "cell_type": "code",
   "execution_count": 99,
   "metadata": {},
   "outputs": [],
   "source": [
    "# rt,ct = Origianl_test_view.shape\n",
    "# rq,cq = Random_Psuedo_Series.shape\n",
    "\n",
    "\n",
    "# Origianl_test_view_R = R.matrix(OV,nrow=rt,ncol=ct)\n",
    "# Random_Psuedo_Series_R = R.matrix(OV,nrow=rq,ncol=cq)"
   ]
  },
  {
   "cell_type": "code",
   "execution_count": 101,
   "metadata": {},
   "outputs": [],
   "source": [
    "# # Calculate the alignment vector and corresponding distance\n",
    "# Alignment = R.dtw(Origianl_test_view_R,Random_Psuedo_Series_R\n",
    "#                   ,keep=True, step_pattern=R.rabinerJuangStepPattern(4,\"c\")\n",
    "#                   ,open_begin=True,open_end=True\n",
    "# )"
   ]
  },
  {
   "cell_type": "code",
   "execution_count": 194,
   "metadata": {},
   "outputs": [],
   "source": [
    "# dist = Alignment.rx('distance')[0][0]"
   ]
  },
  {
   "cell_type": "code",
   "execution_count": null,
   "metadata": {},
   "outputs": [],
   "source": []
  }
 ],
 "metadata": {
  "kernelspec": {
   "display_name": "Python 3",
   "language": "python",
   "name": "python3"
  },
  "language_info": {
   "codemirror_mode": {
    "name": "ipython",
    "version": 3
   },
   "file_extension": ".py",
   "mimetype": "text/x-python",
   "name": "python",
   "nbconvert_exporter": "python",
   "pygments_lexer": "ipython3",
   "version": "3.7.6"
  }
 },
 "nbformat": 4,
 "nbformat_minor": 4
}
