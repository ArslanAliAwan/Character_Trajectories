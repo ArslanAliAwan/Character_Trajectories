{
 "cells": [
  {
   "cell_type": "code",
   "execution_count": 495,
   "metadata": {},
   "outputs": [],
   "source": [
    "import numpy as np \n",
    "from scipy.io import arff\n",
    "import pandas as pd"
   ]
  },
  {
   "cell_type": "markdown",
   "metadata": {},
   "source": [
    "# Creating Training Data view"
   ]
  },
  {
   "cell_type": "code",
   "execution_count": 496,
   "metadata": {},
   "outputs": [],
   "source": [
    "data1 = arff.loadarff('/Users/arslanaliawan/Desktop/Pre-experiment/Multivariate_arff/CharacterTrajectories/CharacterTrajectoriesDimension1_TRAIN.arff')"
   ]
  },
  {
   "cell_type": "code",
   "execution_count": 497,
   "metadata": {},
   "outputs": [],
   "source": [
    "df_D1 = pd.DataFrame(data1[0])"
   ]
  },
  {
   "cell_type": "code",
   "execution_count": 498,
   "metadata": {},
   "outputs": [],
   "source": [
    "data2 = arff.loadarff('/Users/arslanaliawan/Desktop/Pre-experiment/Multivariate_arff/CharacterTrajectories/CharacterTrajectoriesDimension2_TRAIN.arff')"
   ]
  },
  {
   "cell_type": "code",
   "execution_count": 499,
   "metadata": {},
   "outputs": [],
   "source": [
    "df_D2 = pd.DataFrame(data2[0])"
   ]
  },
  {
   "cell_type": "code",
   "execution_count": 500,
   "metadata": {},
   "outputs": [],
   "source": [
    "data3 = arff.loadarff('/Users/arslanaliawan/Desktop/Pre-experiment/Multivariate_arff/CharacterTrajectories/CharacterTrajectoriesDimension3_TRAIN.arff')"
   ]
  },
  {
   "cell_type": "code",
   "execution_count": 501,
   "metadata": {},
   "outputs": [],
   "source": [
    "df_D3 = pd.DataFrame(data3[0])"
   ]
  },
  {
   "cell_type": "code",
   "execution_count": 502,
   "metadata": {},
   "outputs": [
    {
     "data": {
      "text/plain": [
       "(1422, 183)"
      ]
     },
     "execution_count": 502,
     "metadata": {},
     "output_type": "execute_result"
    }
   ],
   "source": [
    "df_D1.shape"
   ]
  },
  {
   "cell_type": "code",
   "execution_count": 503,
   "metadata": {},
   "outputs": [
    {
     "data": {
      "text/plain": [
       "(1422, 183)"
      ]
     },
     "execution_count": 503,
     "metadata": {},
     "output_type": "execute_result"
    }
   ],
   "source": [
    "df_D2.shape"
   ]
  },
  {
   "cell_type": "code",
   "execution_count": 504,
   "metadata": {},
   "outputs": [
    {
     "data": {
      "text/plain": [
       "(1422, 183)"
      ]
     },
     "execution_count": 504,
     "metadata": {},
     "output_type": "execute_result"
    }
   ],
   "source": [
    "df_D3.shape"
   ]
  },
  {
   "cell_type": "code",
   "execution_count": 505,
   "metadata": {},
   "outputs": [
    {
     "data": {
      "text/html": [
       "<div>\n",
       "<style scoped>\n",
       "    .dataframe tbody tr th:only-of-type {\n",
       "        vertical-align: middle;\n",
       "    }\n",
       "\n",
       "    .dataframe tbody tr th {\n",
       "        vertical-align: top;\n",
       "    }\n",
       "\n",
       "    .dataframe thead th {\n",
       "        text-align: right;\n",
       "    }\n",
       "</style>\n",
       "<table border=\"1\" class=\"dataframe\">\n",
       "  <thead>\n",
       "    <tr style=\"text-align: right;\">\n",
       "      <th></th>\n",
       "      <th>channel_0_0</th>\n",
       "      <th>channel_0_1</th>\n",
       "      <th>channel_0_2</th>\n",
       "      <th>channel_0_3</th>\n",
       "      <th>channel_0_4</th>\n",
       "      <th>channel_0_5</th>\n",
       "      <th>channel_0_6</th>\n",
       "      <th>channel_0_7</th>\n",
       "      <th>channel_0_8</th>\n",
       "      <th>channel_0_9</th>\n",
       "      <th>...</th>\n",
       "      <th>channel_0_173</th>\n",
       "      <th>channel_0_174</th>\n",
       "      <th>channel_0_175</th>\n",
       "      <th>channel_0_176</th>\n",
       "      <th>channel_0_177</th>\n",
       "      <th>channel_0_178</th>\n",
       "      <th>channel_0_179</th>\n",
       "      <th>channel_0_180</th>\n",
       "      <th>channel_0_181</th>\n",
       "      <th>target</th>\n",
       "    </tr>\n",
       "  </thead>\n",
       "  <tbody>\n",
       "    <tr>\n",
       "      <th>0</th>\n",
       "      <td>-0.13015</td>\n",
       "      <td>-0.183121</td>\n",
       "      <td>-0.234104</td>\n",
       "      <td>-0.279929</td>\n",
       "      <td>-0.321851</td>\n",
       "      <td>-0.363783</td>\n",
       "      <td>-0.4095</td>\n",
       "      <td>-0.460814</td>\n",
       "      <td>-0.517526</td>\n",
       "      <td>-0.57844</td>\n",
       "      <td>...</td>\n",
       "      <td>NaN</td>\n",
       "      <td>NaN</td>\n",
       "      <td>NaN</td>\n",
       "      <td>NaN</td>\n",
       "      <td>NaN</td>\n",
       "      <td>NaN</td>\n",
       "      <td>NaN</td>\n",
       "      <td>NaN</td>\n",
       "      <td>NaN</td>\n",
       "      <td>b'1'</td>\n",
       "    </tr>\n",
       "  </tbody>\n",
       "</table>\n",
       "<p>1 rows × 183 columns</p>\n",
       "</div>"
      ],
      "text/plain": [
       "   channel_0_0  channel_0_1  channel_0_2  channel_0_3  channel_0_4  \\\n",
       "0     -0.13015    -0.183121    -0.234104    -0.279929    -0.321851   \n",
       "\n",
       "   channel_0_5  channel_0_6  channel_0_7  channel_0_8  channel_0_9  ...  \\\n",
       "0    -0.363783      -0.4095    -0.460814    -0.517526     -0.57844  ...   \n",
       "\n",
       "   channel_0_173  channel_0_174  channel_0_175  channel_0_176  channel_0_177  \\\n",
       "0            NaN            NaN            NaN            NaN            NaN   \n",
       "\n",
       "   channel_0_178  channel_0_179  channel_0_180  channel_0_181  target  \n",
       "0            NaN            NaN            NaN            NaN    b'1'  \n",
       "\n",
       "[1 rows x 183 columns]"
      ]
     },
     "execution_count": 505,
     "metadata": {},
     "output_type": "execute_result"
    }
   ],
   "source": [
    "df_D1.head(1)"
   ]
  },
  {
   "cell_type": "code",
   "execution_count": 506,
   "metadata": {},
   "outputs": [
    {
     "data": {
      "text/plain": [
       "array([b'1', b'2', b'3', b'4', b'5', b'6', b'7', b'8', b'9', b'10', b'11',\n",
       "       b'12', b'13', b'14', b'15', b'16', b'17', b'18', b'19', b'20'],\n",
       "      dtype=object)"
      ]
     },
     "execution_count": 506,
     "metadata": {},
     "output_type": "execute_result"
    }
   ],
   "source": [
    "df_D1.target.unique()"
   ]
  },
  {
   "cell_type": "code",
   "execution_count": 507,
   "metadata": {},
   "outputs": [
    {
     "data": {
      "text/html": [
       "<div>\n",
       "<style scoped>\n",
       "    .dataframe tbody tr th:only-of-type {\n",
       "        vertical-align: middle;\n",
       "    }\n",
       "\n",
       "    .dataframe tbody tr th {\n",
       "        vertical-align: top;\n",
       "    }\n",
       "\n",
       "    .dataframe thead th {\n",
       "        text-align: right;\n",
       "    }\n",
       "</style>\n",
       "<table border=\"1\" class=\"dataframe\">\n",
       "  <thead>\n",
       "    <tr style=\"text-align: right;\">\n",
       "      <th></th>\n",
       "      <th>channel_1_0</th>\n",
       "      <th>channel_1_1</th>\n",
       "      <th>channel_1_2</th>\n",
       "      <th>channel_1_3</th>\n",
       "      <th>channel_1_4</th>\n",
       "      <th>channel_1_5</th>\n",
       "      <th>channel_1_6</th>\n",
       "      <th>channel_1_7</th>\n",
       "      <th>channel_1_8</th>\n",
       "      <th>channel_1_9</th>\n",
       "      <th>...</th>\n",
       "      <th>channel_1_173</th>\n",
       "      <th>channel_1_174</th>\n",
       "      <th>channel_1_175</th>\n",
       "      <th>channel_1_176</th>\n",
       "      <th>channel_1_177</th>\n",
       "      <th>channel_1_178</th>\n",
       "      <th>channel_1_179</th>\n",
       "      <th>channel_1_180</th>\n",
       "      <th>channel_1_181</th>\n",
       "      <th>target</th>\n",
       "    </tr>\n",
       "  </thead>\n",
       "  <tbody>\n",
       "    <tr>\n",
       "      <th>0</th>\n",
       "      <td>0.071323</td>\n",
       "      <td>0.083973</td>\n",
       "      <td>0.085534</td>\n",
       "      <td>0.078218</td>\n",
       "      <td>0.067093</td>\n",
       "      <td>0.05552</td>\n",
       "      <td>0.043275</td>\n",
       "      <td>0.027787</td>\n",
       "      <td>0.005932</td>\n",
       "      <td>-0.025043</td>\n",
       "      <td>...</td>\n",
       "      <td>NaN</td>\n",
       "      <td>NaN</td>\n",
       "      <td>NaN</td>\n",
       "      <td>NaN</td>\n",
       "      <td>NaN</td>\n",
       "      <td>NaN</td>\n",
       "      <td>NaN</td>\n",
       "      <td>NaN</td>\n",
       "      <td>NaN</td>\n",
       "      <td>b'1'</td>\n",
       "    </tr>\n",
       "  </tbody>\n",
       "</table>\n",
       "<p>1 rows × 183 columns</p>\n",
       "</div>"
      ],
      "text/plain": [
       "   channel_1_0  channel_1_1  channel_1_2  channel_1_3  channel_1_4  \\\n",
       "0     0.071323     0.083973     0.085534     0.078218     0.067093   \n",
       "\n",
       "   channel_1_5  channel_1_6  channel_1_7  channel_1_8  channel_1_9  ...  \\\n",
       "0      0.05552     0.043275     0.027787     0.005932    -0.025043  ...   \n",
       "\n",
       "   channel_1_173  channel_1_174  channel_1_175  channel_1_176  channel_1_177  \\\n",
       "0            NaN            NaN            NaN            NaN            NaN   \n",
       "\n",
       "   channel_1_178  channel_1_179  channel_1_180  channel_1_181  target  \n",
       "0            NaN            NaN            NaN            NaN    b'1'  \n",
       "\n",
       "[1 rows x 183 columns]"
      ]
     },
     "execution_count": 507,
     "metadata": {},
     "output_type": "execute_result"
    }
   ],
   "source": [
    "df_D2.head(1)"
   ]
  },
  {
   "cell_type": "code",
   "execution_count": 508,
   "metadata": {},
   "outputs": [
    {
     "data": {
      "text/plain": [
       "array([b'1', b'2', b'3', b'4', b'5', b'6', b'7', b'8', b'9', b'10', b'11',\n",
       "       b'12', b'13', b'14', b'15', b'16', b'17', b'18', b'19', b'20'],\n",
       "      dtype=object)"
      ]
     },
     "execution_count": 508,
     "metadata": {},
     "output_type": "execute_result"
    }
   ],
   "source": [
    "df_D2.target.unique()"
   ]
  },
  {
   "cell_type": "code",
   "execution_count": 509,
   "metadata": {},
   "outputs": [
    {
     "data": {
      "text/html": [
       "<div>\n",
       "<style scoped>\n",
       "    .dataframe tbody tr th:only-of-type {\n",
       "        vertical-align: middle;\n",
       "    }\n",
       "\n",
       "    .dataframe tbody tr th {\n",
       "        vertical-align: top;\n",
       "    }\n",
       "\n",
       "    .dataframe thead th {\n",
       "        text-align: right;\n",
       "    }\n",
       "</style>\n",
       "<table border=\"1\" class=\"dataframe\">\n",
       "  <thead>\n",
       "    <tr style=\"text-align: right;\">\n",
       "      <th></th>\n",
       "      <th>channel_2_0</th>\n",
       "      <th>channel_2_1</th>\n",
       "      <th>channel_2_2</th>\n",
       "      <th>channel_2_3</th>\n",
       "      <th>channel_2_4</th>\n",
       "      <th>channel_2_5</th>\n",
       "      <th>channel_2_6</th>\n",
       "      <th>channel_2_7</th>\n",
       "      <th>channel_2_8</th>\n",
       "      <th>channel_2_9</th>\n",
       "      <th>...</th>\n",
       "      <th>channel_2_173</th>\n",
       "      <th>channel_2_174</th>\n",
       "      <th>channel_2_175</th>\n",
       "      <th>channel_2_176</th>\n",
       "      <th>channel_2_177</th>\n",
       "      <th>channel_2_178</th>\n",
       "      <th>channel_2_179</th>\n",
       "      <th>channel_2_180</th>\n",
       "      <th>channel_2_181</th>\n",
       "      <th>target</th>\n",
       "    </tr>\n",
       "  </thead>\n",
       "  <tbody>\n",
       "    <tr>\n",
       "      <th>0</th>\n",
       "      <td>0.899306</td>\n",
       "      <td>1.157239</td>\n",
       "      <td>1.320469</td>\n",
       "      <td>1.369472</td>\n",
       "      <td>1.323889</td>\n",
       "      <td>1.221704</td>\n",
       "      <td>1.098215</td>\n",
       "      <td>0.979016</td>\n",
       "      <td>0.880755</td>\n",
       "      <td>0.806413</td>\n",
       "      <td>...</td>\n",
       "      <td>NaN</td>\n",
       "      <td>NaN</td>\n",
       "      <td>NaN</td>\n",
       "      <td>NaN</td>\n",
       "      <td>NaN</td>\n",
       "      <td>NaN</td>\n",
       "      <td>NaN</td>\n",
       "      <td>NaN</td>\n",
       "      <td>NaN</td>\n",
       "      <td>b'1'</td>\n",
       "    </tr>\n",
       "  </tbody>\n",
       "</table>\n",
       "<p>1 rows × 183 columns</p>\n",
       "</div>"
      ],
      "text/plain": [
       "   channel_2_0  channel_2_1  channel_2_2  channel_2_3  channel_2_4  \\\n",
       "0     0.899306     1.157239     1.320469     1.369472     1.323889   \n",
       "\n",
       "   channel_2_5  channel_2_6  channel_2_7  channel_2_8  channel_2_9  ...  \\\n",
       "0     1.221704     1.098215     0.979016     0.880755     0.806413  ...   \n",
       "\n",
       "   channel_2_173  channel_2_174  channel_2_175  channel_2_176  channel_2_177  \\\n",
       "0            NaN            NaN            NaN            NaN            NaN   \n",
       "\n",
       "   channel_2_178  channel_2_179  channel_2_180  channel_2_181  target  \n",
       "0            NaN            NaN            NaN            NaN    b'1'  \n",
       "\n",
       "[1 rows x 183 columns]"
      ]
     },
     "execution_count": 509,
     "metadata": {},
     "output_type": "execute_result"
    }
   ],
   "source": [
    "df_D3.head(1)"
   ]
  },
  {
   "cell_type": "code",
   "execution_count": 510,
   "metadata": {},
   "outputs": [
    {
     "data": {
      "text/plain": [
       "array([b'1', b'2', b'3', b'4', b'5', b'6', b'7', b'8', b'9', b'10', b'11',\n",
       "       b'12', b'13', b'14', b'15', b'16', b'17', b'18', b'19', b'20'],\n",
       "      dtype=object)"
      ]
     },
     "execution_count": 510,
     "metadata": {},
     "output_type": "execute_result"
    }
   ],
   "source": [
    "df_D3.target.unique()"
   ]
  },
  {
   "cell_type": "code",
   "execution_count": 511,
   "metadata": {},
   "outputs": [],
   "source": [
    "df_D1_T = df_D1.head(1).T"
   ]
  },
  {
   "cell_type": "code",
   "execution_count": 512,
   "metadata": {},
   "outputs": [
    {
     "data": {
      "text/html": [
       "<div>\n",
       "<style scoped>\n",
       "    .dataframe tbody tr th:only-of-type {\n",
       "        vertical-align: middle;\n",
       "    }\n",
       "\n",
       "    .dataframe tbody tr th {\n",
       "        vertical-align: top;\n",
       "    }\n",
       "\n",
       "    .dataframe thead th {\n",
       "        text-align: right;\n",
       "    }\n",
       "</style>\n",
       "<table border=\"1\" class=\"dataframe\">\n",
       "  <thead>\n",
       "    <tr style=\"text-align: right;\">\n",
       "      <th></th>\n",
       "      <th>0</th>\n",
       "    </tr>\n",
       "  </thead>\n",
       "  <tbody>\n",
       "    <tr>\n",
       "      <th>channel_0_0</th>\n",
       "      <td>-0.13015</td>\n",
       "    </tr>\n",
       "    <tr>\n",
       "      <th>channel_0_1</th>\n",
       "      <td>-0.183121</td>\n",
       "    </tr>\n",
       "    <tr>\n",
       "      <th>channel_0_2</th>\n",
       "      <td>-0.234104</td>\n",
       "    </tr>\n",
       "    <tr>\n",
       "      <th>channel_0_3</th>\n",
       "      <td>-0.279929</td>\n",
       "    </tr>\n",
       "    <tr>\n",
       "      <th>channel_0_4</th>\n",
       "      <td>-0.321851</td>\n",
       "    </tr>\n",
       "    <tr>\n",
       "      <th>...</th>\n",
       "      <td>...</td>\n",
       "    </tr>\n",
       "    <tr>\n",
       "      <th>channel_0_178</th>\n",
       "      <td>NaN</td>\n",
       "    </tr>\n",
       "    <tr>\n",
       "      <th>channel_0_179</th>\n",
       "      <td>NaN</td>\n",
       "    </tr>\n",
       "    <tr>\n",
       "      <th>channel_0_180</th>\n",
       "      <td>NaN</td>\n",
       "    </tr>\n",
       "    <tr>\n",
       "      <th>channel_0_181</th>\n",
       "      <td>NaN</td>\n",
       "    </tr>\n",
       "    <tr>\n",
       "      <th>target</th>\n",
       "      <td>b'1'</td>\n",
       "    </tr>\n",
       "  </tbody>\n",
       "</table>\n",
       "<p>183 rows × 1 columns</p>\n",
       "</div>"
      ],
      "text/plain": [
       "                      0\n",
       "channel_0_0    -0.13015\n",
       "channel_0_1   -0.183121\n",
       "channel_0_2   -0.234104\n",
       "channel_0_3   -0.279929\n",
       "channel_0_4   -0.321851\n",
       "...                 ...\n",
       "channel_0_178       NaN\n",
       "channel_0_179       NaN\n",
       "channel_0_180       NaN\n",
       "channel_0_181       NaN\n",
       "target             b'1'\n",
       "\n",
       "[183 rows x 1 columns]"
      ]
     },
     "execution_count": 512,
     "metadata": {},
     "output_type": "execute_result"
    }
   ],
   "source": [
    "df_D1_T"
   ]
  },
  {
   "cell_type": "code",
   "execution_count": 513,
   "metadata": {},
   "outputs": [],
   "source": [
    "df_D2_T = df_D2.head(1).T"
   ]
  },
  {
   "cell_type": "code",
   "execution_count": 514,
   "metadata": {},
   "outputs": [
    {
     "data": {
      "text/html": [
       "<div>\n",
       "<style scoped>\n",
       "    .dataframe tbody tr th:only-of-type {\n",
       "        vertical-align: middle;\n",
       "    }\n",
       "\n",
       "    .dataframe tbody tr th {\n",
       "        vertical-align: top;\n",
       "    }\n",
       "\n",
       "    .dataframe thead th {\n",
       "        text-align: right;\n",
       "    }\n",
       "</style>\n",
       "<table border=\"1\" class=\"dataframe\">\n",
       "  <thead>\n",
       "    <tr style=\"text-align: right;\">\n",
       "      <th></th>\n",
       "      <th>0</th>\n",
       "    </tr>\n",
       "  </thead>\n",
       "  <tbody>\n",
       "    <tr>\n",
       "      <th>channel_1_0</th>\n",
       "      <td>0.071323</td>\n",
       "    </tr>\n",
       "    <tr>\n",
       "      <th>channel_1_1</th>\n",
       "      <td>0.083973</td>\n",
       "    </tr>\n",
       "    <tr>\n",
       "      <th>channel_1_2</th>\n",
       "      <td>0.085534</td>\n",
       "    </tr>\n",
       "    <tr>\n",
       "      <th>channel_1_3</th>\n",
       "      <td>0.078218</td>\n",
       "    </tr>\n",
       "    <tr>\n",
       "      <th>channel_1_4</th>\n",
       "      <td>0.067093</td>\n",
       "    </tr>\n",
       "    <tr>\n",
       "      <th>...</th>\n",
       "      <td>...</td>\n",
       "    </tr>\n",
       "    <tr>\n",
       "      <th>channel_1_178</th>\n",
       "      <td>NaN</td>\n",
       "    </tr>\n",
       "    <tr>\n",
       "      <th>channel_1_179</th>\n",
       "      <td>NaN</td>\n",
       "    </tr>\n",
       "    <tr>\n",
       "      <th>channel_1_180</th>\n",
       "      <td>NaN</td>\n",
       "    </tr>\n",
       "    <tr>\n",
       "      <th>channel_1_181</th>\n",
       "      <td>NaN</td>\n",
       "    </tr>\n",
       "    <tr>\n",
       "      <th>target</th>\n",
       "      <td>b'1'</td>\n",
       "    </tr>\n",
       "  </tbody>\n",
       "</table>\n",
       "<p>183 rows × 1 columns</p>\n",
       "</div>"
      ],
      "text/plain": [
       "                      0\n",
       "channel_1_0    0.071323\n",
       "channel_1_1    0.083973\n",
       "channel_1_2    0.085534\n",
       "channel_1_3    0.078218\n",
       "channel_1_4    0.067093\n",
       "...                 ...\n",
       "channel_1_178       NaN\n",
       "channel_1_179       NaN\n",
       "channel_1_180       NaN\n",
       "channel_1_181       NaN\n",
       "target             b'1'\n",
       "\n",
       "[183 rows x 1 columns]"
      ]
     },
     "execution_count": 514,
     "metadata": {},
     "output_type": "execute_result"
    }
   ],
   "source": [
    "df_D2_T"
   ]
  },
  {
   "cell_type": "code",
   "execution_count": 515,
   "metadata": {},
   "outputs": [],
   "source": [
    "df_D3_T = df_D3.head(1).T"
   ]
  },
  {
   "cell_type": "code",
   "execution_count": 516,
   "metadata": {},
   "outputs": [
    {
     "data": {
      "text/html": [
       "<div>\n",
       "<style scoped>\n",
       "    .dataframe tbody tr th:only-of-type {\n",
       "        vertical-align: middle;\n",
       "    }\n",
       "\n",
       "    .dataframe tbody tr th {\n",
       "        vertical-align: top;\n",
       "    }\n",
       "\n",
       "    .dataframe thead th {\n",
       "        text-align: right;\n",
       "    }\n",
       "</style>\n",
       "<table border=\"1\" class=\"dataframe\">\n",
       "  <thead>\n",
       "    <tr style=\"text-align: right;\">\n",
       "      <th></th>\n",
       "      <th>0</th>\n",
       "    </tr>\n",
       "  </thead>\n",
       "  <tbody>\n",
       "    <tr>\n",
       "      <th>channel_2_0</th>\n",
       "      <td>0.899306</td>\n",
       "    </tr>\n",
       "    <tr>\n",
       "      <th>channel_2_1</th>\n",
       "      <td>1.15724</td>\n",
       "    </tr>\n",
       "    <tr>\n",
       "      <th>channel_2_2</th>\n",
       "      <td>1.32047</td>\n",
       "    </tr>\n",
       "    <tr>\n",
       "      <th>channel_2_3</th>\n",
       "      <td>1.36947</td>\n",
       "    </tr>\n",
       "    <tr>\n",
       "      <th>channel_2_4</th>\n",
       "      <td>1.32389</td>\n",
       "    </tr>\n",
       "    <tr>\n",
       "      <th>...</th>\n",
       "      <td>...</td>\n",
       "    </tr>\n",
       "    <tr>\n",
       "      <th>channel_2_178</th>\n",
       "      <td>NaN</td>\n",
       "    </tr>\n",
       "    <tr>\n",
       "      <th>channel_2_179</th>\n",
       "      <td>NaN</td>\n",
       "    </tr>\n",
       "    <tr>\n",
       "      <th>channel_2_180</th>\n",
       "      <td>NaN</td>\n",
       "    </tr>\n",
       "    <tr>\n",
       "      <th>channel_2_181</th>\n",
       "      <td>NaN</td>\n",
       "    </tr>\n",
       "    <tr>\n",
       "      <th>target</th>\n",
       "      <td>b'1'</td>\n",
       "    </tr>\n",
       "  </tbody>\n",
       "</table>\n",
       "<p>183 rows × 1 columns</p>\n",
       "</div>"
      ],
      "text/plain": [
       "                      0\n",
       "channel_2_0    0.899306\n",
       "channel_2_1     1.15724\n",
       "channel_2_2     1.32047\n",
       "channel_2_3     1.36947\n",
       "channel_2_4     1.32389\n",
       "...                 ...\n",
       "channel_2_178       NaN\n",
       "channel_2_179       NaN\n",
       "channel_2_180       NaN\n",
       "channel_2_181       NaN\n",
       "target             b'1'\n",
       "\n",
       "[183 rows x 1 columns]"
      ]
     },
     "execution_count": 516,
     "metadata": {},
     "output_type": "execute_result"
    }
   ],
   "source": [
    "df_D3_T"
   ]
  },
  {
   "cell_type": "code",
   "execution_count": 517,
   "metadata": {},
   "outputs": [],
   "source": [
    "arr1 = df_D1_T.to_numpy()\n",
    "arr2 = df_D2_T.to_numpy()\n",
    "arr3 = df_D3_T.to_numpy()"
   ]
  },
  {
   "cell_type": "code",
   "execution_count": 518,
   "metadata": {},
   "outputs": [],
   "source": [
    "finalarray_training_data = np.concatenate((arr1, arr2),axis=1)"
   ]
  },
  {
   "cell_type": "code",
   "execution_count": 519,
   "metadata": {},
   "outputs": [],
   "source": [
    "finalarray_training_data = np.concatenate((finalarray_training_data, arr3),axis=1)"
   ]
  },
  {
   "cell_type": "code",
   "execution_count": 520,
   "metadata": {},
   "outputs": [
    {
     "data": {
      "text/plain": [
       "array([[-0.13015, 0.071323, 0.899306],\n",
       "       [-0.183121, 0.083973, 1.157239],\n",
       "       [-0.234104, 0.085534, 1.320469],\n",
       "       [-0.279929, 0.078218, 1.369472],\n",
       "       [-0.321851, 0.067093, 1.323889],\n",
       "       [-0.363783, 0.05552, 1.221704],\n",
       "       [-0.4095, 0.043275, 1.098215],\n",
       "       [-0.460814, 0.027787, 0.979016],\n",
       "       [-0.517526, 0.005932, 0.880755],\n",
       "       [-0.57844, -0.025043, 0.806413],\n",
       "       [-0.642335, -0.066984, 0.742138],\n",
       "       [-0.708369, -0.120483, 0.670647],\n",
       "       [-0.776037, -0.185363, 0.589337],\n",
       "       [-0.844799, -0.261646, 0.509148],\n",
       "       [-0.913359, -0.349528, 0.440515],\n",
       "       [-0.978872, -0.448135, 0.3894],\n",
       "       [-1.036865, -0.554524, 0.359572],\n",
       "       [-1.082398, -0.663956, 0.344563],\n",
       "       [-1.111614, -0.770916, 0.322058],\n",
       "       [-1.122168, -0.870061, 0.271962],\n",
       "       [-1.112322, -0.95681, 0.199647],\n",
       "       [-1.080184, -1.027564, 0.130489],\n",
       "       [-1.024236, -1.079644, 0.084365],\n",
       "       [-0.944604, -1.111149, 0.064815],\n",
       "       [-0.843469, -1.121016, 0.066682],\n",
       "       [-0.724226, -1.109332, 0.081823],\n",
       "       [-0.590649, -1.077545, 0.100159],\n",
       "       [-0.446936, -1.028084, 0.115267],\n",
       "       [-0.297932, -0.963634, 0.128232],\n",
       "       [-0.148794, -0.886796, 0.139693],\n",
       "       [-0.004546, -0.800359, 0.142104],\n",
       "       [0.13014, -0.707551, 0.129275],\n",
       "       [0.251447, -0.611728, 0.109656],\n",
       "       [0.357344, -0.515526, 0.097602],\n",
       "       [0.4482, -0.420019, 0.093847],\n",
       "       [0.526596, -0.324393, 0.087839],\n",
       "       [0.596567, -0.226183, 0.077505],\n",
       "       [0.662582, -0.121687, 0.072468],\n",
       "       [0.728357, -0.006563, 0.076804],\n",
       "       [0.795736, 0.122791, 0.081033],\n",
       "       [0.864318, 0.267273, 0.074897],\n",
       "       [0.932146, 0.424113, 0.060028],\n",
       "       [0.996691, 0.587763, 0.045914],\n",
       "       [1.055067, 0.751332, 0.038271],\n",
       "       [1.103557, 0.907227, 0.035234],\n",
       "       [1.137583, 1.047542, 0.031682],\n",
       "       [1.152673, 1.165035, 0.024566],\n",
       "       [1.145736, 1.254235, 0.017579],\n",
       "       [1.115602, 1.31195, 0.021401],\n",
       "       [1.062653, 1.337243, 0.043884],\n",
       "       [0.988309, 1.33119, 0.081304],\n",
       "       [0.895041, 1.296259, 0.127452],\n",
       "       [0.786664, 1.235296, 0.187028],\n",
       "       [0.668248, 1.150822, 0.265426],\n",
       "       [0.545463, 1.045354, 0.347009],\n",
       "       [0.423899, 0.922427, 0.399681],\n",
       "       [0.308732, 0.787098, 0.402621],\n",
       "       [0.203901, 0.645131, 0.358832],\n",
       "       [0.11002, 0.501353, 0.284243],\n",
       "       [0.023092, 0.35853, 0.197375],\n",
       "       [-0.062932, 0.217461, 0.117088],\n",
       "       [-0.151422, 0.077811, 0.057831],\n",
       "       [-0.241478, -0.061271, 0.023321],\n",
       "       [-0.33061, -0.201091, 0.007578],\n",
       "       [-0.417377, -0.343313, 0.001967],\n",
       "       [-0.501012, -0.489118, 0.000406],\n",
       "       [-0.579531, -0.637844, 6.6e-05],\n",
       "       [-0.648897, -0.786177, 9e-06],\n",
       "       [-0.703882, -0.92854, 1e-06],\n",
       "       [-0.739634, -1.058438, 0.0],\n",
       "       [-0.752814, -1.169921, 0.0],\n",
       "       [-0.7417, -1.258418, 0.0],\n",
       "       [-0.705559, -1.320743, 0.0],\n",
       "       [-0.644223, -1.354655, 0.0],\n",
       "       [-0.558613, -1.358592, 0.0],\n",
       "       [-0.451547, -1.331774, 0.0],\n",
       "       [-0.32764, -1.274499, 0.0],\n",
       "       [-0.192084, -1.188409, 0.0],\n",
       "       [-0.04927, -1.076564, 0.0],\n",
       "       [0.097554, -0.943216, 0.0],\n",
       "       [0.24556, -0.793123, 0.0],\n",
       "       [0.392077, -0.63058, 0.0],\n",
       "       [0.535592, -0.45867, -3e-06],\n",
       "       [0.67652, -0.27926, -2.7e-05],\n",
       "       [0.816243, -0.093793, -0.000211],\n",
       "       [0.955036, 0.095611, -0.001319],\n",
       "       [1.090303, 0.285256, -0.006554],\n",
       "       [1.215929, 0.469446, -0.026126],\n",
       "       [1.323005, 0.640665, -0.084246],\n",
       "       [1.401796, 0.790455, -0.222055],\n",
       "       [1.44428, 0.910914, -0.484459],\n",
       "       [1.44668, 0.996456, -0.887331],\n",
       "       [1.411775, 1.045153, -1.384746],\n",
       "       [1.350204, 1.059351, -1.86823],\n",
       "       [1.278833, 1.045773, -2.211818],\n",
       "       [1.21508, 1.015013, -2.341004],\n",
       "       [1.169886, 0.979411, -2.2767],\n",
       "       [1.144527, 0.949175, -2.114594],\n",
       "       [1.133459, 0.929101, -1.955706],\n",
       "       [1.129829, 0.918521, -1.851204],\n",
       "       [1.129001, 0.914082, -1.800501],\n",
       "       [1.128902, 0.912602, -1.781772],\n",
       "       [1.128912, 0.91221, -1.776437],\n",
       "       [1.12892, 0.912128, -1.775257],\n",
       "       [1.128922, 0.912115, -1.775054],\n",
       "       [1.128923, 0.912113, -1.775027],\n",
       "       [1.128921, 0.912112, -1.775021],\n",
       "       [1.128906, 0.912099, -1.774998],\n",
       "       [1.128793, 0.912008, -1.77482],\n",
       "       [1.128121, 0.911465, -1.773763],\n",
       "       [1.124982, 0.908929, -1.768828],\n",
       "       [1.113458, 0.899618, -1.750708],\n",
       "       [1.08015, 0.872707, -1.698337],\n",
       "       [1.00425, 0.811384, -1.578999],\n",
       "       [0.867711, 0.701067, -1.364316],\n",
       "       [0.673591, 0.544228, -1.059098],\n",
       "       [nan, nan, nan],\n",
       "       [nan, nan, nan],\n",
       "       [nan, nan, nan],\n",
       "       [nan, nan, nan],\n",
       "       [nan, nan, nan],\n",
       "       [nan, nan, nan],\n",
       "       [nan, nan, nan],\n",
       "       [nan, nan, nan],\n",
       "       [nan, nan, nan],\n",
       "       [nan, nan, nan],\n",
       "       [nan, nan, nan],\n",
       "       [nan, nan, nan],\n",
       "       [nan, nan, nan],\n",
       "       [nan, nan, nan],\n",
       "       [nan, nan, nan],\n",
       "       [nan, nan, nan],\n",
       "       [nan, nan, nan],\n",
       "       [nan, nan, nan],\n",
       "       [nan, nan, nan],\n",
       "       [nan, nan, nan],\n",
       "       [nan, nan, nan],\n",
       "       [nan, nan, nan],\n",
       "       [nan, nan, nan],\n",
       "       [nan, nan, nan],\n",
       "       [nan, nan, nan],\n",
       "       [nan, nan, nan],\n",
       "       [nan, nan, nan],\n",
       "       [nan, nan, nan],\n",
       "       [nan, nan, nan],\n",
       "       [nan, nan, nan],\n",
       "       [nan, nan, nan],\n",
       "       [nan, nan, nan],\n",
       "       [nan, nan, nan],\n",
       "       [nan, nan, nan],\n",
       "       [nan, nan, nan],\n",
       "       [nan, nan, nan],\n",
       "       [nan, nan, nan],\n",
       "       [nan, nan, nan],\n",
       "       [nan, nan, nan],\n",
       "       [nan, nan, nan],\n",
       "       [nan, nan, nan],\n",
       "       [nan, nan, nan],\n",
       "       [nan, nan, nan],\n",
       "       [nan, nan, nan],\n",
       "       [nan, nan, nan],\n",
       "       [nan, nan, nan],\n",
       "       [nan, nan, nan],\n",
       "       [nan, nan, nan],\n",
       "       [nan, nan, nan],\n",
       "       [nan, nan, nan],\n",
       "       [nan, nan, nan],\n",
       "       [nan, nan, nan],\n",
       "       [nan, nan, nan],\n",
       "       [nan, nan, nan],\n",
       "       [nan, nan, nan],\n",
       "       [nan, nan, nan],\n",
       "       [nan, nan, nan],\n",
       "       [nan, nan, nan],\n",
       "       [nan, nan, nan],\n",
       "       [nan, nan, nan],\n",
       "       [nan, nan, nan],\n",
       "       [nan, nan, nan],\n",
       "       [nan, nan, nan],\n",
       "       [nan, nan, nan],\n",
       "       [nan, nan, nan],\n",
       "       [nan, nan, nan],\n",
       "       [b'1', b'1', b'1']], dtype=object)"
      ]
     },
     "execution_count": 520,
     "metadata": {},
     "output_type": "execute_result"
    }
   ],
   "source": [
    "finalarray_training_data"
   ]
  },
  {
   "cell_type": "code",
   "execution_count": 521,
   "metadata": {},
   "outputs": [
    {
     "data": {
      "text/plain": [
       "array([-0.13015, 0.071323, 0.899306], dtype=object)"
      ]
     },
     "execution_count": 521,
     "metadata": {},
     "output_type": "execute_result"
    }
   ],
   "source": [
    "finalarray_training_data[:][0]"
   ]
  },
  {
   "cell_type": "code",
   "execution_count": 522,
   "metadata": {},
   "outputs": [
    {
     "data": {
      "text/plain": [
       "array([b'1', b'1', b'1'], dtype=object)"
      ]
     },
     "execution_count": 522,
     "metadata": {},
     "output_type": "execute_result"
    }
   ],
   "source": [
    "finalarray_training_data[:][-1]"
   ]
  },
  {
   "cell_type": "code",
   "execution_count": 523,
   "metadata": {},
   "outputs": [],
   "source": [
    "dictionary = dict()"
   ]
  },
  {
   "cell_type": "code",
   "execution_count": 524,
   "metadata": {},
   "outputs": [],
   "source": [
    "dictionary['1'] = finalarray_training_data"
   ]
  },
  {
   "cell_type": "code",
   "execution_count": 525,
   "metadata": {},
   "outputs": [
    {
     "data": {
      "text/plain": [
       "{'1': array([[-0.13015, 0.071323, 0.899306],\n",
       "        [-0.183121, 0.083973, 1.157239],\n",
       "        [-0.234104, 0.085534, 1.320469],\n",
       "        [-0.279929, 0.078218, 1.369472],\n",
       "        [-0.321851, 0.067093, 1.323889],\n",
       "        [-0.363783, 0.05552, 1.221704],\n",
       "        [-0.4095, 0.043275, 1.098215],\n",
       "        [-0.460814, 0.027787, 0.979016],\n",
       "        [-0.517526, 0.005932, 0.880755],\n",
       "        [-0.57844, -0.025043, 0.806413],\n",
       "        [-0.642335, -0.066984, 0.742138],\n",
       "        [-0.708369, -0.120483, 0.670647],\n",
       "        [-0.776037, -0.185363, 0.589337],\n",
       "        [-0.844799, -0.261646, 0.509148],\n",
       "        [-0.913359, -0.349528, 0.440515],\n",
       "        [-0.978872, -0.448135, 0.3894],\n",
       "        [-1.036865, -0.554524, 0.359572],\n",
       "        [-1.082398, -0.663956, 0.344563],\n",
       "        [-1.111614, -0.770916, 0.322058],\n",
       "        [-1.122168, -0.870061, 0.271962],\n",
       "        [-1.112322, -0.95681, 0.199647],\n",
       "        [-1.080184, -1.027564, 0.130489],\n",
       "        [-1.024236, -1.079644, 0.084365],\n",
       "        [-0.944604, -1.111149, 0.064815],\n",
       "        [-0.843469, -1.121016, 0.066682],\n",
       "        [-0.724226, -1.109332, 0.081823],\n",
       "        [-0.590649, -1.077545, 0.100159],\n",
       "        [-0.446936, -1.028084, 0.115267],\n",
       "        [-0.297932, -0.963634, 0.128232],\n",
       "        [-0.148794, -0.886796, 0.139693],\n",
       "        [-0.004546, -0.800359, 0.142104],\n",
       "        [0.13014, -0.707551, 0.129275],\n",
       "        [0.251447, -0.611728, 0.109656],\n",
       "        [0.357344, -0.515526, 0.097602],\n",
       "        [0.4482, -0.420019, 0.093847],\n",
       "        [0.526596, -0.324393, 0.087839],\n",
       "        [0.596567, -0.226183, 0.077505],\n",
       "        [0.662582, -0.121687, 0.072468],\n",
       "        [0.728357, -0.006563, 0.076804],\n",
       "        [0.795736, 0.122791, 0.081033],\n",
       "        [0.864318, 0.267273, 0.074897],\n",
       "        [0.932146, 0.424113, 0.060028],\n",
       "        [0.996691, 0.587763, 0.045914],\n",
       "        [1.055067, 0.751332, 0.038271],\n",
       "        [1.103557, 0.907227, 0.035234],\n",
       "        [1.137583, 1.047542, 0.031682],\n",
       "        [1.152673, 1.165035, 0.024566],\n",
       "        [1.145736, 1.254235, 0.017579],\n",
       "        [1.115602, 1.31195, 0.021401],\n",
       "        [1.062653, 1.337243, 0.043884],\n",
       "        [0.988309, 1.33119, 0.081304],\n",
       "        [0.895041, 1.296259, 0.127452],\n",
       "        [0.786664, 1.235296, 0.187028],\n",
       "        [0.668248, 1.150822, 0.265426],\n",
       "        [0.545463, 1.045354, 0.347009],\n",
       "        [0.423899, 0.922427, 0.399681],\n",
       "        [0.308732, 0.787098, 0.402621],\n",
       "        [0.203901, 0.645131, 0.358832],\n",
       "        [0.11002, 0.501353, 0.284243],\n",
       "        [0.023092, 0.35853, 0.197375],\n",
       "        [-0.062932, 0.217461, 0.117088],\n",
       "        [-0.151422, 0.077811, 0.057831],\n",
       "        [-0.241478, -0.061271, 0.023321],\n",
       "        [-0.33061, -0.201091, 0.007578],\n",
       "        [-0.417377, -0.343313, 0.001967],\n",
       "        [-0.501012, -0.489118, 0.000406],\n",
       "        [-0.579531, -0.637844, 6.6e-05],\n",
       "        [-0.648897, -0.786177, 9e-06],\n",
       "        [-0.703882, -0.92854, 1e-06],\n",
       "        [-0.739634, -1.058438, 0.0],\n",
       "        [-0.752814, -1.169921, 0.0],\n",
       "        [-0.7417, -1.258418, 0.0],\n",
       "        [-0.705559, -1.320743, 0.0],\n",
       "        [-0.644223, -1.354655, 0.0],\n",
       "        [-0.558613, -1.358592, 0.0],\n",
       "        [-0.451547, -1.331774, 0.0],\n",
       "        [-0.32764, -1.274499, 0.0],\n",
       "        [-0.192084, -1.188409, 0.0],\n",
       "        [-0.04927, -1.076564, 0.0],\n",
       "        [0.097554, -0.943216, 0.0],\n",
       "        [0.24556, -0.793123, 0.0],\n",
       "        [0.392077, -0.63058, 0.0],\n",
       "        [0.535592, -0.45867, -3e-06],\n",
       "        [0.67652, -0.27926, -2.7e-05],\n",
       "        [0.816243, -0.093793, -0.000211],\n",
       "        [0.955036, 0.095611, -0.001319],\n",
       "        [1.090303, 0.285256, -0.006554],\n",
       "        [1.215929, 0.469446, -0.026126],\n",
       "        [1.323005, 0.640665, -0.084246],\n",
       "        [1.401796, 0.790455, -0.222055],\n",
       "        [1.44428, 0.910914, -0.484459],\n",
       "        [1.44668, 0.996456, -0.887331],\n",
       "        [1.411775, 1.045153, -1.384746],\n",
       "        [1.350204, 1.059351, -1.86823],\n",
       "        [1.278833, 1.045773, -2.211818],\n",
       "        [1.21508, 1.015013, -2.341004],\n",
       "        [1.169886, 0.979411, -2.2767],\n",
       "        [1.144527, 0.949175, -2.114594],\n",
       "        [1.133459, 0.929101, -1.955706],\n",
       "        [1.129829, 0.918521, -1.851204],\n",
       "        [1.129001, 0.914082, -1.800501],\n",
       "        [1.128902, 0.912602, -1.781772],\n",
       "        [1.128912, 0.91221, -1.776437],\n",
       "        [1.12892, 0.912128, -1.775257],\n",
       "        [1.128922, 0.912115, -1.775054],\n",
       "        [1.128923, 0.912113, -1.775027],\n",
       "        [1.128921, 0.912112, -1.775021],\n",
       "        [1.128906, 0.912099, -1.774998],\n",
       "        [1.128793, 0.912008, -1.77482],\n",
       "        [1.128121, 0.911465, -1.773763],\n",
       "        [1.124982, 0.908929, -1.768828],\n",
       "        [1.113458, 0.899618, -1.750708],\n",
       "        [1.08015, 0.872707, -1.698337],\n",
       "        [1.00425, 0.811384, -1.578999],\n",
       "        [0.867711, 0.701067, -1.364316],\n",
       "        [0.673591, 0.544228, -1.059098],\n",
       "        [nan, nan, nan],\n",
       "        [nan, nan, nan],\n",
       "        [nan, nan, nan],\n",
       "        [nan, nan, nan],\n",
       "        [nan, nan, nan],\n",
       "        [nan, nan, nan],\n",
       "        [nan, nan, nan],\n",
       "        [nan, nan, nan],\n",
       "        [nan, nan, nan],\n",
       "        [nan, nan, nan],\n",
       "        [nan, nan, nan],\n",
       "        [nan, nan, nan],\n",
       "        [nan, nan, nan],\n",
       "        [nan, nan, nan],\n",
       "        [nan, nan, nan],\n",
       "        [nan, nan, nan],\n",
       "        [nan, nan, nan],\n",
       "        [nan, nan, nan],\n",
       "        [nan, nan, nan],\n",
       "        [nan, nan, nan],\n",
       "        [nan, nan, nan],\n",
       "        [nan, nan, nan],\n",
       "        [nan, nan, nan],\n",
       "        [nan, nan, nan],\n",
       "        [nan, nan, nan],\n",
       "        [nan, nan, nan],\n",
       "        [nan, nan, nan],\n",
       "        [nan, nan, nan],\n",
       "        [nan, nan, nan],\n",
       "        [nan, nan, nan],\n",
       "        [nan, nan, nan],\n",
       "        [nan, nan, nan],\n",
       "        [nan, nan, nan],\n",
       "        [nan, nan, nan],\n",
       "        [nan, nan, nan],\n",
       "        [nan, nan, nan],\n",
       "        [nan, nan, nan],\n",
       "        [nan, nan, nan],\n",
       "        [nan, nan, nan],\n",
       "        [nan, nan, nan],\n",
       "        [nan, nan, nan],\n",
       "        [nan, nan, nan],\n",
       "        [nan, nan, nan],\n",
       "        [nan, nan, nan],\n",
       "        [nan, nan, nan],\n",
       "        [nan, nan, nan],\n",
       "        [nan, nan, nan],\n",
       "        [nan, nan, nan],\n",
       "        [nan, nan, nan],\n",
       "        [nan, nan, nan],\n",
       "        [nan, nan, nan],\n",
       "        [nan, nan, nan],\n",
       "        [nan, nan, nan],\n",
       "        [nan, nan, nan],\n",
       "        [nan, nan, nan],\n",
       "        [nan, nan, nan],\n",
       "        [nan, nan, nan],\n",
       "        [nan, nan, nan],\n",
       "        [nan, nan, nan],\n",
       "        [nan, nan, nan],\n",
       "        [nan, nan, nan],\n",
       "        [nan, nan, nan],\n",
       "        [nan, nan, nan],\n",
       "        [nan, nan, nan],\n",
       "        [nan, nan, nan],\n",
       "        [nan, nan, nan],\n",
       "        [b'1', b'1', b'1']], dtype=object)}"
      ]
     },
     "execution_count": 525,
     "metadata": {},
     "output_type": "execute_result"
    }
   ],
   "source": [
    "dictionary"
   ]
  },
  {
   "cell_type": "markdown",
   "metadata": {},
   "source": [
    "# Making Original Test View"
   ]
  },
  {
   "cell_type": "code",
   "execution_count": 526,
   "metadata": {},
   "outputs": [],
   "source": [
    "Test_data1 = arff.loadarff('/Users/arslanaliawan/Desktop/Pre-experiment/Multivariate_arff/CharacterTrajectories/CharacterTrajectoriesDimension1_TEST.arff')"
   ]
  },
  {
   "cell_type": "code",
   "execution_count": 527,
   "metadata": {},
   "outputs": [],
   "source": [
    "Test_df_D1 = pd.DataFrame(Test_data1[0])"
   ]
  },
  {
   "cell_type": "code",
   "execution_count": 528,
   "metadata": {},
   "outputs": [],
   "source": [
    "Test_data2 = arff.loadarff('/Users/arslanaliawan/Desktop/Pre-experiment/Multivariate_arff/CharacterTrajectories/CharacterTrajectoriesDimension2_TEST.arff')"
   ]
  },
  {
   "cell_type": "code",
   "execution_count": 529,
   "metadata": {},
   "outputs": [],
   "source": [
    "Test_df_D2 = pd.DataFrame(Test_data2[0])"
   ]
  },
  {
   "cell_type": "code",
   "execution_count": 530,
   "metadata": {},
   "outputs": [],
   "source": [
    "Test_data3 = arff.loadarff('/Users/arslanaliawan/Desktop/Pre-experiment/Multivariate_arff/CharacterTrajectories/CharacterTrajectoriesDimension3_TEST.arff')"
   ]
  },
  {
   "cell_type": "code",
   "execution_count": 531,
   "metadata": {},
   "outputs": [],
   "source": [
    "Test_df_D3 = pd.DataFrame(Test_data3[0])"
   ]
  },
  {
   "cell_type": "code",
   "execution_count": 532,
   "metadata": {},
   "outputs": [
    {
     "name": "stdout",
     "output_type": "stream",
     "text": [
      "(1436, 183)\n",
      "(1436, 183)\n",
      "(1436, 183)\n"
     ]
    }
   ],
   "source": [
    "print(Test_df_D1.shape)\n",
    "print(Test_df_D2.shape)\n",
    "print(Test_df_D3.shape)"
   ]
  },
  {
   "cell_type": "code",
   "execution_count": 533,
   "metadata": {},
   "outputs": [
    {
     "data": {
      "text/html": [
       "<div>\n",
       "<style scoped>\n",
       "    .dataframe tbody tr th:only-of-type {\n",
       "        vertical-align: middle;\n",
       "    }\n",
       "\n",
       "    .dataframe tbody tr th {\n",
       "        vertical-align: top;\n",
       "    }\n",
       "\n",
       "    .dataframe thead th {\n",
       "        text-align: right;\n",
       "    }\n",
       "</style>\n",
       "<table border=\"1\" class=\"dataframe\">\n",
       "  <thead>\n",
       "    <tr style=\"text-align: right;\">\n",
       "      <th></th>\n",
       "      <th>channel_0_0</th>\n",
       "      <th>channel_0_1</th>\n",
       "      <th>channel_0_2</th>\n",
       "      <th>channel_0_3</th>\n",
       "      <th>channel_0_4</th>\n",
       "      <th>channel_0_5</th>\n",
       "      <th>channel_0_6</th>\n",
       "      <th>channel_0_7</th>\n",
       "      <th>channel_0_8</th>\n",
       "      <th>channel_0_9</th>\n",
       "      <th>...</th>\n",
       "      <th>channel_0_173</th>\n",
       "      <th>channel_0_174</th>\n",
       "      <th>channel_0_175</th>\n",
       "      <th>channel_0_176</th>\n",
       "      <th>channel_0_177</th>\n",
       "      <th>channel_0_178</th>\n",
       "      <th>channel_0_179</th>\n",
       "      <th>channel_0_180</th>\n",
       "      <th>channel_0_181</th>\n",
       "      <th>target</th>\n",
       "    </tr>\n",
       "  </thead>\n",
       "  <tbody>\n",
       "    <tr>\n",
       "      <th>0</th>\n",
       "      <td>0.043915</td>\n",
       "      <td>0.033922</td>\n",
       "      <td>0.007255</td>\n",
       "      <td>-0.030362</td>\n",
       "      <td>-0.069213</td>\n",
       "      <td>-0.101034</td>\n",
       "      <td>-0.123061</td>\n",
       "      <td>-0.138499</td>\n",
       "      <td>-0.153547</td>\n",
       "      <td>-0.173622</td>\n",
       "      <td>...</td>\n",
       "      <td>NaN</td>\n",
       "      <td>NaN</td>\n",
       "      <td>NaN</td>\n",
       "      <td>NaN</td>\n",
       "      <td>NaN</td>\n",
       "      <td>NaN</td>\n",
       "      <td>NaN</td>\n",
       "      <td>NaN</td>\n",
       "      <td>NaN</td>\n",
       "      <td>b'1'</td>\n",
       "    </tr>\n",
       "  </tbody>\n",
       "</table>\n",
       "<p>1 rows × 183 columns</p>\n",
       "</div>"
      ],
      "text/plain": [
       "   channel_0_0  channel_0_1  channel_0_2  channel_0_3  channel_0_4  \\\n",
       "0     0.043915     0.033922     0.007255    -0.030362    -0.069213   \n",
       "\n",
       "   channel_0_5  channel_0_6  channel_0_7  channel_0_8  channel_0_9  ...  \\\n",
       "0    -0.101034    -0.123061    -0.138499    -0.153547    -0.173622  ...   \n",
       "\n",
       "   channel_0_173  channel_0_174  channel_0_175  channel_0_176  channel_0_177  \\\n",
       "0            NaN            NaN            NaN            NaN            NaN   \n",
       "\n",
       "   channel_0_178  channel_0_179  channel_0_180  channel_0_181  target  \n",
       "0            NaN            NaN            NaN            NaN    b'1'  \n",
       "\n",
       "[1 rows x 183 columns]"
      ]
     },
     "execution_count": 533,
     "metadata": {},
     "output_type": "execute_result"
    }
   ],
   "source": [
    "Test_df_D1.head(1)"
   ]
  },
  {
   "cell_type": "code",
   "execution_count": 534,
   "metadata": {},
   "outputs": [
    {
     "data": {
      "text/plain": [
       "array([b'1', b'2', b'3', b'4', b'5', b'6', b'7', b'8', b'9', b'10', b'11',\n",
       "       b'12', b'13', b'14', b'15', b'16', b'17', b'18', b'19', b'20'],\n",
       "      dtype=object)"
      ]
     },
     "execution_count": 534,
     "metadata": {},
     "output_type": "execute_result"
    }
   ],
   "source": [
    "Test_df_D1.target.unique()"
   ]
  },
  {
   "cell_type": "code",
   "execution_count": 535,
   "metadata": {},
   "outputs": [
    {
     "data": {
      "text/html": [
       "<div>\n",
       "<style scoped>\n",
       "    .dataframe tbody tr th:only-of-type {\n",
       "        vertical-align: middle;\n",
       "    }\n",
       "\n",
       "    .dataframe tbody tr th {\n",
       "        vertical-align: top;\n",
       "    }\n",
       "\n",
       "    .dataframe thead th {\n",
       "        text-align: right;\n",
       "    }\n",
       "</style>\n",
       "<table border=\"1\" class=\"dataframe\">\n",
       "  <thead>\n",
       "    <tr style=\"text-align: right;\">\n",
       "      <th></th>\n",
       "      <th>channel_1_0</th>\n",
       "      <th>channel_1_1</th>\n",
       "      <th>channel_1_2</th>\n",
       "      <th>channel_1_3</th>\n",
       "      <th>channel_1_4</th>\n",
       "      <th>channel_1_5</th>\n",
       "      <th>channel_1_6</th>\n",
       "      <th>channel_1_7</th>\n",
       "      <th>channel_1_8</th>\n",
       "      <th>channel_1_9</th>\n",
       "      <th>...</th>\n",
       "      <th>channel_1_173</th>\n",
       "      <th>channel_1_174</th>\n",
       "      <th>channel_1_175</th>\n",
       "      <th>channel_1_176</th>\n",
       "      <th>channel_1_177</th>\n",
       "      <th>channel_1_178</th>\n",
       "      <th>channel_1_179</th>\n",
       "      <th>channel_1_180</th>\n",
       "      <th>channel_1_181</th>\n",
       "      <th>target</th>\n",
       "    </tr>\n",
       "  </thead>\n",
       "  <tbody>\n",
       "    <tr>\n",
       "      <th>0</th>\n",
       "      <td>-0.010011</td>\n",
       "      <td>-0.004357</td>\n",
       "      <td>0.005951</td>\n",
       "      <td>0.018295</td>\n",
       "      <td>0.029589</td>\n",
       "      <td>0.038164</td>\n",
       "      <td>0.044259</td>\n",
       "      <td>0.048942</td>\n",
       "      <td>0.052885</td>\n",
       "      <td>0.056265</td>\n",
       "      <td>...</td>\n",
       "      <td>NaN</td>\n",
       "      <td>NaN</td>\n",
       "      <td>NaN</td>\n",
       "      <td>NaN</td>\n",
       "      <td>NaN</td>\n",
       "      <td>NaN</td>\n",
       "      <td>NaN</td>\n",
       "      <td>NaN</td>\n",
       "      <td>NaN</td>\n",
       "      <td>b'1'</td>\n",
       "    </tr>\n",
       "  </tbody>\n",
       "</table>\n",
       "<p>1 rows × 183 columns</p>\n",
       "</div>"
      ],
      "text/plain": [
       "   channel_1_0  channel_1_1  channel_1_2  channel_1_3  channel_1_4  \\\n",
       "0    -0.010011    -0.004357     0.005951     0.018295     0.029589   \n",
       "\n",
       "   channel_1_5  channel_1_6  channel_1_7  channel_1_8  channel_1_9  ...  \\\n",
       "0     0.038164     0.044259     0.048942     0.052885     0.056265  ...   \n",
       "\n",
       "   channel_1_173  channel_1_174  channel_1_175  channel_1_176  channel_1_177  \\\n",
       "0            NaN            NaN            NaN            NaN            NaN   \n",
       "\n",
       "   channel_1_178  channel_1_179  channel_1_180  channel_1_181  target  \n",
       "0            NaN            NaN            NaN            NaN    b'1'  \n",
       "\n",
       "[1 rows x 183 columns]"
      ]
     },
     "execution_count": 535,
     "metadata": {},
     "output_type": "execute_result"
    }
   ],
   "source": [
    "Test_df_D2.head(1)"
   ]
  },
  {
   "cell_type": "code",
   "execution_count": 536,
   "metadata": {},
   "outputs": [
    {
     "data": {
      "text/html": [
       "<div>\n",
       "<style scoped>\n",
       "    .dataframe tbody tr th:only-of-type {\n",
       "        vertical-align: middle;\n",
       "    }\n",
       "\n",
       "    .dataframe tbody tr th {\n",
       "        vertical-align: top;\n",
       "    }\n",
       "\n",
       "    .dataframe thead th {\n",
       "        text-align: right;\n",
       "    }\n",
       "</style>\n",
       "<table border=\"1\" class=\"dataframe\">\n",
       "  <thead>\n",
       "    <tr style=\"text-align: right;\">\n",
       "      <th></th>\n",
       "      <th>channel_2_0</th>\n",
       "      <th>channel_2_1</th>\n",
       "      <th>channel_2_2</th>\n",
       "      <th>channel_2_3</th>\n",
       "      <th>channel_2_4</th>\n",
       "      <th>channel_2_5</th>\n",
       "      <th>channel_2_6</th>\n",
       "      <th>channel_2_7</th>\n",
       "      <th>channel_2_8</th>\n",
       "      <th>channel_2_9</th>\n",
       "      <th>...</th>\n",
       "      <th>channel_2_173</th>\n",
       "      <th>channel_2_174</th>\n",
       "      <th>channel_2_175</th>\n",
       "      <th>channel_2_176</th>\n",
       "      <th>channel_2_177</th>\n",
       "      <th>channel_2_178</th>\n",
       "      <th>channel_2_179</th>\n",
       "      <th>channel_2_180</th>\n",
       "      <th>channel_2_181</th>\n",
       "      <th>target</th>\n",
       "    </tr>\n",
       "  </thead>\n",
       "  <tbody>\n",
       "    <tr>\n",
       "      <th>0</th>\n",
       "      <td>0.536491</td>\n",
       "      <td>0.76718</td>\n",
       "      <td>0.993862</td>\n",
       "      <td>1.184721</td>\n",
       "      <td>1.31248</td>\n",
       "      <td>1.360485</td>\n",
       "      <td>1.32964</td>\n",
       "      <td>1.241397</td>\n",
       "      <td>1.13202</td>\n",
       "      <td>1.03714</td>\n",
       "      <td>...</td>\n",
       "      <td>NaN</td>\n",
       "      <td>NaN</td>\n",
       "      <td>NaN</td>\n",
       "      <td>NaN</td>\n",
       "      <td>NaN</td>\n",
       "      <td>NaN</td>\n",
       "      <td>NaN</td>\n",
       "      <td>NaN</td>\n",
       "      <td>NaN</td>\n",
       "      <td>b'1'</td>\n",
       "    </tr>\n",
       "  </tbody>\n",
       "</table>\n",
       "<p>1 rows × 183 columns</p>\n",
       "</div>"
      ],
      "text/plain": [
       "   channel_2_0  channel_2_1  channel_2_2  channel_2_3  channel_2_4  \\\n",
       "0     0.536491      0.76718     0.993862     1.184721      1.31248   \n",
       "\n",
       "   channel_2_5  channel_2_6  channel_2_7  channel_2_8  channel_2_9  ...  \\\n",
       "0     1.360485      1.32964     1.241397      1.13202      1.03714  ...   \n",
       "\n",
       "   channel_2_173  channel_2_174  channel_2_175  channel_2_176  channel_2_177  \\\n",
       "0            NaN            NaN            NaN            NaN            NaN   \n",
       "\n",
       "   channel_2_178  channel_2_179  channel_2_180  channel_2_181  target  \n",
       "0            NaN            NaN            NaN            NaN    b'1'  \n",
       "\n",
       "[1 rows x 183 columns]"
      ]
     },
     "execution_count": 536,
     "metadata": {},
     "output_type": "execute_result"
    }
   ],
   "source": [
    "Test_df_D3.head(1)"
   ]
  },
  {
   "cell_type": "code",
   "execution_count": 537,
   "metadata": {},
   "outputs": [],
   "source": [
    "Test_df_D1_T = Test_df_D1.head(1).T\n",
    "Test_df_D2_T = Test_df_D2.head(1).T\n",
    "Test_df_D3_T = Test_df_D3.head(1).T"
   ]
  },
  {
   "cell_type": "code",
   "execution_count": 538,
   "metadata": {},
   "outputs": [],
   "source": [
    "Test_arr1 = Test_df_D1_T.to_numpy()\n",
    "Test_arr2 = Test_df_D2_T.to_numpy()\n",
    "Test_arr3 = Test_df_D3_T.to_numpy()"
   ]
  },
  {
   "cell_type": "code",
   "execution_count": 539,
   "metadata": {},
   "outputs": [],
   "source": [
    "finalarray_test_data = np.concatenate((Test_arr1, Test_arr2),axis=1)"
   ]
  },
  {
   "cell_type": "code",
   "execution_count": 540,
   "metadata": {},
   "outputs": [],
   "source": [
    "finalarray_test_data = np.concatenate((finalarray_test_data, Test_arr3),axis=1)"
   ]
  },
  {
   "cell_type": "code",
   "execution_count": 541,
   "metadata": {},
   "outputs": [],
   "source": [
    "Origianl_test_view = finalarray_test_data"
   ]
  },
  {
   "cell_type": "code",
   "execution_count": 542,
   "metadata": {},
   "outputs": [
    {
     "data": {
      "text/plain": [
       "array([[0.043915, -0.010011, 0.536491],\n",
       "       [0.033922, -0.004357, 0.76718],\n",
       "       [0.007255, 0.005951, 0.993862],\n",
       "       [-0.030362, 0.018295, 1.184721],\n",
       "       [-0.069213, 0.029589, 1.31248],\n",
       "       [-0.101034, 0.038164, 1.360485],\n",
       "       [-0.123061, 0.044259, 1.32964],\n",
       "       [-0.138499, 0.048942, 1.241397],\n",
       "       [-0.153547, 0.052885, 1.13202],\n",
       "       [-0.173622, 0.056265, 1.03714],\n",
       "       [-0.201387, 0.059159, 0.973526],\n",
       "       [-0.236853, 0.061321, 0.932379],\n",
       "       [-0.278391, 0.061678, 0.891567],\n",
       "       [-0.323717, 0.058629, 0.835669],\n",
       "       [-0.370581, 0.05106, 0.766526],\n",
       "       [-0.417049, 0.038811, 0.698832],\n",
       "       [-0.461461, 0.022059, 0.64632],\n",
       "       [-0.502443, 0.000726, 0.608541],\n",
       "       [-0.539417, -0.025113, 0.57104],\n",
       "       [-0.573203, -0.054538, 0.521223],\n",
       "       [-0.605837, -0.085954, 0.46093],\n",
       "       [-0.639575, -0.117873, 0.399694],\n",
       "       [-0.676042, -0.149349, 0.342708],\n",
       "       [-0.716054, -0.179872, 0.293879],\n",
       "       [-0.75975, -0.209258, 0.263589],\n",
       "       [-0.806686, -0.23794, 0.259673],\n",
       "       [-0.855986, -0.267409, 0.271352],\n",
       "       [-0.906497, -0.300147, 0.273023],\n",
       "       [-0.956614, -0.338782, 0.246407],\n",
       "       [-1.003785, -0.385112, 0.194218],\n",
       "       [-1.044348, -0.439809, 0.133204],\n",
       "       [-1.074077, -0.502573, 0.079552],\n",
       "       [-1.088916, -0.571986, 0.041182],\n",
       "       [-1.085134, -0.644966, 0.018256],\n",
       "       [-1.059091, -0.716624, 0.006814],\n",
       "       [-1.007412, -0.781201, 0.002104],\n",
       "       [-0.927924, -0.83374, 0.000529],\n",
       "       [-0.820883, -0.871316, 0.000107],\n",
       "       [-0.689741, -0.892949, 1.7e-05],\n",
       "       [-0.540904, -0.898687, 2e-06],\n",
       "       [-0.382308, -0.888985, 0.0],\n",
       "       [-0.221263, -0.864803, 0.0],\n",
       "       [-0.062844, -0.827671, 0.0],\n",
       "       [0.089813, -0.779205, 0.0],\n",
       "       [0.233857, -0.72041, 0.0],\n",
       "       [0.366412, -0.651543, 0.0],\n",
       "       [0.486553, -0.572672, 0.0],\n",
       "       [0.596768, -0.484367, 0.0],\n",
       "       [0.701476, -0.387891, 0.0],\n",
       "       [0.804017, -0.284805, 0.0],\n",
       "       [0.904899, -0.176441, 0.0],\n",
       "       [1.001947, -0.063858, 0.0],\n",
       "       [1.091215, 0.051455, 0.0],\n",
       "       [1.167793, 0.166996, 0.0],\n",
       "       [1.22655, 0.279917, 0.0],\n",
       "       [1.263161, 0.38832, 0.0],\n",
       "       [1.275443, 0.491464, 0.0],\n",
       "       [1.264252, 0.588753, 0.0],\n",
       "       [1.233092, 0.67906, 0.0],\n",
       "       [1.186715, 0.761029, 0.0],\n",
       "       [1.129887, 0.833621, 0.0],\n",
       "       [1.066841, 0.896264, 0.0],\n",
       "       [1.000967, 0.948746, 0.0],\n",
       "       [0.934415, 0.991127, 0.0],\n",
       "       [0.867934, 1.023655, 0.0],\n",
       "       [0.801281, 1.046532, 0.0],\n",
       "       [0.73402, 1.059519, 0.0],\n",
       "       [0.666262, 1.061624, 0.0],\n",
       "       [0.598923, 1.051129, 0.0],\n",
       "       [0.53328, 1.025921, 0.0],\n",
       "       [0.470109, 0.98395, 0.0],\n",
       "       [0.40919, 0.923731, 0.0],\n",
       "       [0.349558, 0.844987, 0.0],\n",
       "       [0.290083, 0.749373, 0.0],\n",
       "       [0.230008, 0.640895, 0.0],\n",
       "       [0.169431, 0.525353, 0.0],\n",
       "       [0.109232, 0.408622, 0.0],\n",
       "       [0.049748, 0.294602, 0.0],\n",
       "       [-0.011013, 0.184133, 0.0],\n",
       "       [-0.077269, 0.075656, 0.0],\n",
       "       [-0.152822, -0.032932, 0.0],\n",
       "       [-0.238447, -0.142835, 0.0],\n",
       "       [-0.331686, -0.254381, 0.0],\n",
       "       [-0.428161, -0.367648, 0.0],\n",
       "       [-0.522589, -0.482268, 0.0],\n",
       "       [-0.609425, -0.59646, 0.0],\n",
       "       [-0.683699, -0.70661, 0.0],\n",
       "       [-0.741873, -0.808159, 0.0],\n",
       "       [-0.782362, -0.897263, 0.0],\n",
       "       [-0.805555, -0.972103, 0.0],\n",
       "       [-0.813052, -1.033026, 0.0],\n",
       "       [-0.80652, -1.081585, 0.0],\n",
       "       [-0.787178, -1.119226, 0.0],\n",
       "       [-0.755941, -1.146383, 0.0],\n",
       "       [-0.713146, -1.162243, 0.0],\n",
       "       [-0.657745, -1.164956, 0.0],\n",
       "       [-0.587264, -1.151963, 0.0],\n",
       "       [-0.49933, -1.120424, 0.0],\n",
       "       [-0.393536, -1.067905, 0.0],\n",
       "       [-0.271964, -0.99322, 0.0],\n",
       "       [-0.138201, -0.896901, 0.0],\n",
       "       [0.003921, -0.780931, 0.0],\n",
       "       [0.150917, -0.64802, 0.0],\n",
       "       [0.299655, -0.501096, 0.0],\n",
       "       [0.447246, -0.343406, 0.0],\n",
       "       [0.590895, -0.179044, 0.0],\n",
       "       [0.727505, -0.013296, 0.0],\n",
       "       [0.853056, 0.147727, 0.0],\n",
       "       [0.962336, 0.298049, 0.0],\n",
       "       [1.049581, 0.432752, 0.0],\n",
       "       [1.109779, 0.548347, 0.0],\n",
       "       [1.139787, 0.64264, -5e-06],\n",
       "       [1.138699, 0.714601, -5e-05],\n",
       "       [1.107613, 0.764666, -0.000386],\n",
       "       [1.049166, 0.795205, -0.002358],\n",
       "       [0.96717, 0.810322, -0.011531],\n",
       "       [0.866545, 0.814601, -0.045348],\n",
       "       [0.75347, 0.811552, -0.144251],\n",
       "       [0.635331, 0.802803, -0.37368],\n",
       "       [0.520174, 0.788423, -0.794489],\n",
       "       [0.416165, 0.767992, -1.398876],\n",
       "       [0.331232, 0.741866, -2.061788],\n",
       "       [0.27169, 0.712147, -2.580301],\n",
       "       [0.239253, 0.682702, -2.80053],\n",
       "       [0.228975, 0.657823, -2.724042],\n",
       "       [0.231323, 0.640213, -2.489014],\n",
       "       [0.237279, 0.629916, -2.252707],\n",
       "       [0.241941, 0.624993, -2.096416],\n",
       "       [0.244337, 0.623085, -2.020611],\n",
       "       [0.245239, 0.622488, -1.992669],\n",
       "       [0.245498, 0.622339, -1.984727],\n",
       "       [0.245555, 0.622309, -1.982975],\n",
       "       [0.245565, 0.622304, -1.982674],\n",
       "       [0.245566, 0.622304, -1.982633],\n",
       "       [0.245566, 0.622303, -1.982626],\n",
       "       [0.245563, 0.622294, -1.9826],\n",
       "       [0.245538, 0.622232, -1.982401],\n",
       "       [0.245392, 0.621862, -1.981221],\n",
       "       [0.244709, 0.620131, -1.975708],\n",
       "       [0.242202, 0.613779, -1.955469],\n",
       "       [0.234957, 0.595418, -1.896973],\n",
       "       [0.218447, 0.55358, -1.763677],\n",
       "       [0.188747, 0.478314, -1.523885],\n",
       "       [0.146521, 0.371308, -1.182969],\n",
       "       [nan, nan, nan],\n",
       "       [nan, nan, nan],\n",
       "       [nan, nan, nan],\n",
       "       [nan, nan, nan],\n",
       "       [nan, nan, nan],\n",
       "       [nan, nan, nan],\n",
       "       [nan, nan, nan],\n",
       "       [nan, nan, nan],\n",
       "       [nan, nan, nan],\n",
       "       [nan, nan, nan],\n",
       "       [nan, nan, nan],\n",
       "       [nan, nan, nan],\n",
       "       [nan, nan, nan],\n",
       "       [nan, nan, nan],\n",
       "       [nan, nan, nan],\n",
       "       [nan, nan, nan],\n",
       "       [nan, nan, nan],\n",
       "       [nan, nan, nan],\n",
       "       [nan, nan, nan],\n",
       "       [nan, nan, nan],\n",
       "       [nan, nan, nan],\n",
       "       [nan, nan, nan],\n",
       "       [nan, nan, nan],\n",
       "       [nan, nan, nan],\n",
       "       [nan, nan, nan],\n",
       "       [nan, nan, nan],\n",
       "       [nan, nan, nan],\n",
       "       [nan, nan, nan],\n",
       "       [nan, nan, nan],\n",
       "       [nan, nan, nan],\n",
       "       [nan, nan, nan],\n",
       "       [nan, nan, nan],\n",
       "       [nan, nan, nan],\n",
       "       [nan, nan, nan],\n",
       "       [nan, nan, nan],\n",
       "       [nan, nan, nan],\n",
       "       [nan, nan, nan],\n",
       "       [nan, nan, nan],\n",
       "       [b'1', b'1', b'1']], dtype=object)"
      ]
     },
     "execution_count": 542,
     "metadata": {},
     "output_type": "execute_result"
    }
   ],
   "source": [
    "Origianl_test_view"
   ]
  },
  {
   "cell_type": "markdown",
   "metadata": {},
   "source": [
    "# Random Time Series"
   ]
  },
  {
   "cell_type": "markdown",
   "metadata": {},
   "source": [
    "For creating RTS, the start and end point, will take from test data view and in between the points would be random from Training Data"
   ]
  },
  {
   "cell_type": "code",
   "execution_count": 543,
   "metadata": {},
   "outputs": [],
   "source": [
    "Starting_point = Origianl_test_view[:][0:1]\n",
    "End_point = Origianl_test_view[:][182:183]"
   ]
  },
  {
   "cell_type": "code",
   "execution_count": 544,
   "metadata": {},
   "outputs": [],
   "source": [
    "copy_of_training_view = finalarray_training_data"
   ]
  },
  {
   "cell_type": "code",
   "execution_count": 549,
   "metadata": {},
   "outputs": [],
   "source": [
    "training_slice_1 = copy_of_training_view[:][1:46]\n",
    "training_slice_2 = copy_of_training_view[:][46:92]\n",
    "training_slice_3 = copy_of_training_view[:][92:136]\n",
    "training_slice_4 = copy_of_training_view[:][137:183]"
   ]
  },
  {
   "cell_type": "code",
   "execution_count": 550,
   "metadata": {},
   "outputs": [
    {
     "name": "stdout",
     "output_type": "stream",
     "text": [
      "(45, 3)\n",
      "(46, 3)\n",
      "(44, 3)\n",
      "(46, 3)\n"
     ]
    }
   ],
   "source": [
    "print(training_slice_1.shape)\n",
    "print(training_slice_2.shape)\n",
    "print(training_slice_3.shape)\n",
    "print(training_slice_4.shape)"
   ]
  },
  {
   "cell_type": "code",
   "execution_count": 551,
   "metadata": {},
   "outputs": [],
   "source": [
    "Random_Psuedo_Series = np.concatenate((Starting_point, training_slice_1),axis=0)\n",
    "Random_Psuedo_Series = np.concatenate((Random_Psuedo_Series, training_slice_4),axis=0)\n",
    "Random_Psuedo_Series = np.concatenate((Random_Psuedo_Series, training_slice_3),axis=0)\n",
    "Random_Psuedo_Series = np.concatenate((Random_Psuedo_Series, training_slice_2),axis=0)\n",
    "Random_Psuedo_Series = np.concatenate((Random_Psuedo_Series, End_point),axis=0)"
   ]
  },
  {
   "cell_type": "code",
   "execution_count": 552,
   "metadata": {},
   "outputs": [
    {
     "data": {
      "text/plain": [
       "(183, 3)"
      ]
     },
     "execution_count": 552,
     "metadata": {},
     "output_type": "execute_result"
    }
   ],
   "source": [
    "Random_Psuedo_Series.shape"
   ]
  },
  {
   "cell_type": "code",
   "execution_count": null,
   "metadata": {},
   "outputs": [],
   "source": []
  },
  {
   "cell_type": "code",
   "execution_count": null,
   "metadata": {},
   "outputs": [],
   "source": []
  },
  {
   "cell_type": "code",
   "execution_count": null,
   "metadata": {},
   "outputs": [],
   "source": []
  },
  {
   "cell_type": "code",
   "execution_count": null,
   "metadata": {},
   "outputs": [],
   "source": []
  }
 ],
 "metadata": {
  "kernelspec": {
   "display_name": "Python 3",
   "language": "python",
   "name": "python3"
  },
  "language_info": {
   "codemirror_mode": {
    "name": "ipython",
    "version": 3
   },
   "file_extension": ".py",
   "mimetype": "text/x-python",
   "name": "python",
   "nbconvert_exporter": "python",
   "pygments_lexer": "ipython3",
   "version": "3.7.6"
  }
 },
 "nbformat": 4,
 "nbformat_minor": 4
}
