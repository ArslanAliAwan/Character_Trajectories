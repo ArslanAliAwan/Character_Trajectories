{
 "cells": [
  {
   "cell_type": "code",
   "execution_count": 304,
   "metadata": {},
   "outputs": [],
   "source": [
    "import numpy as np \n",
    "from scipy.io import arff\n",
    "import pandas as pd"
   ]
  },
  {
   "cell_type": "markdown",
   "metadata": {},
   "source": [
    "# Creating Training Data view"
   ]
  },
  {
   "cell_type": "code",
   "execution_count": 305,
   "metadata": {},
   "outputs": [],
   "source": [
    "data1 = arff.loadarff('/Users/arslanaliawan/Desktop/Pre-experiment/Multivariate_arff/CharacterTrajectories/CharacterTrajectoriesDimension1_TRAIN.arff')"
   ]
  },
  {
   "cell_type": "code",
   "execution_count": 306,
   "metadata": {},
   "outputs": [],
   "source": [
    "df_D1 = pd.DataFrame(data1[0])"
   ]
  },
  {
   "cell_type": "code",
   "execution_count": 307,
   "metadata": {},
   "outputs": [],
   "source": [
    "data2 = arff.loadarff('/Users/arslanaliawan/Desktop/Pre-experiment/Multivariate_arff/CharacterTrajectories/CharacterTrajectoriesDimension2_TRAIN.arff')"
   ]
  },
  {
   "cell_type": "code",
   "execution_count": 308,
   "metadata": {},
   "outputs": [],
   "source": [
    "df_D2 = pd.DataFrame(data2[0])"
   ]
  },
  {
   "cell_type": "code",
   "execution_count": 309,
   "metadata": {},
   "outputs": [],
   "source": [
    "data3 = arff.loadarff('/Users/arslanaliawan/Desktop/Pre-experiment/Multivariate_arff/CharacterTrajectories/CharacterTrajectoriesDimension3_TRAIN.arff')"
   ]
  },
  {
   "cell_type": "code",
   "execution_count": 310,
   "metadata": {},
   "outputs": [],
   "source": [
    "df_D3 = pd.DataFrame(data3[0])"
   ]
  },
  {
   "cell_type": "code",
   "execution_count": 311,
   "metadata": {},
   "outputs": [
    {
     "data": {
      "text/plain": [
       "(1422, 183)"
      ]
     },
     "execution_count": 311,
     "metadata": {},
     "output_type": "execute_result"
    }
   ],
   "source": [
    "df_D1.shape"
   ]
  },
  {
   "cell_type": "code",
   "execution_count": 312,
   "metadata": {},
   "outputs": [
    {
     "data": {
      "text/plain": [
       "(1422, 183)"
      ]
     },
     "execution_count": 312,
     "metadata": {},
     "output_type": "execute_result"
    }
   ],
   "source": [
    "df_D2.shape"
   ]
  },
  {
   "cell_type": "code",
   "execution_count": 313,
   "metadata": {},
   "outputs": [
    {
     "data": {
      "text/plain": [
       "(1422, 183)"
      ]
     },
     "execution_count": 313,
     "metadata": {},
     "output_type": "execute_result"
    }
   ],
   "source": [
    "df_D3.shape"
   ]
  },
  {
   "cell_type": "code",
   "execution_count": 314,
   "metadata": {},
   "outputs": [
    {
     "data": {
      "text/html": [
       "<div>\n",
       "<style scoped>\n",
       "    .dataframe tbody tr th:only-of-type {\n",
       "        vertical-align: middle;\n",
       "    }\n",
       "\n",
       "    .dataframe tbody tr th {\n",
       "        vertical-align: top;\n",
       "    }\n",
       "\n",
       "    .dataframe thead th {\n",
       "        text-align: right;\n",
       "    }\n",
       "</style>\n",
       "<table border=\"1\" class=\"dataframe\">\n",
       "  <thead>\n",
       "    <tr style=\"text-align: right;\">\n",
       "      <th></th>\n",
       "      <th>channel_0_0</th>\n",
       "      <th>channel_0_1</th>\n",
       "      <th>channel_0_2</th>\n",
       "      <th>channel_0_3</th>\n",
       "      <th>channel_0_4</th>\n",
       "      <th>channel_0_5</th>\n",
       "      <th>channel_0_6</th>\n",
       "      <th>channel_0_7</th>\n",
       "      <th>channel_0_8</th>\n",
       "      <th>channel_0_9</th>\n",
       "      <th>...</th>\n",
       "      <th>channel_0_173</th>\n",
       "      <th>channel_0_174</th>\n",
       "      <th>channel_0_175</th>\n",
       "      <th>channel_0_176</th>\n",
       "      <th>channel_0_177</th>\n",
       "      <th>channel_0_178</th>\n",
       "      <th>channel_0_179</th>\n",
       "      <th>channel_0_180</th>\n",
       "      <th>channel_0_181</th>\n",
       "      <th>target</th>\n",
       "    </tr>\n",
       "  </thead>\n",
       "  <tbody>\n",
       "    <tr>\n",
       "      <th>0</th>\n",
       "      <td>-0.13015</td>\n",
       "      <td>-0.183121</td>\n",
       "      <td>-0.234104</td>\n",
       "      <td>-0.279929</td>\n",
       "      <td>-0.321851</td>\n",
       "      <td>-0.363783</td>\n",
       "      <td>-0.4095</td>\n",
       "      <td>-0.460814</td>\n",
       "      <td>-0.517526</td>\n",
       "      <td>-0.57844</td>\n",
       "      <td>...</td>\n",
       "      <td>NaN</td>\n",
       "      <td>NaN</td>\n",
       "      <td>NaN</td>\n",
       "      <td>NaN</td>\n",
       "      <td>NaN</td>\n",
       "      <td>NaN</td>\n",
       "      <td>NaN</td>\n",
       "      <td>NaN</td>\n",
       "      <td>NaN</td>\n",
       "      <td>b'1'</td>\n",
       "    </tr>\n",
       "  </tbody>\n",
       "</table>\n",
       "<p>1 rows × 183 columns</p>\n",
       "</div>"
      ],
      "text/plain": [
       "   channel_0_0  channel_0_1  channel_0_2  channel_0_3  channel_0_4  \\\n",
       "0     -0.13015    -0.183121    -0.234104    -0.279929    -0.321851   \n",
       "\n",
       "   channel_0_5  channel_0_6  channel_0_7  channel_0_8  channel_0_9  ...  \\\n",
       "0    -0.363783      -0.4095    -0.460814    -0.517526     -0.57844  ...   \n",
       "\n",
       "   channel_0_173  channel_0_174  channel_0_175  channel_0_176  channel_0_177  \\\n",
       "0            NaN            NaN            NaN            NaN            NaN   \n",
       "\n",
       "   channel_0_178  channel_0_179  channel_0_180  channel_0_181  target  \n",
       "0            NaN            NaN            NaN            NaN    b'1'  \n",
       "\n",
       "[1 rows x 183 columns]"
      ]
     },
     "execution_count": 314,
     "metadata": {},
     "output_type": "execute_result"
    }
   ],
   "source": [
    "df_D1.head(1)"
   ]
  },
  {
   "cell_type": "code",
   "execution_count": 315,
   "metadata": {},
   "outputs": [
    {
     "data": {
      "text/plain": [
       "array([b'1', b'2', b'3', b'4', b'5', b'6', b'7', b'8', b'9', b'10', b'11',\n",
       "       b'12', b'13', b'14', b'15', b'16', b'17', b'18', b'19', b'20'],\n",
       "      dtype=object)"
      ]
     },
     "execution_count": 315,
     "metadata": {},
     "output_type": "execute_result"
    }
   ],
   "source": [
    "df_D1.target.unique()"
   ]
  },
  {
   "cell_type": "code",
   "execution_count": 316,
   "metadata": {},
   "outputs": [
    {
     "data": {
      "text/html": [
       "<div>\n",
       "<style scoped>\n",
       "    .dataframe tbody tr th:only-of-type {\n",
       "        vertical-align: middle;\n",
       "    }\n",
       "\n",
       "    .dataframe tbody tr th {\n",
       "        vertical-align: top;\n",
       "    }\n",
       "\n",
       "    .dataframe thead th {\n",
       "        text-align: right;\n",
       "    }\n",
       "</style>\n",
       "<table border=\"1\" class=\"dataframe\">\n",
       "  <thead>\n",
       "    <tr style=\"text-align: right;\">\n",
       "      <th></th>\n",
       "      <th>channel_1_0</th>\n",
       "      <th>channel_1_1</th>\n",
       "      <th>channel_1_2</th>\n",
       "      <th>channel_1_3</th>\n",
       "      <th>channel_1_4</th>\n",
       "      <th>channel_1_5</th>\n",
       "      <th>channel_1_6</th>\n",
       "      <th>channel_1_7</th>\n",
       "      <th>channel_1_8</th>\n",
       "      <th>channel_1_9</th>\n",
       "      <th>...</th>\n",
       "      <th>channel_1_173</th>\n",
       "      <th>channel_1_174</th>\n",
       "      <th>channel_1_175</th>\n",
       "      <th>channel_1_176</th>\n",
       "      <th>channel_1_177</th>\n",
       "      <th>channel_1_178</th>\n",
       "      <th>channel_1_179</th>\n",
       "      <th>channel_1_180</th>\n",
       "      <th>channel_1_181</th>\n",
       "      <th>target</th>\n",
       "    </tr>\n",
       "  </thead>\n",
       "  <tbody>\n",
       "    <tr>\n",
       "      <th>0</th>\n",
       "      <td>0.071323</td>\n",
       "      <td>0.083973</td>\n",
       "      <td>0.085534</td>\n",
       "      <td>0.078218</td>\n",
       "      <td>0.067093</td>\n",
       "      <td>0.05552</td>\n",
       "      <td>0.043275</td>\n",
       "      <td>0.027787</td>\n",
       "      <td>0.005932</td>\n",
       "      <td>-0.025043</td>\n",
       "      <td>...</td>\n",
       "      <td>NaN</td>\n",
       "      <td>NaN</td>\n",
       "      <td>NaN</td>\n",
       "      <td>NaN</td>\n",
       "      <td>NaN</td>\n",
       "      <td>NaN</td>\n",
       "      <td>NaN</td>\n",
       "      <td>NaN</td>\n",
       "      <td>NaN</td>\n",
       "      <td>b'1'</td>\n",
       "    </tr>\n",
       "  </tbody>\n",
       "</table>\n",
       "<p>1 rows × 183 columns</p>\n",
       "</div>"
      ],
      "text/plain": [
       "   channel_1_0  channel_1_1  channel_1_2  channel_1_3  channel_1_4  \\\n",
       "0     0.071323     0.083973     0.085534     0.078218     0.067093   \n",
       "\n",
       "   channel_1_5  channel_1_6  channel_1_7  channel_1_8  channel_1_9  ...  \\\n",
       "0      0.05552     0.043275     0.027787     0.005932    -0.025043  ...   \n",
       "\n",
       "   channel_1_173  channel_1_174  channel_1_175  channel_1_176  channel_1_177  \\\n",
       "0            NaN            NaN            NaN            NaN            NaN   \n",
       "\n",
       "   channel_1_178  channel_1_179  channel_1_180  channel_1_181  target  \n",
       "0            NaN            NaN            NaN            NaN    b'1'  \n",
       "\n",
       "[1 rows x 183 columns]"
      ]
     },
     "execution_count": 316,
     "metadata": {},
     "output_type": "execute_result"
    }
   ],
   "source": [
    "df_D2.head(1)"
   ]
  },
  {
   "cell_type": "code",
   "execution_count": 317,
   "metadata": {},
   "outputs": [
    {
     "data": {
      "text/plain": [
       "array([b'1', b'2', b'3', b'4', b'5', b'6', b'7', b'8', b'9', b'10', b'11',\n",
       "       b'12', b'13', b'14', b'15', b'16', b'17', b'18', b'19', b'20'],\n",
       "      dtype=object)"
      ]
     },
     "execution_count": 317,
     "metadata": {},
     "output_type": "execute_result"
    }
   ],
   "source": [
    "df_D2.target.unique()"
   ]
  },
  {
   "cell_type": "code",
   "execution_count": 318,
   "metadata": {},
   "outputs": [
    {
     "data": {
      "text/html": [
       "<div>\n",
       "<style scoped>\n",
       "    .dataframe tbody tr th:only-of-type {\n",
       "        vertical-align: middle;\n",
       "    }\n",
       "\n",
       "    .dataframe tbody tr th {\n",
       "        vertical-align: top;\n",
       "    }\n",
       "\n",
       "    .dataframe thead th {\n",
       "        text-align: right;\n",
       "    }\n",
       "</style>\n",
       "<table border=\"1\" class=\"dataframe\">\n",
       "  <thead>\n",
       "    <tr style=\"text-align: right;\">\n",
       "      <th></th>\n",
       "      <th>channel_2_0</th>\n",
       "      <th>channel_2_1</th>\n",
       "      <th>channel_2_2</th>\n",
       "      <th>channel_2_3</th>\n",
       "      <th>channel_2_4</th>\n",
       "      <th>channel_2_5</th>\n",
       "      <th>channel_2_6</th>\n",
       "      <th>channel_2_7</th>\n",
       "      <th>channel_2_8</th>\n",
       "      <th>channel_2_9</th>\n",
       "      <th>...</th>\n",
       "      <th>channel_2_173</th>\n",
       "      <th>channel_2_174</th>\n",
       "      <th>channel_2_175</th>\n",
       "      <th>channel_2_176</th>\n",
       "      <th>channel_2_177</th>\n",
       "      <th>channel_2_178</th>\n",
       "      <th>channel_2_179</th>\n",
       "      <th>channel_2_180</th>\n",
       "      <th>channel_2_181</th>\n",
       "      <th>target</th>\n",
       "    </tr>\n",
       "  </thead>\n",
       "  <tbody>\n",
       "    <tr>\n",
       "      <th>0</th>\n",
       "      <td>0.899306</td>\n",
       "      <td>1.157239</td>\n",
       "      <td>1.320469</td>\n",
       "      <td>1.369472</td>\n",
       "      <td>1.323889</td>\n",
       "      <td>1.221704</td>\n",
       "      <td>1.098215</td>\n",
       "      <td>0.979016</td>\n",
       "      <td>0.880755</td>\n",
       "      <td>0.806413</td>\n",
       "      <td>...</td>\n",
       "      <td>NaN</td>\n",
       "      <td>NaN</td>\n",
       "      <td>NaN</td>\n",
       "      <td>NaN</td>\n",
       "      <td>NaN</td>\n",
       "      <td>NaN</td>\n",
       "      <td>NaN</td>\n",
       "      <td>NaN</td>\n",
       "      <td>NaN</td>\n",
       "      <td>b'1'</td>\n",
       "    </tr>\n",
       "  </tbody>\n",
       "</table>\n",
       "<p>1 rows × 183 columns</p>\n",
       "</div>"
      ],
      "text/plain": [
       "   channel_2_0  channel_2_1  channel_2_2  channel_2_3  channel_2_4  \\\n",
       "0     0.899306     1.157239     1.320469     1.369472     1.323889   \n",
       "\n",
       "   channel_2_5  channel_2_6  channel_2_7  channel_2_8  channel_2_9  ...  \\\n",
       "0     1.221704     1.098215     0.979016     0.880755     0.806413  ...   \n",
       "\n",
       "   channel_2_173  channel_2_174  channel_2_175  channel_2_176  channel_2_177  \\\n",
       "0            NaN            NaN            NaN            NaN            NaN   \n",
       "\n",
       "   channel_2_178  channel_2_179  channel_2_180  channel_2_181  target  \n",
       "0            NaN            NaN            NaN            NaN    b'1'  \n",
       "\n",
       "[1 rows x 183 columns]"
      ]
     },
     "execution_count": 318,
     "metadata": {},
     "output_type": "execute_result"
    }
   ],
   "source": [
    "df_D3.head(1)"
   ]
  },
  {
   "cell_type": "code",
   "execution_count": 319,
   "metadata": {},
   "outputs": [
    {
     "data": {
      "text/plain": [
       "array([b'1', b'2', b'3', b'4', b'5', b'6', b'7', b'8', b'9', b'10', b'11',\n",
       "       b'12', b'13', b'14', b'15', b'16', b'17', b'18', b'19', b'20'],\n",
       "      dtype=object)"
      ]
     },
     "execution_count": 319,
     "metadata": {},
     "output_type": "execute_result"
    }
   ],
   "source": [
    "df_D3.target.unique()"
   ]
  },
  {
   "cell_type": "code",
   "execution_count": 320,
   "metadata": {},
   "outputs": [],
   "source": [
    "df_D1 = df_D1.fillna(0)\n",
    "df_D2 = df_D2.fillna(0)\n",
    "df_D3 = df_D3.fillna(0)"
   ]
  },
  {
   "cell_type": "code",
   "execution_count": 321,
   "metadata": {},
   "outputs": [],
   "source": [
    "df_D1_T = df_D1.head(1).T"
   ]
  },
  {
   "cell_type": "code",
   "execution_count": 322,
   "metadata": {},
   "outputs": [],
   "source": [
    "df_D2_T = df_D2.head(1).T"
   ]
  },
  {
   "cell_type": "code",
   "execution_count": 323,
   "metadata": {},
   "outputs": [],
   "source": [
    "df_D3_T = df_D3.head(1).T"
   ]
  },
  {
   "cell_type": "code",
   "execution_count": 324,
   "metadata": {},
   "outputs": [],
   "source": [
    "arr1 = df_D1_T.to_numpy()\n",
    "arr2 = df_D2_T.to_numpy()\n",
    "arr3 = df_D3_T.to_numpy()"
   ]
  },
  {
   "cell_type": "code",
   "execution_count": 325,
   "metadata": {},
   "outputs": [],
   "source": [
    "finalarray_training_data = np.concatenate((arr1, arr2),axis=1)"
   ]
  },
  {
   "cell_type": "code",
   "execution_count": 326,
   "metadata": {},
   "outputs": [],
   "source": [
    "finalarray_training_data = np.concatenate((finalarray_training_data, arr3),axis=1)"
   ]
  },
  {
   "cell_type": "code",
   "execution_count": 327,
   "metadata": {},
   "outputs": [],
   "source": [
    "df_D1_Row2 = df_D1.head(2)\n",
    "df_D2_Row2 = df_D2.head(2)\n",
    "df_D3_Row2 = df_D3.head(2)"
   ]
  },
  {
   "cell_type": "code",
   "execution_count": 328,
   "metadata": {},
   "outputs": [],
   "source": [
    "df_D1_Row2 = df_D1_Row2.drop(df_D1_Row2.index[0]).T\n",
    "df_D2_Row2 = df_D2_Row2.drop(df_D2_Row2.index[0]).T\n",
    "df_D3_Row2 = df_D3_Row2.drop(df_D3_Row2.index[0]).T"
   ]
  },
  {
   "cell_type": "code",
   "execution_count": 329,
   "metadata": {},
   "outputs": [],
   "source": [
    "arr4 = df_D1_Row2\n",
    "arr5 = df_D2_Row2\n",
    "arr6 = df_D3_Row2"
   ]
  },
  {
   "cell_type": "code",
   "execution_count": 330,
   "metadata": {},
   "outputs": [],
   "source": [
    "finalarray_training_data_row2 = np.concatenate((arr4, arr5),axis=1)"
   ]
  },
  {
   "cell_type": "code",
   "execution_count": 331,
   "metadata": {},
   "outputs": [],
   "source": [
    "finalarray_training_data_row2 = np.concatenate((finalarray_training_data_row2, arr6),axis=1)"
   ]
  },
  {
   "cell_type": "code",
   "execution_count": 332,
   "metadata": {},
   "outputs": [
    {
     "data": {
      "text/plain": [
       "array([[-0.085541, 0.135489, 0.73827],\n",
       "       [-0.114704, 0.181716, 0.94641],\n",
       "       [-0.141445, 0.219917, 1.091888],\n",
       "       [-0.16616, 0.247798, 1.171616],\n",
       "       [-0.191072, 0.266823, 1.20429],\n",
       "       [-0.218434, 0.278887, 1.207528],\n",
       "       [-0.249653, 0.284405, 1.183555],\n",
       "       [-0.285248, 0.282681, 1.123301],\n",
       "       [-0.325004, 0.273129, 1.021858],\n",
       "       [-0.368095, 0.256052, 0.890539],\n",
       "       [-0.413306, 0.232628, 0.755676],\n",
       "       [-0.459479, 0.204415, 0.644218],\n",
       "       [-0.506021, 0.1729, 0.567514],\n",
       "       [-0.553113, 0.139475, 0.518755],\n",
       "       [-0.601414, 0.105473, 0.485351],\n",
       "       [-0.651406, 0.071472, 0.460843],\n",
       "       [-0.703004, 0.035997, 0.446067],\n",
       "       [-0.755875, -0.004657, 0.444034],\n",
       "       [-0.81003, -0.054332, 0.454975],\n",
       "       [-0.865813, -0.114588, 0.474156],\n",
       "       [-0.923237, -0.184964, 0.493791],\n",
       "       [-0.981447, -0.265301, 0.506446],\n",
       "       [-1.038733, -0.356525, 0.506758],\n",
       "       [-1.092821, -0.458605, 0.492643],\n",
       "       [-1.140926, -0.568193, 0.464882],\n",
       "       [-1.179279, -0.678701, 0.423922],\n",
       "       [-1.202583, -0.782651, 0.371495],\n",
       "       [-1.204436, -0.874058, 0.317059],\n",
       "       [-1.179041, -0.949145, 0.273506],\n",
       "       [-1.122932, -1.005633, 0.242622],\n",
       "       [-1.035421, -1.041996, 0.213529],\n",
       "       [-0.91809, -1.057624, 0.178516],\n",
       "       [-0.774513, -1.053478, 0.142301],\n",
       "       [-0.610372, -1.031998, 0.113521],\n",
       "       [-0.433046, -0.995859, 0.094852],\n",
       "       [-0.24995, -0.946676, 0.084231],\n",
       "       [-0.066587, -0.884763, 0.079004],\n",
       "       [0.113771, -0.809821, 0.075253],\n",
       "       [0.288678, -0.721769, 0.06792],\n",
       "       [0.455669, -0.621297, 0.055119],\n",
       "       [0.613023, -0.510081, 0.03992],\n",
       "       [0.760343, -0.390665, 0.026468],\n",
       "       [0.897679, -0.266105, 0.016391],\n",
       "       [1.024104, -0.139446, 0.00931],\n",
       "       [1.13693, -0.013219, 0.004629],\n",
       "       [1.23189, 0.110742, 0.001924],\n",
       "       [1.304259, 0.230964, 0.000649],\n",
       "       [1.350454, 0.345796, 0.000175],\n",
       "       [1.369187, 0.453231, 3.7e-05],\n",
       "       [1.361583, 0.551195, 6e-06],\n",
       "       [1.330477, 0.638024, 1e-06],\n",
       "       [1.279596, 0.712888, 0.0],\n",
       "       [1.213173, 0.775985, 0.0],\n",
       "       [1.135908, 0.828443, 0.0],\n",
       "       [1.052654, 0.872044, 0.0],\n",
       "       [0.967518, 0.908953, 0.0],\n",
       "       [0.883054, 0.941283, 0.0],\n",
       "       [0.80034, 0.970224, 0.0],\n",
       "       [0.719774, 0.994897, 0.0],\n",
       "       [0.64169, 1.011777, 0.0],\n",
       "       [0.566243, 1.015467, 0.0],\n",
       "       [0.492924, 1.000581, 0.0],\n",
       "       [0.420489, 0.963515, 0.0],\n",
       "       [0.347626, 0.903107, 0.0],\n",
       "       [0.273907, 0.820385, 0.0],\n",
       "       [0.200302, 0.718281, 0.0],\n",
       "       [0.128621, 0.601653, 0.0],\n",
       "       [0.059809, 0.476927, 0.0],\n",
       "       [-0.007621, 0.350526, 0.0],\n",
       "       [-0.076823, 0.226703, 0.0],\n",
       "       [-0.149546, 0.106672, 0.0],\n",
       "       [-0.223991, -0.010206, 0.0],\n",
       "       [-0.295948, -0.124753, 0.0],\n",
       "       [-0.361487, -0.237498, 0.0],\n",
       "       [-0.418194, -0.348985, 0.0],\n",
       "       [-0.464685, -0.459425, 0.0],\n",
       "       [-0.500019, -0.567557, 0.0],\n",
       "       [-0.523938, -0.66995, 0.0],\n",
       "       [-0.537364, -0.761846, 0.0],\n",
       "       [-0.542321, -0.839252, 0.0],\n",
       "       [-0.541207, -0.900749, 0.0],\n",
       "       [-0.535833, -0.94745, 0.0],\n",
       "       [-0.526617, -0.981224, 0.0],\n",
       "       [-0.512168, -1.002878, 0.0],\n",
       "       [-0.489399, -1.011795, 0.0],\n",
       "       [-0.454044, -1.006875, 0.0],\n",
       "       [-0.401391, -0.987401, 0.0],\n",
       "       [-0.327178, -0.952886, 0.0],\n",
       "       [-0.228688, -0.902544, 0.0],\n",
       "       [-0.105749, -0.835431, 0.0],\n",
       "       [0.038823, -0.751089, 0.0],\n",
       "       [0.199685, -0.649941, 0.0],\n",
       "       [0.37008, -0.533386, 0.0],\n",
       "       [0.542766, -0.40398, 0.0],\n",
       "       [0.710225, -0.265468, 0.0],\n",
       "       [0.8646, -0.122373, 0.0],\n",
       "       [0.998208, 0.020569, 0.0],\n",
       "       [1.10453, 0.158739, -2e-06],\n",
       "       [1.178977, 0.287966, -2.2e-05],\n",
       "       [1.219202, 0.40498, -0.000176],\n",
       "       [1.225256, 0.507627, -0.001141],\n",
       "       [1.199638, 0.594813, -0.005934],\n",
       "       [1.147003, 0.666541, -0.024879],\n",
       "       [1.07352, 0.723813, -0.084614],\n",
       "       [0.98607, 0.768073, -0.235279],\n",
       "       [0.891588, 0.8005, -0.539769],\n",
       "       [0.796794, 0.821651, -1.032323],\n",
       "       [0.708319, 0.83141, -1.66515],\n",
       "       [0.632627, 0.829185, -2.295118],\n",
       "       [0.574928, 0.814988, -2.745958],\n",
       "       [0.537226, 0.791327, -2.912821],\n",
       "       [0.517168, 0.763952, -2.824857],\n",
       "       [0.509185, 0.739675, -2.611008],\n",
       "       [0.507316, 0.722792, -2.40368],\n",
       "       [0.507485, 0.713528, -2.268089],\n",
       "       [0.507884, 0.709512, -2.202459],\n",
       "       [0.508095, 0.708138, -2.178222],\n",
       "       [0.508165, 0.707768, -2.171308],\n",
       "       [0.508182, 0.707689, -2.169777],\n",
       "       [0.508185, 0.707676, -2.169513],\n",
       "       [0.508186, 0.707674, -2.169477],\n",
       "       [0.508185, 0.707673, -2.169471],\n",
       "       [0.508178, 0.707663, -2.169442],\n",
       "       [0.508128, 0.707593, -2.169225],\n",
       "       [0.507825, 0.707171, -2.167933],\n",
       "       [0.506412, 0.705203, -2.1619],\n",
       "       [0.501224, 0.697979, -2.139754],\n",
       "       [0.48623, 0.6771, -2.075745],\n",
       "       [0.452064, 0.629522, -1.929888],\n",
       "       [0.390601, 0.543931, -1.667497],\n",
       "       [0.303218, 0.422246, -1.294453],\n",
       "       [0.0, 0.0, 0.0],\n",
       "       [0.0, 0.0, 0.0],\n",
       "       [0.0, 0.0, 0.0],\n",
       "       [0.0, 0.0, 0.0],\n",
       "       [0.0, 0.0, 0.0],\n",
       "       [0.0, 0.0, 0.0],\n",
       "       [0.0, 0.0, 0.0],\n",
       "       [0.0, 0.0, 0.0],\n",
       "       [0.0, 0.0, 0.0],\n",
       "       [0.0, 0.0, 0.0],\n",
       "       [0.0, 0.0, 0.0],\n",
       "       [0.0, 0.0, 0.0],\n",
       "       [0.0, 0.0, 0.0],\n",
       "       [0.0, 0.0, 0.0],\n",
       "       [0.0, 0.0, 0.0],\n",
       "       [0.0, 0.0, 0.0],\n",
       "       [0.0, 0.0, 0.0],\n",
       "       [0.0, 0.0, 0.0],\n",
       "       [0.0, 0.0, 0.0],\n",
       "       [0.0, 0.0, 0.0],\n",
       "       [0.0, 0.0, 0.0],\n",
       "       [0.0, 0.0, 0.0],\n",
       "       [0.0, 0.0, 0.0],\n",
       "       [0.0, 0.0, 0.0],\n",
       "       [0.0, 0.0, 0.0],\n",
       "       [0.0, 0.0, 0.0],\n",
       "       [0.0, 0.0, 0.0],\n",
       "       [0.0, 0.0, 0.0],\n",
       "       [0.0, 0.0, 0.0],\n",
       "       [0.0, 0.0, 0.0],\n",
       "       [0.0, 0.0, 0.0],\n",
       "       [0.0, 0.0, 0.0],\n",
       "       [0.0, 0.0, 0.0],\n",
       "       [0.0, 0.0, 0.0],\n",
       "       [0.0, 0.0, 0.0],\n",
       "       [0.0, 0.0, 0.0],\n",
       "       [0.0, 0.0, 0.0],\n",
       "       [0.0, 0.0, 0.0],\n",
       "       [0.0, 0.0, 0.0],\n",
       "       [0.0, 0.0, 0.0],\n",
       "       [0.0, 0.0, 0.0],\n",
       "       [0.0, 0.0, 0.0],\n",
       "       [0.0, 0.0, 0.0],\n",
       "       [0.0, 0.0, 0.0],\n",
       "       [0.0, 0.0, 0.0],\n",
       "       [0.0, 0.0, 0.0],\n",
       "       [0.0, 0.0, 0.0],\n",
       "       [0.0, 0.0, 0.0],\n",
       "       [0.0, 0.0, 0.0],\n",
       "       [0.0, 0.0, 0.0],\n",
       "       [0.0, 0.0, 0.0],\n",
       "       [b'1', b'1', b'1']], dtype=object)"
      ]
     },
     "execution_count": 332,
     "metadata": {},
     "output_type": "execute_result"
    }
   ],
   "source": [
    "finalarray_training_data_row2"
   ]
  },
  {
   "cell_type": "code",
   "execution_count": 333,
   "metadata": {},
   "outputs": [
    {
     "data": {
      "text/plain": [
       "array([-0.13015, 0.071323, 0.899306], dtype=object)"
      ]
     },
     "execution_count": 333,
     "metadata": {},
     "output_type": "execute_result"
    }
   ],
   "source": [
    "finalarray_training_data[:][0]"
   ]
  },
  {
   "cell_type": "code",
   "execution_count": 334,
   "metadata": {},
   "outputs": [
    {
     "data": {
      "text/plain": [
       "array([b'1', b'1', b'1'], dtype=object)"
      ]
     },
     "execution_count": 334,
     "metadata": {},
     "output_type": "execute_result"
    }
   ],
   "source": [
    "finalarray_training_data[:][-1]"
   ]
  },
  {
   "cell_type": "code",
   "execution_count": 335,
   "metadata": {},
   "outputs": [],
   "source": [
    "dictionary = dict()"
   ]
  },
  {
   "cell_type": "code",
   "execution_count": 336,
   "metadata": {},
   "outputs": [],
   "source": [
    "dictionary['1'] = finalarray_training_data"
   ]
  },
  {
   "cell_type": "code",
   "execution_count": 337,
   "metadata": {},
   "outputs": [],
   "source": [
    "dictionary['2'] = finalarray_training_data_row2"
   ]
  },
  {
   "cell_type": "markdown",
   "metadata": {},
   "source": [
    "# Making Original Test View"
   ]
  },
  {
   "cell_type": "code",
   "execution_count": 338,
   "metadata": {},
   "outputs": [],
   "source": [
    "Test_data1 = arff.loadarff('/Users/arslanaliawan/Desktop/Pre-experiment/Multivariate_arff/CharacterTrajectories/CharacterTrajectoriesDimension1_TEST.arff')"
   ]
  },
  {
   "cell_type": "code",
   "execution_count": 339,
   "metadata": {},
   "outputs": [],
   "source": [
    "Test_df_D1 = pd.DataFrame(Test_data1[0])"
   ]
  },
  {
   "cell_type": "code",
   "execution_count": 340,
   "metadata": {},
   "outputs": [],
   "source": [
    "Test_data2 = arff.loadarff('/Users/arslanaliawan/Desktop/Pre-experiment/Multivariate_arff/CharacterTrajectories/CharacterTrajectoriesDimension2_TEST.arff')"
   ]
  },
  {
   "cell_type": "code",
   "execution_count": 341,
   "metadata": {},
   "outputs": [],
   "source": [
    "Test_df_D2 = pd.DataFrame(Test_data2[0])"
   ]
  },
  {
   "cell_type": "code",
   "execution_count": 342,
   "metadata": {},
   "outputs": [],
   "source": [
    "Test_data3 = arff.loadarff('/Users/arslanaliawan/Desktop/Pre-experiment/Multivariate_arff/CharacterTrajectories/CharacterTrajectoriesDimension3_TEST.arff')"
   ]
  },
  {
   "cell_type": "code",
   "execution_count": 343,
   "metadata": {},
   "outputs": [],
   "source": [
    "Test_df_D3 = pd.DataFrame(Test_data3[0])"
   ]
  },
  {
   "cell_type": "code",
   "execution_count": 344,
   "metadata": {},
   "outputs": [
    {
     "name": "stdout",
     "output_type": "stream",
     "text": [
      "(1436, 183)\n",
      "(1436, 183)\n",
      "(1436, 183)\n"
     ]
    }
   ],
   "source": [
    "print(Test_df_D1.shape)\n",
    "print(Test_df_D2.shape)\n",
    "print(Test_df_D3.shape)"
   ]
  },
  {
   "cell_type": "code",
   "execution_count": 345,
   "metadata": {},
   "outputs": [
    {
     "data": {
      "text/html": [
       "<div>\n",
       "<style scoped>\n",
       "    .dataframe tbody tr th:only-of-type {\n",
       "        vertical-align: middle;\n",
       "    }\n",
       "\n",
       "    .dataframe tbody tr th {\n",
       "        vertical-align: top;\n",
       "    }\n",
       "\n",
       "    .dataframe thead th {\n",
       "        text-align: right;\n",
       "    }\n",
       "</style>\n",
       "<table border=\"1\" class=\"dataframe\">\n",
       "  <thead>\n",
       "    <tr style=\"text-align: right;\">\n",
       "      <th></th>\n",
       "      <th>channel_0_0</th>\n",
       "      <th>channel_0_1</th>\n",
       "      <th>channel_0_2</th>\n",
       "      <th>channel_0_3</th>\n",
       "      <th>channel_0_4</th>\n",
       "      <th>channel_0_5</th>\n",
       "      <th>channel_0_6</th>\n",
       "      <th>channel_0_7</th>\n",
       "      <th>channel_0_8</th>\n",
       "      <th>channel_0_9</th>\n",
       "      <th>...</th>\n",
       "      <th>channel_0_173</th>\n",
       "      <th>channel_0_174</th>\n",
       "      <th>channel_0_175</th>\n",
       "      <th>channel_0_176</th>\n",
       "      <th>channel_0_177</th>\n",
       "      <th>channel_0_178</th>\n",
       "      <th>channel_0_179</th>\n",
       "      <th>channel_0_180</th>\n",
       "      <th>channel_0_181</th>\n",
       "      <th>target</th>\n",
       "    </tr>\n",
       "  </thead>\n",
       "  <tbody>\n",
       "    <tr>\n",
       "      <th>0</th>\n",
       "      <td>0.043915</td>\n",
       "      <td>0.033922</td>\n",
       "      <td>0.007255</td>\n",
       "      <td>-0.030362</td>\n",
       "      <td>-0.069213</td>\n",
       "      <td>-0.101034</td>\n",
       "      <td>-0.123061</td>\n",
       "      <td>-0.138499</td>\n",
       "      <td>-0.153547</td>\n",
       "      <td>-0.173622</td>\n",
       "      <td>...</td>\n",
       "      <td>NaN</td>\n",
       "      <td>NaN</td>\n",
       "      <td>NaN</td>\n",
       "      <td>NaN</td>\n",
       "      <td>NaN</td>\n",
       "      <td>NaN</td>\n",
       "      <td>NaN</td>\n",
       "      <td>NaN</td>\n",
       "      <td>NaN</td>\n",
       "      <td>b'1'</td>\n",
       "    </tr>\n",
       "  </tbody>\n",
       "</table>\n",
       "<p>1 rows × 183 columns</p>\n",
       "</div>"
      ],
      "text/plain": [
       "   channel_0_0  channel_0_1  channel_0_2  channel_0_3  channel_0_4  \\\n",
       "0     0.043915     0.033922     0.007255    -0.030362    -0.069213   \n",
       "\n",
       "   channel_0_5  channel_0_6  channel_0_7  channel_0_8  channel_0_9  ...  \\\n",
       "0    -0.101034    -0.123061    -0.138499    -0.153547    -0.173622  ...   \n",
       "\n",
       "   channel_0_173  channel_0_174  channel_0_175  channel_0_176  channel_0_177  \\\n",
       "0            NaN            NaN            NaN            NaN            NaN   \n",
       "\n",
       "   channel_0_178  channel_0_179  channel_0_180  channel_0_181  target  \n",
       "0            NaN            NaN            NaN            NaN    b'1'  \n",
       "\n",
       "[1 rows x 183 columns]"
      ]
     },
     "execution_count": 345,
     "metadata": {},
     "output_type": "execute_result"
    }
   ],
   "source": [
    "Test_df_D1.head(1)"
   ]
  },
  {
   "cell_type": "code",
   "execution_count": 346,
   "metadata": {},
   "outputs": [
    {
     "data": {
      "text/plain": [
       "array([b'1', b'2', b'3', b'4', b'5', b'6', b'7', b'8', b'9', b'10', b'11',\n",
       "       b'12', b'13', b'14', b'15', b'16', b'17', b'18', b'19', b'20'],\n",
       "      dtype=object)"
      ]
     },
     "execution_count": 346,
     "metadata": {},
     "output_type": "execute_result"
    }
   ],
   "source": [
    "Test_df_D1.target.unique()"
   ]
  },
  {
   "cell_type": "code",
   "execution_count": 347,
   "metadata": {},
   "outputs": [
    {
     "data": {
      "text/html": [
       "<div>\n",
       "<style scoped>\n",
       "    .dataframe tbody tr th:only-of-type {\n",
       "        vertical-align: middle;\n",
       "    }\n",
       "\n",
       "    .dataframe tbody tr th {\n",
       "        vertical-align: top;\n",
       "    }\n",
       "\n",
       "    .dataframe thead th {\n",
       "        text-align: right;\n",
       "    }\n",
       "</style>\n",
       "<table border=\"1\" class=\"dataframe\">\n",
       "  <thead>\n",
       "    <tr style=\"text-align: right;\">\n",
       "      <th></th>\n",
       "      <th>channel_1_0</th>\n",
       "      <th>channel_1_1</th>\n",
       "      <th>channel_1_2</th>\n",
       "      <th>channel_1_3</th>\n",
       "      <th>channel_1_4</th>\n",
       "      <th>channel_1_5</th>\n",
       "      <th>channel_1_6</th>\n",
       "      <th>channel_1_7</th>\n",
       "      <th>channel_1_8</th>\n",
       "      <th>channel_1_9</th>\n",
       "      <th>...</th>\n",
       "      <th>channel_1_173</th>\n",
       "      <th>channel_1_174</th>\n",
       "      <th>channel_1_175</th>\n",
       "      <th>channel_1_176</th>\n",
       "      <th>channel_1_177</th>\n",
       "      <th>channel_1_178</th>\n",
       "      <th>channel_1_179</th>\n",
       "      <th>channel_1_180</th>\n",
       "      <th>channel_1_181</th>\n",
       "      <th>target</th>\n",
       "    </tr>\n",
       "  </thead>\n",
       "  <tbody>\n",
       "    <tr>\n",
       "      <th>0</th>\n",
       "      <td>-0.010011</td>\n",
       "      <td>-0.004357</td>\n",
       "      <td>0.005951</td>\n",
       "      <td>0.018295</td>\n",
       "      <td>0.029589</td>\n",
       "      <td>0.038164</td>\n",
       "      <td>0.044259</td>\n",
       "      <td>0.048942</td>\n",
       "      <td>0.052885</td>\n",
       "      <td>0.056265</td>\n",
       "      <td>...</td>\n",
       "      <td>NaN</td>\n",
       "      <td>NaN</td>\n",
       "      <td>NaN</td>\n",
       "      <td>NaN</td>\n",
       "      <td>NaN</td>\n",
       "      <td>NaN</td>\n",
       "      <td>NaN</td>\n",
       "      <td>NaN</td>\n",
       "      <td>NaN</td>\n",
       "      <td>b'1'</td>\n",
       "    </tr>\n",
       "  </tbody>\n",
       "</table>\n",
       "<p>1 rows × 183 columns</p>\n",
       "</div>"
      ],
      "text/plain": [
       "   channel_1_0  channel_1_1  channel_1_2  channel_1_3  channel_1_4  \\\n",
       "0    -0.010011    -0.004357     0.005951     0.018295     0.029589   \n",
       "\n",
       "   channel_1_5  channel_1_6  channel_1_7  channel_1_8  channel_1_9  ...  \\\n",
       "0     0.038164     0.044259     0.048942     0.052885     0.056265  ...   \n",
       "\n",
       "   channel_1_173  channel_1_174  channel_1_175  channel_1_176  channel_1_177  \\\n",
       "0            NaN            NaN            NaN            NaN            NaN   \n",
       "\n",
       "   channel_1_178  channel_1_179  channel_1_180  channel_1_181  target  \n",
       "0            NaN            NaN            NaN            NaN    b'1'  \n",
       "\n",
       "[1 rows x 183 columns]"
      ]
     },
     "execution_count": 347,
     "metadata": {},
     "output_type": "execute_result"
    }
   ],
   "source": [
    "Test_df_D2.head(1)"
   ]
  },
  {
   "cell_type": "code",
   "execution_count": 348,
   "metadata": {},
   "outputs": [
    {
     "data": {
      "text/html": [
       "<div>\n",
       "<style scoped>\n",
       "    .dataframe tbody tr th:only-of-type {\n",
       "        vertical-align: middle;\n",
       "    }\n",
       "\n",
       "    .dataframe tbody tr th {\n",
       "        vertical-align: top;\n",
       "    }\n",
       "\n",
       "    .dataframe thead th {\n",
       "        text-align: right;\n",
       "    }\n",
       "</style>\n",
       "<table border=\"1\" class=\"dataframe\">\n",
       "  <thead>\n",
       "    <tr style=\"text-align: right;\">\n",
       "      <th></th>\n",
       "      <th>channel_2_0</th>\n",
       "      <th>channel_2_1</th>\n",
       "      <th>channel_2_2</th>\n",
       "      <th>channel_2_3</th>\n",
       "      <th>channel_2_4</th>\n",
       "      <th>channel_2_5</th>\n",
       "      <th>channel_2_6</th>\n",
       "      <th>channel_2_7</th>\n",
       "      <th>channel_2_8</th>\n",
       "      <th>channel_2_9</th>\n",
       "      <th>...</th>\n",
       "      <th>channel_2_173</th>\n",
       "      <th>channel_2_174</th>\n",
       "      <th>channel_2_175</th>\n",
       "      <th>channel_2_176</th>\n",
       "      <th>channel_2_177</th>\n",
       "      <th>channel_2_178</th>\n",
       "      <th>channel_2_179</th>\n",
       "      <th>channel_2_180</th>\n",
       "      <th>channel_2_181</th>\n",
       "      <th>target</th>\n",
       "    </tr>\n",
       "  </thead>\n",
       "  <tbody>\n",
       "    <tr>\n",
       "      <th>0</th>\n",
       "      <td>0.536491</td>\n",
       "      <td>0.76718</td>\n",
       "      <td>0.993862</td>\n",
       "      <td>1.184721</td>\n",
       "      <td>1.31248</td>\n",
       "      <td>1.360485</td>\n",
       "      <td>1.32964</td>\n",
       "      <td>1.241397</td>\n",
       "      <td>1.13202</td>\n",
       "      <td>1.03714</td>\n",
       "      <td>...</td>\n",
       "      <td>NaN</td>\n",
       "      <td>NaN</td>\n",
       "      <td>NaN</td>\n",
       "      <td>NaN</td>\n",
       "      <td>NaN</td>\n",
       "      <td>NaN</td>\n",
       "      <td>NaN</td>\n",
       "      <td>NaN</td>\n",
       "      <td>NaN</td>\n",
       "      <td>b'1'</td>\n",
       "    </tr>\n",
       "  </tbody>\n",
       "</table>\n",
       "<p>1 rows × 183 columns</p>\n",
       "</div>"
      ],
      "text/plain": [
       "   channel_2_0  channel_2_1  channel_2_2  channel_2_3  channel_2_4  \\\n",
       "0     0.536491      0.76718     0.993862     1.184721      1.31248   \n",
       "\n",
       "   channel_2_5  channel_2_6  channel_2_7  channel_2_8  channel_2_9  ...  \\\n",
       "0     1.360485      1.32964     1.241397      1.13202      1.03714  ...   \n",
       "\n",
       "   channel_2_173  channel_2_174  channel_2_175  channel_2_176  channel_2_177  \\\n",
       "0            NaN            NaN            NaN            NaN            NaN   \n",
       "\n",
       "   channel_2_178  channel_2_179  channel_2_180  channel_2_181  target  \n",
       "0            NaN            NaN            NaN            NaN    b'1'  \n",
       "\n",
       "[1 rows x 183 columns]"
      ]
     },
     "execution_count": 348,
     "metadata": {},
     "output_type": "execute_result"
    }
   ],
   "source": [
    "Test_df_D3.head(1)"
   ]
  },
  {
   "cell_type": "code",
   "execution_count": 349,
   "metadata": {},
   "outputs": [],
   "source": [
    "Test_df_D1_T = Test_df_D1.head(1).T\n",
    "Test_df_D2_T = Test_df_D2.head(1).T\n",
    "Test_df_D3_T = Test_df_D3.head(1).T"
   ]
  },
  {
   "cell_type": "code",
   "execution_count": 350,
   "metadata": {},
   "outputs": [],
   "source": [
    "Test_df_D1_T=Test_df_D1_T.fillna(0)\n",
    "Test_df_D2_T=Test_df_D2_T.fillna(0)\n",
    "Test_df_D3_T=Test_df_D2_T.fillna(0)"
   ]
  },
  {
   "cell_type": "code",
   "execution_count": 351,
   "metadata": {},
   "outputs": [],
   "source": [
    "Test_arr1 = Test_df_D1_T.to_numpy()\n",
    "Test_arr2 = Test_df_D2_T.to_numpy()\n",
    "Test_arr3 = Test_df_D3_T.to_numpy()"
   ]
  },
  {
   "cell_type": "code",
   "execution_count": 352,
   "metadata": {},
   "outputs": [],
   "source": [
    "finalarray_test_data = np.concatenate((Test_arr1, Test_arr2),axis=1)"
   ]
  },
  {
   "cell_type": "code",
   "execution_count": 353,
   "metadata": {},
   "outputs": [],
   "source": [
    "finalarray_test_data = np.concatenate((finalarray_test_data, Test_arr3),axis=1)"
   ]
  },
  {
   "cell_type": "code",
   "execution_count": 354,
   "metadata": {},
   "outputs": [],
   "source": [
    "Origianl_test_view = finalarray_test_data"
   ]
  },
  {
   "cell_type": "code",
   "execution_count": 355,
   "metadata": {},
   "outputs": [],
   "source": [
    "OV = Origianl_test_view"
   ]
  },
  {
   "cell_type": "markdown",
   "metadata": {},
   "source": [
    "# Pseudo Time Series"
   ]
  },
  {
   "cell_type": "markdown",
   "metadata": {},
   "source": [
    "For creating PTS, the start and end point, will take from test data view and in between the points would be random partilly from Training Data"
   ]
  },
  {
   "cell_type": "code",
   "execution_count": 356,
   "metadata": {},
   "outputs": [],
   "source": [
    "Starting_point = Origianl_test_view[:][0:1]\n",
    "End_point = Origianl_test_view[:][182:183]"
   ]
  },
  {
   "cell_type": "code",
   "execution_count": 357,
   "metadata": {},
   "outputs": [],
   "source": [
    "copy_of_training_view_row1 = finalarray_training_data\n",
    "copy_of_training_view_row2 = finalarray_training_data_row2"
   ]
  },
  {
   "cell_type": "code",
   "execution_count": 358,
   "metadata": {},
   "outputs": [],
   "source": [
    "training_slice_1 = copy_of_training_view_row2[:][1:46]\n",
    "training_slice_2 = copy_of_training_view_row1[:][46:92]\n",
    "training_slice_3 = copy_of_training_view_row2[:][92:116]\n",
    "training_slice_4 = copy_of_training_view_row1[:][116:182]"
   ]
  },
  {
   "cell_type": "code",
   "execution_count": 359,
   "metadata": {},
   "outputs": [
    {
     "name": "stdout",
     "output_type": "stream",
     "text": [
      "(45, 3)\n",
      "(46, 3)\n",
      "(24, 3)\n",
      "(66, 3)\n"
     ]
    }
   ],
   "source": [
    "print(training_slice_1.shape)\n",
    "print(training_slice_2.shape)\n",
    "print(training_slice_3.shape)\n",
    "print(training_slice_4.shape)"
   ]
  },
  {
   "cell_type": "code",
   "execution_count": 360,
   "metadata": {},
   "outputs": [],
   "source": [
    "Partial_Psuedo_Series = np.concatenate((Starting_point, training_slice_1),axis=0)\n",
    "Partial_Psuedo_Series = np.concatenate((Partial_Psuedo_Series, training_slice_3),axis=0)\n",
    "Partial_Psuedo_Series = np.concatenate((Partial_Psuedo_Series, training_slice_2),axis=0)\n",
    "Partial_Psuedo_Series = np.concatenate((Partial_Psuedo_Series, training_slice_4),axis=0)\n",
    "Partial_Psuedo_Series = np.concatenate((Partial_Psuedo_Series, End_point),axis=0)"
   ]
  },
  {
   "cell_type": "code",
   "execution_count": 361,
   "metadata": {},
   "outputs": [],
   "source": [
    "PTS_V = Partial_Psuedo_Series"
   ]
  },
  {
   "cell_type": "markdown",
   "metadata": {},
   "source": [
    "# Random Pseudo TS"
   ]
  },
  {
   "cell_type": "code",
   "execution_count": 362,
   "metadata": {},
   "outputs": [],
   "source": [
    "Starting_point = Origianl_test_view[:][0:1]\n",
    "End_point = Origianl_test_view[:][182:183]"
   ]
  },
  {
   "cell_type": "code",
   "execution_count": 363,
   "metadata": {},
   "outputs": [],
   "source": [
    "training_slice_1_for_PTS = copy_of_training_view_row1[:][1:25]\n",
    "training_slice_2_for_PTS = copy_of_training_view_row2[:][25:29]\n",
    "training_slice_3_for_PTS = copy_of_training_view_row1[:][29:50]\n",
    "training_slice_4_for_PTS = copy_of_training_view_row2[:][50:55]\n",
    "training_slice_5_for_PTS = copy_of_training_view_row2[:][55:80]\n",
    "training_slice_6_for_PTS = copy_of_training_view_row1[:][80:85]\n",
    "training_slice_7_for_PTS = copy_of_training_view_row2[:][85:110]\n",
    "training_slice_8_for_PTS = copy_of_training_view_row1[:][110:116]\n",
    "training_slice_9_for_PTS = copy_of_training_view_row2[:][116:182]"
   ]
  },
  {
   "cell_type": "code",
   "execution_count": 364,
   "metadata": {},
   "outputs": [],
   "source": [
    "Random_Psuedo_Time_Series = np.concatenate((Starting_point, training_slice_1_for_PTS),axis=0)\n",
    "Random_Psuedo_Time_Series = np.concatenate((Random_Psuedo_Time_Series, training_slice_2_for_PTS),axis=0)\n",
    "Random_Psuedo_Time_Series = np.concatenate((Random_Psuedo_Time_Series, training_slice_3_for_PTS),axis=0)\n",
    "Random_Psuedo_Time_Series = np.concatenate((Random_Psuedo_Time_Series, training_slice_4_for_PTS),axis=0)\n",
    "Random_Psuedo_Time_Series = np.concatenate((Random_Psuedo_Time_Series, training_slice_5_for_PTS),axis=0)\n",
    "Random_Psuedo_Time_Series = np.concatenate((Random_Psuedo_Time_Series, training_slice_6_for_PTS),axis=0)\n",
    "Random_Psuedo_Time_Series = np.concatenate((Random_Psuedo_Time_Series, training_slice_7_for_PTS),axis=0)\n",
    "Random_Psuedo_Time_Series = np.concatenate((Random_Psuedo_Time_Series, training_slice_8_for_PTS),axis=0)\n",
    "Random_Psuedo_Time_Series = np.concatenate((Random_Psuedo_Time_Series, training_slice_9_for_PTS),axis=0)\n",
    "Random_Psuedo_Time_Series = np.concatenate((Random_Psuedo_Time_Series, End_point),axis=0)"
   ]
  },
  {
   "cell_type": "code",
   "execution_count": 365,
   "metadata": {},
   "outputs": [
    {
     "data": {
      "text/plain": [
       "(183, 3)"
      ]
     },
     "execution_count": 365,
     "metadata": {},
     "output_type": "execute_result"
    }
   ],
   "source": [
    "Random_Psuedo_Time_Series.shape"
   ]
  },
  {
   "cell_type": "code",
   "execution_count": 366,
   "metadata": {},
   "outputs": [],
   "source": [
    "RV_PTS = Random_Psuedo_Time_Series"
   ]
  },
  {
   "cell_type": "markdown",
   "metadata": {},
   "source": [
    "# Testing Different DTW varients "
   ]
  },
  {
   "cell_type": "code",
   "execution_count": 367,
   "metadata": {},
   "outputs": [],
   "source": [
    "from scipy.spatial.distance import pdist, cdist\n",
    "from sklearn.metrics.pairwise import euclidean_distances, pairwise_distances\n",
    "from sklearn.utils import check_random_state\n",
    "  "
   ]
  },
  {
   "cell_type": "code",
   "execution_count": 368,
   "metadata": {},
   "outputs": [],
   "source": [
    "from tslearn.soft_dtw_fast import *\n",
    "from tslearn.cysax import *\n",
    "from tslearn.metrics import dtw, dtw_path,dtw_path_from_metric,soft_dtw\n",
    "from tslearn.utils import *"
   ]
  },
  {
   "cell_type": "code",
   "execution_count": 369,
   "metadata": {},
   "outputs": [
    {
     "data": {
      "text/plain": [
       "15.304965738351981"
      ]
     },
     "execution_count": 369,
     "metadata": {},
     "output_type": "execute_result"
    }
   ],
   "source": [
    "# Compute Dynamic Time Warping (DTW) similarity measure between (possibly multidimensional) \n",
    "# time series and return it.\n",
    "dist = dtw(OV, RV_PTS, global_constraint=None, sakoe_chiba_radius=None, itakura_max_slope=None)\n",
    "dist"
   ]
  },
  {
   "cell_type": "code",
   "execution_count": 370,
   "metadata": {},
   "outputs": [
    {
     "data": {
      "text/plain": [
       "12.800305274486698"
      ]
     },
     "execution_count": 370,
     "metadata": {},
     "output_type": "execute_result"
    }
   ],
   "source": [
    "\n",
    "dist = dtw(OV, PTS_V, global_constraint=None, sakoe_chiba_radius=None, itakura_max_slope=None)\n",
    "dist"
   ]
  },
  {
   "cell_type": "code",
   "execution_count": null,
   "metadata": {},
   "outputs": [],
   "source": []
  },
  {
   "cell_type": "code",
   "execution_count": null,
   "metadata": {},
   "outputs": [],
   "source": []
  },
  {
   "cell_type": "code",
   "execution_count": 371,
   "metadata": {},
   "outputs": [
    {
     "data": {
      "text/plain": [
       "222.2884479224757"
      ]
     },
     "execution_count": 371,
     "metadata": {},
     "output_type": "execute_result"
    }
   ],
   "source": [
    "# Compute Soft-DTW metric between two time series.\n",
    "soft_dtw_score = soft_dtw(OV, RV_PTS, gamma=.1)\n",
    "soft_dtw_score"
   ]
  },
  {
   "cell_type": "code",
   "execution_count": 372,
   "metadata": {},
   "outputs": [
    {
     "data": {
      "text/plain": [
       "150.15342448646297"
      ]
     },
     "execution_count": 372,
     "metadata": {},
     "output_type": "execute_result"
    }
   ],
   "source": [
    "\n",
    "soft_dtw_score = soft_dtw(OV, PTS_V, gamma=.1)\n",
    "soft_dtw_score"
   ]
  },
  {
   "cell_type": "code",
   "execution_count": null,
   "metadata": {},
   "outputs": [],
   "source": []
  },
  {
   "cell_type": "code",
   "execution_count": null,
   "metadata": {},
   "outputs": [],
   "source": []
  },
  {
   "cell_type": "code",
   "execution_count": 373,
   "metadata": {},
   "outputs": [
    {
     "name": "stdout",
     "output_type": "stream",
     "text": [
      "157.7248526171892\n"
     ]
    }
   ],
   "source": [
    "# Compute Dynamic Time Warping (DTW) similarity measure between (possibly multidimensional) time series\n",
    "# using a distance metric defined by the user and return both the path and \n",
    "# the similarity.\n",
    "path, dist = dtw_path_from_metric(OV, RV_PTS)\n",
    "print(dist)"
   ]
  },
  {
   "cell_type": "code",
   "execution_count": 374,
   "metadata": {},
   "outputs": [
    {
     "name": "stdout",
     "output_type": "stream",
     "text": [
      "137.52871566961315\n"
     ]
    }
   ],
   "source": [
    "\n",
    "path, dist = dtw_path_from_metric(OV, PTS_V)\n",
    "print(dist)"
   ]
  },
  {
   "cell_type": "code",
   "execution_count": null,
   "metadata": {},
   "outputs": [],
   "source": []
  },
  {
   "cell_type": "code",
   "execution_count": null,
   "metadata": {},
   "outputs": [],
   "source": []
  },
  {
   "cell_type": "code",
   "execution_count": 375,
   "metadata": {},
   "outputs": [
    {
     "name": "stdout",
     "output_type": "stream",
     "text": [
      "15.304965738351981\n"
     ]
    }
   ],
   "source": [
    "# Compute Dynamic Time Warping (DTW) similarity measure between (possibly multidimensional) time series\n",
    "# and return both the path and the similarity.\n",
    "path, dist = dtw_path(OV, RV_PTS)\n",
    "print(dist)"
   ]
  },
  {
   "cell_type": "code",
   "execution_count": 376,
   "metadata": {},
   "outputs": [
    {
     "name": "stdout",
     "output_type": "stream",
     "text": [
      "12.800305274486698\n"
     ]
    }
   ],
   "source": [
    "path, dist = dtw_path(OV, PTS_V)\n",
    "print(dist)"
   ]
  },
  {
   "cell_type": "code",
   "execution_count": null,
   "metadata": {},
   "outputs": [],
   "source": []
  },
  {
   "cell_type": "code",
   "execution_count": null,
   "metadata": {},
   "outputs": [],
   "source": []
  },
  {
   "cell_type": "code",
   "execution_count": 377,
   "metadata": {},
   "outputs": [
    {
     "data": {
      "text/plain": [
       "15.471200195691702"
      ]
     },
     "execution_count": 377,
     "metadata": {},
     "output_type": "execute_result"
    }
   ],
   "source": [
    "cost = dtw(OV, RV_PTS, global_constraint=\"itakura\", itakura_max_slope=2.)\n",
    "cost"
   ]
  },
  {
   "cell_type": "code",
   "execution_count": 378,
   "metadata": {},
   "outputs": [
    {
     "data": {
      "text/plain": [
       "12.863509094379571"
      ]
     },
     "execution_count": 378,
     "metadata": {},
     "output_type": "execute_result"
    }
   ],
   "source": [
    "cost = dtw(OV, PTS_V, global_constraint=\"itakura\", itakura_max_slope=2.)\n",
    "cost"
   ]
  },
  {
   "cell_type": "code",
   "execution_count": null,
   "metadata": {},
   "outputs": [],
   "source": []
  },
  {
   "cell_type": "code",
   "execution_count": null,
   "metadata": {},
   "outputs": [],
   "source": []
  },
  {
   "cell_type": "markdown",
   "metadata": {},
   "source": [
    "# Calculating DTW"
   ]
  },
  {
   "cell_type": "code",
   "execution_count": 383,
   "metadata": {},
   "outputs": [],
   "source": [
    "from scipy.spatial.distance import *\n",
    "from fastdtw import fastdtw"
   ]
  },
  {
   "cell_type": "code",
   "execution_count": 384,
   "metadata": {},
   "outputs": [
    {
     "name": "stdout",
     "output_type": "stream",
     "text": [
      "143.0\n"
     ]
    }
   ],
   "source": [
    "# jaccard\n",
    "# euclidean\n",
    "# hamming\n",
    "# sqeuclidean\n",
    "# cityblock\n",
    "distance, path = fastdtw(OV, RV_PTS, dist=hamming)\n",
    "print(distance)\n",
    "# print(path)"
   ]
  },
  {
   "cell_type": "markdown",
   "metadata": {},
   "source": [
    "# Using FastDTW"
   ]
  },
  {
   "cell_type": "code",
   "execution_count": 113,
   "metadata": {},
   "outputs": [],
   "source": [
    "# import matplotlib.pyplot as plt\n",
    "# from scipy.spatial.distance import euclidean\n",
    "# from fastdtw import fastdtw\n",
    "\n"
   ]
  },
  {
   "cell_type": "code",
   "execution_count": 112,
   "metadata": {},
   "outputs": [],
   "source": [
    "# start=0\n",
    "# end=2*np.pi\n",
    "# step=0.1\n",
    "# k=2\n",
    "# x1=np.arange(start,end,k*step)\n",
    "# x2=np.arange(start,end/k,step)\n",
    "\n",
    "# noise=np.random.uniform(start,end,len(x2))/10\n",
    "\n",
    "# y1=np.sin(x1)+1*np.sin(2*x1)+noise\n",
    "\n",
    "# y2=np.sin(k*x2)+1*np.sin(k*2*x2)\n",
    "\n",
    "\n",
    "\n",
    "\n",
    "# time_series_A=OV\n",
    "# time_series_B=RV\n",
    "# distance, path = fastdtw(time_series_A, time_series_B, dist=euclidean)\n",
    "# print(distance)\n",
    "# # print(path)\n",
    "\n",
    "\n",
    "\n",
    "# sin1=plt.plot(list(list(zip(*path))[0]))\n",
    "# plt.setp(sin1,color=\"b\",linewidth=2.0)\n",
    "\n",
    "# sin2=plt.plot(list(list(zip(*path))[1]))\n",
    "# plt.setp(sin2,color=\"r\",linewidth=2.0)\n"
   ]
  },
  {
   "cell_type": "markdown",
   "metadata": {},
   "source": [
    "# N Dimension Code "
   ]
  },
  {
   "cell_type": "code",
   "execution_count": 111,
   "metadata": {},
   "outputs": [],
   "source": [
    "# import numpy as np\n",
    "# import pandas as pd\n",
    "# import matplotlib.pyplot as plt\n",
    "\n",
    "# def MDTWDistance(s1, s2, window=10, num_columns=1):\n",
    "#     DTW={}\n",
    "\n",
    "#     w = max(window, abs(len(s1)-len(s2)))\n",
    "\n",
    "#     for i in range(-1,len(s1)):\n",
    "#         for j in range(-1,len(s2)):\n",
    "#             DTW[(i, j)] = float('inf')\n",
    "#     DTW[(-1, -1)] = 0\n",
    "\n",
    "#     for i in range(len(s1)):\n",
    "#         for j in range(max(0, i-w), min(len(s2), i+w)):\n",
    "#             #print \"Finding Distance of\", s1.loc[i], s2.loc[j]\n",
    "#             dist= mdist(s1.loc[i], s2.loc[j], num_columns)\n",
    "#             #print \"Dist\", dist\n",
    "#             #print i, j, dist\n",
    "#             DTW[(i, j)] = dist + min(DTW[(i-1, j)],DTW[(i, j-1)], DTW[(i-1, j-1)])\n",
    "\n",
    "#     return np.sqrt(DTW[len(s1)-1, len(s2)-1])\n",
    "\n",
    "# def mdist(a, b, num_col):\n",
    "#     dist = 0\n",
    "#     for col in range(num_col):\n",
    "#         #print \"Finding Distance of\", a[col], b[col]\n",
    "#         dist = dist + (a[col]-b[col])**2\n",
    "#     return dist\n",
    "\n",
    "# x=np.linspace(0,50,100)\n",
    "# ts1=pd.Series(3.1*np.sin(x/1.5)+3.5)\n",
    "# ts2=pd.Series(2.2*np.sin(x/3.5+2.4)+3.2)\n",
    "# ts3=pd.Series(0.04*x+8.0)\n",
    "# ts4=pd.Series(0.048*x+8.6)\n",
    "# ts5=pd.Series(-0.17*x+4.1)\n",
    "# ts6=pd.Series(-0.14*x+4.5)\n",
    "\n",
    "# ts1.plot()\n",
    "# ts2.plot()\n",
    "# ts3.plot()\n",
    "# ts4.plot()\n",
    "# ts5.plot()\n",
    "# ts6.plot()\n",
    "\n",
    "# plt.ylim(-4,12)\n",
    "# plt.legend(['ts1','ts2','ts3','ts4','ts5','ts6'])\n",
    "# plt.show()\n",
    "\n"
   ]
  },
  {
   "cell_type": "code",
   "execution_count": 69,
   "metadata": {},
   "outputs": [],
   "source": [
    "# timeSeries = pd.Panel({0:pd.DataFrame(np.transpose([ts1, ts2])),\n",
    "#                  1:pd.DataFrame(np.transpose([ts3, ts4])),\n",
    "#                    2:pd.DataFrame(np.transpose([ts5, ts6]))\n",
    "#                   })\n",
    "\n",
    "# print (\"0 and 1:\",MDTWDistance(timeSeries[0], timeSeries[1],window=10, num_columns=2))\n",
    "# print (\"0 and 2:\",MDTWDistance(timeSeries[0], timeSeries[2],window=10, num_columns=2))\n",
    "# print (\"1 and 2:\",MDTWDistance(timeSeries[1], timeSeries[2],window=10, num_columns=2))"
   ]
  },
  {
   "cell_type": "code",
   "execution_count": null,
   "metadata": {},
   "outputs": [],
   "source": []
  },
  {
   "cell_type": "markdown",
   "metadata": {},
   "source": [
    "# Single dimension code"
   ]
  },
  {
   "cell_type": "code",
   "execution_count": 60,
   "metadata": {},
   "outputs": [],
   "source": [
    "# import numpy as np\n",
    "# from dtw import dtw"
   ]
  },
  {
   "cell_type": "code",
   "execution_count": 61,
   "metadata": {},
   "outputs": [],
   "source": [
    "# manhattan_distance = lambda Origianl_test_view, Random_Psuedo_Series: np.abs(Origianl_test_view - Random_Psuedo_Series)\n"
   ]
  },
  {
   "cell_type": "code",
   "execution_count": 62,
   "metadata": {},
   "outputs": [],
   "source": [
    "# d, cost_matrix, acc_cost_matrix, path = dtw(Origianl_test_view, Random_Psuedo_Series, dist=manhattan_distance)"
   ]
  },
  {
   "cell_type": "code",
   "execution_count": null,
   "metadata": {},
   "outputs": [],
   "source": [
    "# print(d)"
   ]
  },
  {
   "cell_type": "markdown",
   "metadata": {},
   "source": [
    "# R Code"
   ]
  },
  {
   "cell_type": "code",
   "execution_count": 95,
   "metadata": {},
   "outputs": [],
   "source": [
    "# import numpy as np\n",
    "# import rpy2.robjects.numpy2ri\n",
    "\n",
    "# rpy2.robjects.numpy2ri.activate()\n",
    "# from rpy2.robjects.packages import importr\n",
    "# import rpy2.robjects as robj\n"
   ]
  },
  {
   "cell_type": "code",
   "execution_count": 96,
   "metadata": {},
   "outputs": [],
   "source": [
    "# R = rpy2.robjects.r"
   ]
  },
  {
   "cell_type": "code",
   "execution_count": 97,
   "metadata": {},
   "outputs": [],
   "source": [
    "# dtw = importr(\"dtw\")"
   ]
  },
  {
   "cell_type": "code",
   "execution_count": 98,
   "metadata": {},
   "outputs": [],
   "source": [
    "# OV = Origianl_test_view\n",
    "# RV = Random_Psuedo_Series"
   ]
  },
  {
   "cell_type": "code",
   "execution_count": 195,
   "metadata": {},
   "outputs": [],
   "source": [
    "# # OV\n",
    "# type(OV)"
   ]
  },
  {
   "cell_type": "code",
   "execution_count": 99,
   "metadata": {},
   "outputs": [],
   "source": [
    "# rt,ct = Origianl_test_view.shape\n",
    "# rq,cq = Random_Psuedo_Series.shape\n",
    "\n",
    "\n",
    "# Origianl_test_view_R = R.matrix(OV,nrow=rt,ncol=ct)\n",
    "# Random_Psuedo_Series_R = R.matrix(OV,nrow=rq,ncol=cq)"
   ]
  },
  {
   "cell_type": "code",
   "execution_count": 101,
   "metadata": {},
   "outputs": [],
   "source": [
    "# # Calculate the alignment vector and corresponding distance\n",
    "# Alignment = R.dtw(Origianl_test_view_R,Random_Psuedo_Series_R\n",
    "#                   ,keep=True, step_pattern=R.rabinerJuangStepPattern(4,\"c\")\n",
    "#                   ,open_begin=True,open_end=True\n",
    "# )"
   ]
  },
  {
   "cell_type": "code",
   "execution_count": 194,
   "metadata": {},
   "outputs": [],
   "source": [
    "# dist = Alignment.rx('distance')[0][0]"
   ]
  },
  {
   "cell_type": "code",
   "execution_count": null,
   "metadata": {},
   "outputs": [],
   "source": []
  }
 ],
 "metadata": {
  "kernelspec": {
   "display_name": "Python 3",
   "language": "python",
   "name": "python3"
  },
  "language_info": {
   "codemirror_mode": {
    "name": "ipython",
    "version": 3
   },
   "file_extension": ".py",
   "mimetype": "text/x-python",
   "name": "python",
   "nbconvert_exporter": "python",
   "pygments_lexer": "ipython3",
   "version": "3.7.6"
  }
 },
 "nbformat": 4,
 "nbformat_minor": 4
}
