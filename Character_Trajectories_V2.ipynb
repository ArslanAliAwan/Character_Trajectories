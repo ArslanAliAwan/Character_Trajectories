{
 "cells": [
  {
   "cell_type": "code",
   "execution_count": 162,
   "metadata": {},
   "outputs": [],
   "source": [
    "import numpy as np \n",
    "from scipy.io import arff\n",
    "import pandas as pd"
   ]
  },
  {
   "cell_type": "markdown",
   "metadata": {},
   "source": [
    "# Pre- Steps "
   ]
  },
  {
   "cell_type": "code",
   "execution_count": 163,
   "metadata": {},
   "outputs": [],
   "source": [
    "data1 = arff.loadarff('/Users/arslanaliawan/Desktop/Pre-experiment/Multivariate_arff/CharacterTrajectories/CharacterTrajectoriesDimension1_TRAIN.arff')"
   ]
  },
  {
   "cell_type": "code",
   "execution_count": 164,
   "metadata": {},
   "outputs": [],
   "source": [
    "df_D1 = pd.DataFrame(data1[0])"
   ]
  },
  {
   "cell_type": "code",
   "execution_count": 165,
   "metadata": {},
   "outputs": [],
   "source": [
    "data2 = arff.loadarff('/Users/arslanaliawan/Desktop/Pre-experiment/Multivariate_arff/CharacterTrajectories/CharacterTrajectoriesDimension2_TRAIN.arff')"
   ]
  },
  {
   "cell_type": "code",
   "execution_count": 166,
   "metadata": {},
   "outputs": [],
   "source": [
    "df_D2 = pd.DataFrame(data2[0])"
   ]
  },
  {
   "cell_type": "code",
   "execution_count": 167,
   "metadata": {},
   "outputs": [],
   "source": [
    "data3 = arff.loadarff('/Users/arslanaliawan/Desktop/Pre-experiment/Multivariate_arff/CharacterTrajectories/CharacterTrajectoriesDimension3_TRAIN.arff')"
   ]
  },
  {
   "cell_type": "code",
   "execution_count": 168,
   "metadata": {},
   "outputs": [],
   "source": [
    "df_D3 = pd.DataFrame(data3[0])"
   ]
  },
  {
   "cell_type": "code",
   "execution_count": 169,
   "metadata": {},
   "outputs": [
    {
     "name": "stdout",
     "output_type": "stream",
     "text": [
      "(1422, 183)\n",
      "(1422, 183)\n",
      "(1422, 183)\n"
     ]
    }
   ],
   "source": [
    "print(df_D1.shape)\n",
    "print(df_D2.shape)\n",
    "print(df_D3.shape)"
   ]
  },
  {
   "cell_type": "code",
   "execution_count": 170,
   "metadata": {},
   "outputs": [],
   "source": [
    "df_D1 =df_D1.apply(lambda x : x.fillna(method='ffill'), axis=1) \n",
    "df_D2 =df_D2.apply(lambda x : x.fillna(method='ffill'), axis=1)\n",
    "df_D3 =df_D3.apply(lambda x : x.fillna(method='ffill'), axis=1) "
   ]
  },
  {
   "cell_type": "code",
   "execution_count": 171,
   "metadata": {},
   "outputs": [],
   "source": [
    "df_D1 = df_D1.drop('target', axis=1)\n",
    "df_D2 = df_D2.drop('target', axis=1)\n",
    "df_D3 = df_D3.drop('target', axis=1)"
   ]
  },
  {
   "cell_type": "code",
   "execution_count": 172,
   "metadata": {},
   "outputs": [
    {
     "name": "stdout",
     "output_type": "stream",
     "text": [
      "(1422, 182)\n",
      "(1422, 182)\n",
      "(1422, 182)\n"
     ]
    }
   ],
   "source": [
    "print(df_D1.shape)\n",
    "print(df_D2.shape)\n",
    "print(df_D3.shape)"
   ]
  },
  {
   "cell_type": "code",
   "execution_count": 173,
   "metadata": {},
   "outputs": [
    {
     "data": {
      "text/html": [
       "<div>\n",
       "<style scoped>\n",
       "    .dataframe tbody tr th:only-of-type {\n",
       "        vertical-align: middle;\n",
       "    }\n",
       "\n",
       "    .dataframe tbody tr th {\n",
       "        vertical-align: top;\n",
       "    }\n",
       "\n",
       "    .dataframe thead th {\n",
       "        text-align: right;\n",
       "    }\n",
       "</style>\n",
       "<table border=\"1\" class=\"dataframe\">\n",
       "  <thead>\n",
       "    <tr style=\"text-align: right;\">\n",
       "      <th></th>\n",
       "      <th>channel_0_0</th>\n",
       "      <th>channel_0_1</th>\n",
       "      <th>channel_0_2</th>\n",
       "      <th>channel_0_3</th>\n",
       "      <th>channel_0_4</th>\n",
       "      <th>channel_0_5</th>\n",
       "      <th>channel_0_6</th>\n",
       "      <th>channel_0_7</th>\n",
       "      <th>channel_0_8</th>\n",
       "      <th>channel_0_9</th>\n",
       "      <th>...</th>\n",
       "      <th>channel_0_172</th>\n",
       "      <th>channel_0_173</th>\n",
       "      <th>channel_0_174</th>\n",
       "      <th>channel_0_175</th>\n",
       "      <th>channel_0_176</th>\n",
       "      <th>channel_0_177</th>\n",
       "      <th>channel_0_178</th>\n",
       "      <th>channel_0_179</th>\n",
       "      <th>channel_0_180</th>\n",
       "      <th>channel_0_181</th>\n",
       "    </tr>\n",
       "  </thead>\n",
       "  <tbody>\n",
       "    <tr>\n",
       "      <th>0</th>\n",
       "      <td>-0.13015</td>\n",
       "      <td>-0.183121</td>\n",
       "      <td>-0.234104</td>\n",
       "      <td>-0.279929</td>\n",
       "      <td>-0.321851</td>\n",
       "      <td>-0.363783</td>\n",
       "      <td>-0.4095</td>\n",
       "      <td>-0.460814</td>\n",
       "      <td>-0.517526</td>\n",
       "      <td>-0.57844</td>\n",
       "      <td>...</td>\n",
       "      <td>0.673591</td>\n",
       "      <td>0.673591</td>\n",
       "      <td>0.673591</td>\n",
       "      <td>0.673591</td>\n",
       "      <td>0.673591</td>\n",
       "      <td>0.673591</td>\n",
       "      <td>0.673591</td>\n",
       "      <td>0.673591</td>\n",
       "      <td>0.673591</td>\n",
       "      <td>0.673591</td>\n",
       "    </tr>\n",
       "  </tbody>\n",
       "</table>\n",
       "<p>1 rows × 182 columns</p>\n",
       "</div>"
      ],
      "text/plain": [
       "   channel_0_0  channel_0_1  channel_0_2  channel_0_3  channel_0_4  \\\n",
       "0     -0.13015    -0.183121    -0.234104    -0.279929    -0.321851   \n",
       "\n",
       "   channel_0_5  channel_0_6  channel_0_7  channel_0_8  channel_0_9  ...  \\\n",
       "0    -0.363783      -0.4095    -0.460814    -0.517526     -0.57844  ...   \n",
       "\n",
       "   channel_0_172  channel_0_173  channel_0_174  channel_0_175  channel_0_176  \\\n",
       "0       0.673591       0.673591       0.673591       0.673591       0.673591   \n",
       "\n",
       "   channel_0_177  channel_0_178  channel_0_179  channel_0_180  channel_0_181  \n",
       "0       0.673591       0.673591       0.673591       0.673591       0.673591  \n",
       "\n",
       "[1 rows x 182 columns]"
      ]
     },
     "execution_count": 173,
     "metadata": {},
     "output_type": "execute_result"
    }
   ],
   "source": [
    "df_D1.head(1)"
   ]
  },
  {
   "cell_type": "code",
   "execution_count": 174,
   "metadata": {},
   "outputs": [
    {
     "data": {
      "text/html": [
       "<div>\n",
       "<style scoped>\n",
       "    .dataframe tbody tr th:only-of-type {\n",
       "        vertical-align: middle;\n",
       "    }\n",
       "\n",
       "    .dataframe tbody tr th {\n",
       "        vertical-align: top;\n",
       "    }\n",
       "\n",
       "    .dataframe thead th {\n",
       "        text-align: right;\n",
       "    }\n",
       "</style>\n",
       "<table border=\"1\" class=\"dataframe\">\n",
       "  <thead>\n",
       "    <tr style=\"text-align: right;\">\n",
       "      <th></th>\n",
       "      <th>channel_1_0</th>\n",
       "      <th>channel_1_1</th>\n",
       "      <th>channel_1_2</th>\n",
       "      <th>channel_1_3</th>\n",
       "      <th>channel_1_4</th>\n",
       "      <th>channel_1_5</th>\n",
       "      <th>channel_1_6</th>\n",
       "      <th>channel_1_7</th>\n",
       "      <th>channel_1_8</th>\n",
       "      <th>channel_1_9</th>\n",
       "      <th>...</th>\n",
       "      <th>channel_1_172</th>\n",
       "      <th>channel_1_173</th>\n",
       "      <th>channel_1_174</th>\n",
       "      <th>channel_1_175</th>\n",
       "      <th>channel_1_176</th>\n",
       "      <th>channel_1_177</th>\n",
       "      <th>channel_1_178</th>\n",
       "      <th>channel_1_179</th>\n",
       "      <th>channel_1_180</th>\n",
       "      <th>channel_1_181</th>\n",
       "    </tr>\n",
       "  </thead>\n",
       "  <tbody>\n",
       "    <tr>\n",
       "      <th>0</th>\n",
       "      <td>0.071323</td>\n",
       "      <td>0.083973</td>\n",
       "      <td>0.085534</td>\n",
       "      <td>0.078218</td>\n",
       "      <td>0.067093</td>\n",
       "      <td>0.05552</td>\n",
       "      <td>0.043275</td>\n",
       "      <td>0.027787</td>\n",
       "      <td>0.005932</td>\n",
       "      <td>-0.025043</td>\n",
       "      <td>...</td>\n",
       "      <td>0.544228</td>\n",
       "      <td>0.544228</td>\n",
       "      <td>0.544228</td>\n",
       "      <td>0.544228</td>\n",
       "      <td>0.544228</td>\n",
       "      <td>0.544228</td>\n",
       "      <td>0.544228</td>\n",
       "      <td>0.544228</td>\n",
       "      <td>0.544228</td>\n",
       "      <td>0.544228</td>\n",
       "    </tr>\n",
       "  </tbody>\n",
       "</table>\n",
       "<p>1 rows × 182 columns</p>\n",
       "</div>"
      ],
      "text/plain": [
       "   channel_1_0  channel_1_1  channel_1_2  channel_1_3  channel_1_4  \\\n",
       "0     0.071323     0.083973     0.085534     0.078218     0.067093   \n",
       "\n",
       "   channel_1_5  channel_1_6  channel_1_7  channel_1_8  channel_1_9  ...  \\\n",
       "0      0.05552     0.043275     0.027787     0.005932    -0.025043  ...   \n",
       "\n",
       "   channel_1_172  channel_1_173  channel_1_174  channel_1_175  channel_1_176  \\\n",
       "0       0.544228       0.544228       0.544228       0.544228       0.544228   \n",
       "\n",
       "   channel_1_177  channel_1_178  channel_1_179  channel_1_180  channel_1_181  \n",
       "0       0.544228       0.544228       0.544228       0.544228       0.544228  \n",
       "\n",
       "[1 rows x 182 columns]"
      ]
     },
     "execution_count": 174,
     "metadata": {},
     "output_type": "execute_result"
    }
   ],
   "source": [
    "df_D2.head(1)"
   ]
  },
  {
   "cell_type": "code",
   "execution_count": 175,
   "metadata": {},
   "outputs": [
    {
     "data": {
      "text/html": [
       "<div>\n",
       "<style scoped>\n",
       "    .dataframe tbody tr th:only-of-type {\n",
       "        vertical-align: middle;\n",
       "    }\n",
       "\n",
       "    .dataframe tbody tr th {\n",
       "        vertical-align: top;\n",
       "    }\n",
       "\n",
       "    .dataframe thead th {\n",
       "        text-align: right;\n",
       "    }\n",
       "</style>\n",
       "<table border=\"1\" class=\"dataframe\">\n",
       "  <thead>\n",
       "    <tr style=\"text-align: right;\">\n",
       "      <th></th>\n",
       "      <th>channel_2_0</th>\n",
       "      <th>channel_2_1</th>\n",
       "      <th>channel_2_2</th>\n",
       "      <th>channel_2_3</th>\n",
       "      <th>channel_2_4</th>\n",
       "      <th>channel_2_5</th>\n",
       "      <th>channel_2_6</th>\n",
       "      <th>channel_2_7</th>\n",
       "      <th>channel_2_8</th>\n",
       "      <th>channel_2_9</th>\n",
       "      <th>...</th>\n",
       "      <th>channel_2_172</th>\n",
       "      <th>channel_2_173</th>\n",
       "      <th>channel_2_174</th>\n",
       "      <th>channel_2_175</th>\n",
       "      <th>channel_2_176</th>\n",
       "      <th>channel_2_177</th>\n",
       "      <th>channel_2_178</th>\n",
       "      <th>channel_2_179</th>\n",
       "      <th>channel_2_180</th>\n",
       "      <th>channel_2_181</th>\n",
       "    </tr>\n",
       "  </thead>\n",
       "  <tbody>\n",
       "    <tr>\n",
       "      <th>0</th>\n",
       "      <td>0.899306</td>\n",
       "      <td>1.157239</td>\n",
       "      <td>1.320469</td>\n",
       "      <td>1.369472</td>\n",
       "      <td>1.323889</td>\n",
       "      <td>1.221704</td>\n",
       "      <td>1.098215</td>\n",
       "      <td>0.979016</td>\n",
       "      <td>0.880755</td>\n",
       "      <td>0.806413</td>\n",
       "      <td>...</td>\n",
       "      <td>-1.059098</td>\n",
       "      <td>-1.059098</td>\n",
       "      <td>-1.059098</td>\n",
       "      <td>-1.059098</td>\n",
       "      <td>-1.059098</td>\n",
       "      <td>-1.059098</td>\n",
       "      <td>-1.059098</td>\n",
       "      <td>-1.059098</td>\n",
       "      <td>-1.059098</td>\n",
       "      <td>-1.059098</td>\n",
       "    </tr>\n",
       "  </tbody>\n",
       "</table>\n",
       "<p>1 rows × 182 columns</p>\n",
       "</div>"
      ],
      "text/plain": [
       "   channel_2_0  channel_2_1  channel_2_2  channel_2_3  channel_2_4  \\\n",
       "0     0.899306     1.157239     1.320469     1.369472     1.323889   \n",
       "\n",
       "   channel_2_5  channel_2_6  channel_2_7  channel_2_8  channel_2_9  ...  \\\n",
       "0     1.221704     1.098215     0.979016     0.880755     0.806413  ...   \n",
       "\n",
       "   channel_2_172  channel_2_173  channel_2_174  channel_2_175  channel_2_176  \\\n",
       "0      -1.059098      -1.059098      -1.059098      -1.059098      -1.059098   \n",
       "\n",
       "   channel_2_177  channel_2_178  channel_2_179  channel_2_180  channel_2_181  \n",
       "0      -1.059098      -1.059098      -1.059098      -1.059098      -1.059098  \n",
       "\n",
       "[1 rows x 182 columns]"
      ]
     },
     "execution_count": 175,
     "metadata": {},
     "output_type": "execute_result"
    }
   ],
   "source": [
    "df_D3.head(1)"
   ]
  },
  {
   "cell_type": "code",
   "execution_count": 176,
   "metadata": {},
   "outputs": [],
   "source": [
    "df_D1_T = df_D1.head(1).T\n",
    "df_D2_T = df_D2.head(1).T\n",
    "df_D3_T = df_D3.head(1).T"
   ]
  },
  {
   "cell_type": "code",
   "execution_count": 177,
   "metadata": {},
   "outputs": [],
   "source": [
    "arr1 = df_D1_T.to_numpy()\n",
    "arr2 = df_D2_T.to_numpy()\n",
    "arr3 = df_D3_T.to_numpy()"
   ]
  },
  {
   "cell_type": "code",
   "execution_count": 178,
   "metadata": {},
   "outputs": [],
   "source": [
    "finalarray_training_data = np.concatenate((arr1, arr2),axis=1)"
   ]
  },
  {
   "cell_type": "code",
   "execution_count": 179,
   "metadata": {},
   "outputs": [],
   "source": [
    "finalarray_training_data = np.concatenate((finalarray_training_data, arr3),axis=1)"
   ]
  },
  {
   "cell_type": "markdown",
   "metadata": {},
   "source": [
    "Getting Row2 D1-D3"
   ]
  },
  {
   "cell_type": "code",
   "execution_count": 180,
   "metadata": {},
   "outputs": [],
   "source": [
    "df_D1_Row2 = df_D1.head(2)\n",
    "df_D2_Row2 = df_D2.head(2)\n",
    "df_D3_Row2 = df_D3.head(2)"
   ]
  },
  {
   "cell_type": "code",
   "execution_count": 181,
   "metadata": {},
   "outputs": [],
   "source": [
    "df_D1_Row2 = df_D1_Row2.drop(df_D1_Row2.index[0]).T\n",
    "df_D2_Row2 = df_D2_Row2.drop(df_D2_Row2.index[0]).T\n",
    "df_D3_Row2 = df_D3_Row2.drop(df_D3_Row2.index[0]).T"
   ]
  },
  {
   "cell_type": "code",
   "execution_count": 182,
   "metadata": {},
   "outputs": [],
   "source": [
    "arr4 = df_D1_Row2\n",
    "arr5 = df_D2_Row2\n",
    "arr6 = df_D3_Row2"
   ]
  },
  {
   "cell_type": "code",
   "execution_count": 183,
   "metadata": {},
   "outputs": [],
   "source": [
    "finalarray_training_data_row2 = np.concatenate((arr4, arr5),axis=1)"
   ]
  },
  {
   "cell_type": "code",
   "execution_count": 184,
   "metadata": {},
   "outputs": [],
   "source": [
    "finalarray_training_data_row2 = np.concatenate((finalarray_training_data_row2, arr6),axis=1)"
   ]
  },
  {
   "cell_type": "markdown",
   "metadata": {},
   "source": [
    "Getting Row3 D1-D3"
   ]
  },
  {
   "cell_type": "code",
   "execution_count": 185,
   "metadata": {},
   "outputs": [],
   "source": [
    "df_D1_Row3 = df_D1.head(3)\n",
    "df_D2_Row3 = df_D2.head(3)\n",
    "df_D3_Row3 = df_D3.head(3)"
   ]
  },
  {
   "cell_type": "code",
   "execution_count": 186,
   "metadata": {},
   "outputs": [
    {
     "data": {
      "text/html": [
       "<div>\n",
       "<style scoped>\n",
       "    .dataframe tbody tr th:only-of-type {\n",
       "        vertical-align: middle;\n",
       "    }\n",
       "\n",
       "    .dataframe tbody tr th {\n",
       "        vertical-align: top;\n",
       "    }\n",
       "\n",
       "    .dataframe thead th {\n",
       "        text-align: right;\n",
       "    }\n",
       "</style>\n",
       "<table border=\"1\" class=\"dataframe\">\n",
       "  <thead>\n",
       "    <tr style=\"text-align: right;\">\n",
       "      <th></th>\n",
       "      <th>channel_0_0</th>\n",
       "      <th>channel_0_1</th>\n",
       "      <th>channel_0_2</th>\n",
       "      <th>channel_0_3</th>\n",
       "      <th>channel_0_4</th>\n",
       "      <th>channel_0_5</th>\n",
       "      <th>channel_0_6</th>\n",
       "      <th>channel_0_7</th>\n",
       "      <th>channel_0_8</th>\n",
       "      <th>channel_0_9</th>\n",
       "      <th>...</th>\n",
       "      <th>channel_0_172</th>\n",
       "      <th>channel_0_173</th>\n",
       "      <th>channel_0_174</th>\n",
       "      <th>channel_0_175</th>\n",
       "      <th>channel_0_176</th>\n",
       "      <th>channel_0_177</th>\n",
       "      <th>channel_0_178</th>\n",
       "      <th>channel_0_179</th>\n",
       "      <th>channel_0_180</th>\n",
       "      <th>channel_0_181</th>\n",
       "    </tr>\n",
       "  </thead>\n",
       "  <tbody>\n",
       "    <tr>\n",
       "      <th>0</th>\n",
       "      <td>-0.130150</td>\n",
       "      <td>-0.183121</td>\n",
       "      <td>-0.234104</td>\n",
       "      <td>-0.279929</td>\n",
       "      <td>-0.321851</td>\n",
       "      <td>-0.363783</td>\n",
       "      <td>-0.409500</td>\n",
       "      <td>-0.460814</td>\n",
       "      <td>-0.517526</td>\n",
       "      <td>-0.578440</td>\n",
       "      <td>...</td>\n",
       "      <td>0.673591</td>\n",
       "      <td>0.673591</td>\n",
       "      <td>0.673591</td>\n",
       "      <td>0.673591</td>\n",
       "      <td>0.673591</td>\n",
       "      <td>0.673591</td>\n",
       "      <td>0.673591</td>\n",
       "      <td>0.673591</td>\n",
       "      <td>0.673591</td>\n",
       "      <td>0.673591</td>\n",
       "    </tr>\n",
       "    <tr>\n",
       "      <th>1</th>\n",
       "      <td>-0.085541</td>\n",
       "      <td>-0.114704</td>\n",
       "      <td>-0.141445</td>\n",
       "      <td>-0.166160</td>\n",
       "      <td>-0.191072</td>\n",
       "      <td>-0.218434</td>\n",
       "      <td>-0.249653</td>\n",
       "      <td>-0.285248</td>\n",
       "      <td>-0.325004</td>\n",
       "      <td>-0.368095</td>\n",
       "      <td>...</td>\n",
       "      <td>0.303218</td>\n",
       "      <td>0.303218</td>\n",
       "      <td>0.303218</td>\n",
       "      <td>0.303218</td>\n",
       "      <td>0.303218</td>\n",
       "      <td>0.303218</td>\n",
       "      <td>0.303218</td>\n",
       "      <td>0.303218</td>\n",
       "      <td>0.303218</td>\n",
       "      <td>0.303218</td>\n",
       "    </tr>\n",
       "    <tr>\n",
       "      <th>2</th>\n",
       "      <td>-0.026161</td>\n",
       "      <td>-0.037501</td>\n",
       "      <td>-0.048952</td>\n",
       "      <td>-0.061438</td>\n",
       "      <td>-0.077020</td>\n",
       "      <td>-0.097312</td>\n",
       "      <td>-0.122992</td>\n",
       "      <td>-0.154525</td>\n",
       "      <td>-0.192382</td>\n",
       "      <td>-0.236238</td>\n",
       "      <td>...</td>\n",
       "      <td>0.252342</td>\n",
       "      <td>0.252342</td>\n",
       "      <td>0.252342</td>\n",
       "      <td>0.252342</td>\n",
       "      <td>0.252342</td>\n",
       "      <td>0.252342</td>\n",
       "      <td>0.252342</td>\n",
       "      <td>0.252342</td>\n",
       "      <td>0.252342</td>\n",
       "      <td>0.252342</td>\n",
       "    </tr>\n",
       "  </tbody>\n",
       "</table>\n",
       "<p>3 rows × 182 columns</p>\n",
       "</div>"
      ],
      "text/plain": [
       "   channel_0_0  channel_0_1  channel_0_2  channel_0_3  channel_0_4  \\\n",
       "0    -0.130150    -0.183121    -0.234104    -0.279929    -0.321851   \n",
       "1    -0.085541    -0.114704    -0.141445    -0.166160    -0.191072   \n",
       "2    -0.026161    -0.037501    -0.048952    -0.061438    -0.077020   \n",
       "\n",
       "   channel_0_5  channel_0_6  channel_0_7  channel_0_8  channel_0_9  ...  \\\n",
       "0    -0.363783    -0.409500    -0.460814    -0.517526    -0.578440  ...   \n",
       "1    -0.218434    -0.249653    -0.285248    -0.325004    -0.368095  ...   \n",
       "2    -0.097312    -0.122992    -0.154525    -0.192382    -0.236238  ...   \n",
       "\n",
       "   channel_0_172  channel_0_173  channel_0_174  channel_0_175  channel_0_176  \\\n",
       "0       0.673591       0.673591       0.673591       0.673591       0.673591   \n",
       "1       0.303218       0.303218       0.303218       0.303218       0.303218   \n",
       "2       0.252342       0.252342       0.252342       0.252342       0.252342   \n",
       "\n",
       "   channel_0_177  channel_0_178  channel_0_179  channel_0_180  channel_0_181  \n",
       "0       0.673591       0.673591       0.673591       0.673591       0.673591  \n",
       "1       0.303218       0.303218       0.303218       0.303218       0.303218  \n",
       "2       0.252342       0.252342       0.252342       0.252342       0.252342  \n",
       "\n",
       "[3 rows x 182 columns]"
      ]
     },
     "execution_count": 186,
     "metadata": {},
     "output_type": "execute_result"
    }
   ],
   "source": [
    "df_D1_Row3"
   ]
  },
  {
   "cell_type": "code",
   "execution_count": 187,
   "metadata": {},
   "outputs": [],
   "source": [
    "df_D1_Row3 = df_D1_Row3.drop(df_D1_Row3.index[0:2])\n",
    "df_D2_Row3 = df_D2_Row3.drop(df_D2_Row3.index[0:2])\n",
    "df_D3_Row3 = df_D3_Row3.drop(df_D3_Row3.index[0:2])"
   ]
  },
  {
   "cell_type": "code",
   "execution_count": 188,
   "metadata": {},
   "outputs": [
    {
     "data": {
      "text/html": [
       "<div>\n",
       "<style scoped>\n",
       "    .dataframe tbody tr th:only-of-type {\n",
       "        vertical-align: middle;\n",
       "    }\n",
       "\n",
       "    .dataframe tbody tr th {\n",
       "        vertical-align: top;\n",
       "    }\n",
       "\n",
       "    .dataframe thead th {\n",
       "        text-align: right;\n",
       "    }\n",
       "</style>\n",
       "<table border=\"1\" class=\"dataframe\">\n",
       "  <thead>\n",
       "    <tr style=\"text-align: right;\">\n",
       "      <th></th>\n",
       "      <th>channel_0_0</th>\n",
       "      <th>channel_0_1</th>\n",
       "      <th>channel_0_2</th>\n",
       "      <th>channel_0_3</th>\n",
       "      <th>channel_0_4</th>\n",
       "      <th>channel_0_5</th>\n",
       "      <th>channel_0_6</th>\n",
       "      <th>channel_0_7</th>\n",
       "      <th>channel_0_8</th>\n",
       "      <th>channel_0_9</th>\n",
       "      <th>...</th>\n",
       "      <th>channel_0_172</th>\n",
       "      <th>channel_0_173</th>\n",
       "      <th>channel_0_174</th>\n",
       "      <th>channel_0_175</th>\n",
       "      <th>channel_0_176</th>\n",
       "      <th>channel_0_177</th>\n",
       "      <th>channel_0_178</th>\n",
       "      <th>channel_0_179</th>\n",
       "      <th>channel_0_180</th>\n",
       "      <th>channel_0_181</th>\n",
       "    </tr>\n",
       "  </thead>\n",
       "  <tbody>\n",
       "    <tr>\n",
       "      <th>2</th>\n",
       "      <td>-0.026161</td>\n",
       "      <td>-0.037501</td>\n",
       "      <td>-0.048952</td>\n",
       "      <td>-0.061438</td>\n",
       "      <td>-0.07702</td>\n",
       "      <td>-0.097312</td>\n",
       "      <td>-0.122992</td>\n",
       "      <td>-0.154525</td>\n",
       "      <td>-0.192382</td>\n",
       "      <td>-0.236238</td>\n",
       "      <td>...</td>\n",
       "      <td>0.252342</td>\n",
       "      <td>0.252342</td>\n",
       "      <td>0.252342</td>\n",
       "      <td>0.252342</td>\n",
       "      <td>0.252342</td>\n",
       "      <td>0.252342</td>\n",
       "      <td>0.252342</td>\n",
       "      <td>0.252342</td>\n",
       "      <td>0.252342</td>\n",
       "      <td>0.252342</td>\n",
       "    </tr>\n",
       "  </tbody>\n",
       "</table>\n",
       "<p>1 rows × 182 columns</p>\n",
       "</div>"
      ],
      "text/plain": [
       "   channel_0_0  channel_0_1  channel_0_2  channel_0_3  channel_0_4  \\\n",
       "2    -0.026161    -0.037501    -0.048952    -0.061438     -0.07702   \n",
       "\n",
       "   channel_0_5  channel_0_6  channel_0_7  channel_0_8  channel_0_9  ...  \\\n",
       "2    -0.097312    -0.122992    -0.154525    -0.192382    -0.236238  ...   \n",
       "\n",
       "   channel_0_172  channel_0_173  channel_0_174  channel_0_175  channel_0_176  \\\n",
       "2       0.252342       0.252342       0.252342       0.252342       0.252342   \n",
       "\n",
       "   channel_0_177  channel_0_178  channel_0_179  channel_0_180  channel_0_181  \n",
       "2       0.252342       0.252342       0.252342       0.252342       0.252342  \n",
       "\n",
       "[1 rows x 182 columns]"
      ]
     },
     "execution_count": 188,
     "metadata": {},
     "output_type": "execute_result"
    }
   ],
   "source": [
    "df_D1_Row3"
   ]
  },
  {
   "cell_type": "code",
   "execution_count": 189,
   "metadata": {},
   "outputs": [
    {
     "data": {
      "text/html": [
       "<div>\n",
       "<style scoped>\n",
       "    .dataframe tbody tr th:only-of-type {\n",
       "        vertical-align: middle;\n",
       "    }\n",
       "\n",
       "    .dataframe tbody tr th {\n",
       "        vertical-align: top;\n",
       "    }\n",
       "\n",
       "    .dataframe thead th {\n",
       "        text-align: right;\n",
       "    }\n",
       "</style>\n",
       "<table border=\"1\" class=\"dataframe\">\n",
       "  <thead>\n",
       "    <tr style=\"text-align: right;\">\n",
       "      <th></th>\n",
       "      <th>channel_1_0</th>\n",
       "      <th>channel_1_1</th>\n",
       "      <th>channel_1_2</th>\n",
       "      <th>channel_1_3</th>\n",
       "      <th>channel_1_4</th>\n",
       "      <th>channel_1_5</th>\n",
       "      <th>channel_1_6</th>\n",
       "      <th>channel_1_7</th>\n",
       "      <th>channel_1_8</th>\n",
       "      <th>channel_1_9</th>\n",
       "      <th>...</th>\n",
       "      <th>channel_1_172</th>\n",
       "      <th>channel_1_173</th>\n",
       "      <th>channel_1_174</th>\n",
       "      <th>channel_1_175</th>\n",
       "      <th>channel_1_176</th>\n",
       "      <th>channel_1_177</th>\n",
       "      <th>channel_1_178</th>\n",
       "      <th>channel_1_179</th>\n",
       "      <th>channel_1_180</th>\n",
       "      <th>channel_1_181</th>\n",
       "    </tr>\n",
       "  </thead>\n",
       "  <tbody>\n",
       "    <tr>\n",
       "      <th>2</th>\n",
       "      <td>0.053789</td>\n",
       "      <td>0.074516</td>\n",
       "      <td>0.094246</td>\n",
       "      <td>0.111463</td>\n",
       "      <td>0.125568</td>\n",
       "      <td>0.136576</td>\n",
       "      <td>0.144678</td>\n",
       "      <td>0.149621</td>\n",
       "      <td>0.150365</td>\n",
       "      <td>0.145481</td>\n",
       "      <td>...</td>\n",
       "      <td>0.341818</td>\n",
       "      <td>0.341818</td>\n",
       "      <td>0.341818</td>\n",
       "      <td>0.341818</td>\n",
       "      <td>0.341818</td>\n",
       "      <td>0.341818</td>\n",
       "      <td>0.341818</td>\n",
       "      <td>0.341818</td>\n",
       "      <td>0.341818</td>\n",
       "      <td>0.341818</td>\n",
       "    </tr>\n",
       "  </tbody>\n",
       "</table>\n",
       "<p>1 rows × 182 columns</p>\n",
       "</div>"
      ],
      "text/plain": [
       "   channel_1_0  channel_1_1  channel_1_2  channel_1_3  channel_1_4  \\\n",
       "2     0.053789     0.074516     0.094246     0.111463     0.125568   \n",
       "\n",
       "   channel_1_5  channel_1_6  channel_1_7  channel_1_8  channel_1_9  ...  \\\n",
       "2     0.136576     0.144678     0.149621     0.150365     0.145481  ...   \n",
       "\n",
       "   channel_1_172  channel_1_173  channel_1_174  channel_1_175  channel_1_176  \\\n",
       "2       0.341818       0.341818       0.341818       0.341818       0.341818   \n",
       "\n",
       "   channel_1_177  channel_1_178  channel_1_179  channel_1_180  channel_1_181  \n",
       "2       0.341818       0.341818       0.341818       0.341818       0.341818  \n",
       "\n",
       "[1 rows x 182 columns]"
      ]
     },
     "execution_count": 189,
     "metadata": {},
     "output_type": "execute_result"
    }
   ],
   "source": [
    "df_D2_Row3"
   ]
  },
  {
   "cell_type": "code",
   "execution_count": 190,
   "metadata": {},
   "outputs": [
    {
     "data": {
      "text/html": [
       "<div>\n",
       "<style scoped>\n",
       "    .dataframe tbody tr th:only-of-type {\n",
       "        vertical-align: middle;\n",
       "    }\n",
       "\n",
       "    .dataframe tbody tr th {\n",
       "        vertical-align: top;\n",
       "    }\n",
       "\n",
       "    .dataframe thead th {\n",
       "        text-align: right;\n",
       "    }\n",
       "</style>\n",
       "<table border=\"1\" class=\"dataframe\">\n",
       "  <thead>\n",
       "    <tr style=\"text-align: right;\">\n",
       "      <th></th>\n",
       "      <th>channel_2_0</th>\n",
       "      <th>channel_2_1</th>\n",
       "      <th>channel_2_2</th>\n",
       "      <th>channel_2_3</th>\n",
       "      <th>channel_2_4</th>\n",
       "      <th>channel_2_5</th>\n",
       "      <th>channel_2_6</th>\n",
       "      <th>channel_2_7</th>\n",
       "      <th>channel_2_8</th>\n",
       "      <th>channel_2_9</th>\n",
       "      <th>...</th>\n",
       "      <th>channel_2_172</th>\n",
       "      <th>channel_2_173</th>\n",
       "      <th>channel_2_174</th>\n",
       "      <th>channel_2_175</th>\n",
       "      <th>channel_2_176</th>\n",
       "      <th>channel_2_177</th>\n",
       "      <th>channel_2_178</th>\n",
       "      <th>channel_2_179</th>\n",
       "      <th>channel_2_180</th>\n",
       "      <th>channel_2_181</th>\n",
       "    </tr>\n",
       "  </thead>\n",
       "  <tbody>\n",
       "    <tr>\n",
       "      <th>2</th>\n",
       "      <td>0.617474</td>\n",
       "      <td>0.790598</td>\n",
       "      <td>0.919484</td>\n",
       "      <td>1.005883</td>\n",
       "      <td>1.059747</td>\n",
       "      <td>1.084251</td>\n",
       "      <td>1.078967</td>\n",
       "      <td>1.049666</td>\n",
       "      <td>1.005971</td>\n",
       "      <td>0.950621</td>\n",
       "      <td>...</td>\n",
       "      <td>-1.223227</td>\n",
       "      <td>-1.223227</td>\n",
       "      <td>-1.223227</td>\n",
       "      <td>-1.223227</td>\n",
       "      <td>-1.223227</td>\n",
       "      <td>-1.223227</td>\n",
       "      <td>-1.223227</td>\n",
       "      <td>-1.223227</td>\n",
       "      <td>-1.223227</td>\n",
       "      <td>-1.223227</td>\n",
       "    </tr>\n",
       "  </tbody>\n",
       "</table>\n",
       "<p>1 rows × 182 columns</p>\n",
       "</div>"
      ],
      "text/plain": [
       "   channel_2_0  channel_2_1  channel_2_2  channel_2_3  channel_2_4  \\\n",
       "2     0.617474     0.790598     0.919484     1.005883     1.059747   \n",
       "\n",
       "   channel_2_5  channel_2_6  channel_2_7  channel_2_8  channel_2_9  ...  \\\n",
       "2     1.084251     1.078967     1.049666     1.005971     0.950621  ...   \n",
       "\n",
       "   channel_2_172  channel_2_173  channel_2_174  channel_2_175  channel_2_176  \\\n",
       "2      -1.223227      -1.223227      -1.223227      -1.223227      -1.223227   \n",
       "\n",
       "   channel_2_177  channel_2_178  channel_2_179  channel_2_180  channel_2_181  \n",
       "2      -1.223227      -1.223227      -1.223227      -1.223227      -1.223227  \n",
       "\n",
       "[1 rows x 182 columns]"
      ]
     },
     "execution_count": 190,
     "metadata": {},
     "output_type": "execute_result"
    }
   ],
   "source": [
    "df_D3_Row3"
   ]
  },
  {
   "cell_type": "code",
   "execution_count": 191,
   "metadata": {},
   "outputs": [],
   "source": [
    "df_D1_Row3 = df_D1_Row3.T\n",
    "df_D2_Row3 = df_D2_Row3.T\n",
    "df_D3_Row3 = df_D3_Row3.T"
   ]
  },
  {
   "cell_type": "code",
   "execution_count": 192,
   "metadata": {},
   "outputs": [],
   "source": [
    "arr7 = df_D1_Row3\n",
    "arr8 = df_D2_Row3\n",
    "arr9 = df_D3_Row3"
   ]
  },
  {
   "cell_type": "code",
   "execution_count": 193,
   "metadata": {},
   "outputs": [],
   "source": [
    "finalarray_training_data_row3 = np.concatenate((arr7, arr8),axis=1)"
   ]
  },
  {
   "cell_type": "code",
   "execution_count": 194,
   "metadata": {},
   "outputs": [],
   "source": [
    "finalarray_training_data_row3 = np.concatenate((finalarray_training_data_row3, arr9),axis=1)"
   ]
  },
  {
   "cell_type": "code",
   "execution_count": 196,
   "metadata": {},
   "outputs": [],
   "source": [
    "Row1 = np.copy(finalarray_training_data)\n",
    "Row2 = np.copy(finalarray_training_data_row2)\n",
    "Row3 = np.copy(finalarray_training_data_row3)"
   ]
  },
  {
   "cell_type": "code",
   "execution_count": 198,
   "metadata": {},
   "outputs": [],
   "source": [
    "Final_View = np.concatenate((Row1, Row2),axis=0)"
   ]
  },
  {
   "cell_type": "code",
   "execution_count": 199,
   "metadata": {},
   "outputs": [],
   "source": [
    "Final_View = np.concatenate((Final_View, Row3),axis=0)"
   ]
  },
  {
   "cell_type": "code",
   "execution_count": 202,
   "metadata": {},
   "outputs": [
    {
     "data": {
      "text/plain": [
       "(546, 3)"
      ]
     },
     "execution_count": 202,
     "metadata": {},
     "output_type": "execute_result"
    }
   ],
   "source": [
    "Final_View.shape"
   ]
  },
  {
   "cell_type": "code",
   "execution_count": 154,
   "metadata": {},
   "outputs": [],
   "source": [
    "# # getting col\n",
    "\n",
    "\n",
    "# replace_Val = 0\n",
    "# i = 0\n",
    "# NullValue = 'NaN'\n",
    "# for i in range(181):\n",
    "#     as_string = str(i)\n",
    "#     VAR =  X['channel_0_' + as_string]\n",
    "#     if np.isnan(VAR[0]):\n",
    "#         as_integer = int(i)\n",
    "#         VAR = VAR.replace([VAR[0]],replace_Val)\n",
    "# #         VAR[0] = VAR[0]-1\n",
    "#         print(VAR[0])\n",
    "#     else:\n",
    "#         replace_Val = VAR[0]\n",
    "        \n",
    "        \n",
    "  "
   ]
  }
 ],
 "metadata": {
  "kernelspec": {
   "display_name": "Python 3",
   "language": "python",
   "name": "python3"
  },
  "language_info": {
   "codemirror_mode": {
    "name": "ipython",
    "version": 3
   },
   "file_extension": ".py",
   "mimetype": "text/x-python",
   "name": "python",
   "nbconvert_exporter": "python",
   "pygments_lexer": "ipython3",
   "version": "3.7.6"
  }
 },
 "nbformat": 4,
 "nbformat_minor": 4
}
